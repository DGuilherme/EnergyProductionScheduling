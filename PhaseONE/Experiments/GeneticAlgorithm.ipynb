{
  "nbformat": 4,
  "nbformat_minor": 0,
  "metadata": {
    "colab": {
      "name": "GeneticAlgorithm.ipynb",
      "provenance": [],
      "collapsed_sections": [],
      "authorship_tag": "ABX9TyMt2uuj257R3vKAzzQkuC4F",
      "include_colab_link": true
    },
    "kernelspec": {
      "name": "python3",
      "display_name": "Python 3"
    },
    "language_info": {
      "name": "python"
    }
  },
  "cells": [
    {
      "cell_type": "markdown",
      "metadata": {
        "id": "view-in-github",
        "colab_type": "text"
      },
      "source": [
        "<a href=\"https://colab.research.google.com/github/DGuilherme/EnergyProductionScheduling/blob/main/PhaseONE/Experiments/GeneticAlgorithm.ipynb\" target=\"_parent\"><img src=\"https://colab.research.google.com/assets/colab-badge.svg\" alt=\"Open In Colab\"/></a>"
      ]
    },
    {
      "cell_type": "markdown",
      "source": [
        "# Genetic Algorithm Implmentation\n",
        "*A stochastic global optimization algorithm*"
      ],
      "metadata": {
        "id": "N0Uf-FX9ybky"
      }
    },
    {
      "cell_type": "markdown",
      "source": [
        "# Imports\n"
      ],
      "metadata": {
        "id": "Du_jiZ46yi00"
      }
    },
    {
      "cell_type": "code",
      "source": [
        "# install GA library\n",
        "!pip install pygad"
      ],
      "metadata": {
        "colab": {
          "base_uri": "https://localhost:8080/"
        },
        "id": "v_wjQSJgl5iz",
        "outputId": "60ffaef4-b92a-4162-dbf9-2993d701afe9"
      },
      "execution_count": 1,
      "outputs": [
        {
          "output_type": "stream",
          "name": "stdout",
          "text": [
            "Collecting pygad\n",
            "  Downloading pygad-2.16.1-py3-none-any.whl (53 kB)\n",
            "\u001b[?25l\r\u001b[K     |██████▏                         | 10 kB 26.3 MB/s eta 0:00:01\r\u001b[K     |████████████▎                   | 20 kB 11.2 MB/s eta 0:00:01\r\u001b[K     |██████████████████▍             | 30 kB 8.9 MB/s eta 0:00:01\r\u001b[K     |████████████████████████▌       | 40 kB 7.9 MB/s eta 0:00:01\r\u001b[K     |██████████████████████████████▋ | 51 kB 4.6 MB/s eta 0:00:01\r\u001b[K     |████████████████████████████████| 53 kB 1.4 MB/s \n",
            "\u001b[?25hRequirement already satisfied: matplotlib in /usr/local/lib/python3.7/dist-packages (from pygad) (3.2.2)\n",
            "Requirement already satisfied: numpy in /usr/local/lib/python3.7/dist-packages (from pygad) (1.19.5)\n",
            "Requirement already satisfied: pyparsing!=2.0.4,!=2.1.2,!=2.1.6,>=2.0.1 in /usr/local/lib/python3.7/dist-packages (from matplotlib->pygad) (3.0.7)\n",
            "Requirement already satisfied: kiwisolver>=1.0.1 in /usr/local/lib/python3.7/dist-packages (from matplotlib->pygad) (1.3.2)\n",
            "Requirement already satisfied: python-dateutil>=2.1 in /usr/local/lib/python3.7/dist-packages (from matplotlib->pygad) (2.8.2)\n",
            "Requirement already satisfied: cycler>=0.10 in /usr/local/lib/python3.7/dist-packages (from matplotlib->pygad) (0.11.0)\n",
            "Requirement already satisfied: six>=1.5 in /usr/local/lib/python3.7/dist-packages (from python-dateutil>=2.1->matplotlib->pygad) (1.15.0)\n",
            "Installing collected packages: pygad\n",
            "Successfully installed pygad-2.16.1\n"
          ]
        }
      ]
    },
    {
      "cell_type": "code",
      "execution_count": 7,
      "metadata": {
        "id": "wPTCoBGRuK5b"
      },
      "outputs": [],
      "source": [
        "import numpy\n",
        "import pandas as pd\n",
        "import pygad as ga\n",
        "import copy\n",
        "import time\n",
        "import datetime\n",
        "import sys\n",
        "import random\n",
        "import plotly.figure_factory as ff"
      ]
    },
    {
      "cell_type": "markdown",
      "source": [
        "# Datasets\n",
        "*Note: the url for the dataset must be updated everytime this book is opened*\n",
        "\n",
        "* [production_scheduling_maintenance_duedate_constraint](https://github.com/DGuilherme/EnergyProductionScheduling/blob/main/PhaseONE/Datasets/BJSP102_TestInstances/BJSP102_1.csv)\n",
        "*   List item\n",
        "\n"
      ],
      "metadata": {
        "id": "fnPDBLrYysp2"
      }
    },
    {
      "cell_type": "markdown",
      "source": [
        "## BJSP102 Dataset\n"
      ],
      "metadata": {
        "id": "foATuw-4KcJK"
      }
    },
    {
      "cell_type": "code",
      "source": [
        "\n",
        "url = 'https://raw.githubusercontent.com/DGuilherme/EnergyProductionScheduling/main/PhaseONE/Datasets/BJSP102_TestInstances/BJSP102_1.csv?token=GHSAT0AAAAAABQ2Z462HLKR2BOJT5FHQGMEYPMGLJQ'\n",
        "production_scheduling_maintenance_duedate_constraint = pd.read_csv(url)\n",
        "\n"
      ],
      "metadata": {
        "id": "izIe0gMhywjR"
      },
      "execution_count": null,
      "outputs": []
    },
    {
      "cell_type": "code",
      "source": [
        "production_scheduling_maintenance_duedate_constraint.describe()\n"
      ],
      "metadata": {
        "colab": {
          "base_uri": "https://localhost:8080/",
          "height": 382
        },
        "id": "prJitXtU4B5z",
        "outputId": "909add73-d6a9-46d9-e154-65950cc122a3"
      },
      "execution_count": null,
      "outputs": [
        {
          "output_type": "execute_result",
          "data": {
            "text/html": [
              "\n",
              "  <div id=\"df-262a041e-f96a-402d-bed1-deabc787e3bc\">\n",
              "    <div class=\"colab-df-container\">\n",
              "      <div>\n",
              "<style scoped>\n",
              "    .dataframe tbody tr th:only-of-type {\n",
              "        vertical-align: middle;\n",
              "    }\n",
              "\n",
              "    .dataframe tbody tr th {\n",
              "        vertical-align: top;\n",
              "    }\n",
              "\n",
              "    .dataframe thead th {\n",
              "        text-align: right;\n",
              "    }\n",
              "</style>\n",
              "<table border=\"1\" class=\"dataframe\">\n",
              "  <thead>\n",
              "    <tr style=\"text-align: right;\">\n",
              "      <th></th>\n",
              "      <th>Unnamed: 3</th>\n",
              "      <th>Unnamed: 4</th>\n",
              "      <th>Unnamed: 5</th>\n",
              "      <th>Unnamed: 6</th>\n",
              "      <th>Unnamed: 7</th>\n",
              "      <th>Unnamed: 8</th>\n",
              "      <th>Unnamed: 9</th>\n",
              "      <th>Unnamed: 10</th>\n",
              "      <th>Unnamed: 11</th>\n",
              "      <th>Unnamed: 12</th>\n",
              "      <th>Unnamed: 13</th>\n",
              "      <th>Unnamed: 14</th>\n",
              "      <th>Unnamed: 15</th>\n",
              "      <th>Unnamed: 16</th>\n",
              "      <th>Unnamed: 17</th>\n",
              "      <th>Unnamed: 18</th>\n",
              "      <th>Unnamed: 19</th>\n",
              "      <th>Unnamed: 20</th>\n",
              "    </tr>\n",
              "  </thead>\n",
              "  <tbody>\n",
              "    <tr>\n",
              "      <th>count</th>\n",
              "      <td>40.000000</td>\n",
              "      <td>32.000000</td>\n",
              "      <td>16.000000</td>\n",
              "      <td>8.000000</td>\n",
              "      <td>8.000000</td>\n",
              "      <td>0.0</td>\n",
              "      <td>0.0</td>\n",
              "      <td>0.0</td>\n",
              "      <td>0.0</td>\n",
              "      <td>0.0</td>\n",
              "      <td>0.0</td>\n",
              "      <td>0.0</td>\n",
              "      <td>0.0</td>\n",
              "      <td>0.0</td>\n",
              "      <td>0.0</td>\n",
              "      <td>0.0</td>\n",
              "      <td>0.0</td>\n",
              "      <td>0.0</td>\n",
              "    </tr>\n",
              "    <tr>\n",
              "      <th>mean</th>\n",
              "      <td>9.957250</td>\n",
              "      <td>1.198438</td>\n",
              "      <td>9.585625</td>\n",
              "      <td>0.561250</td>\n",
              "      <td>3.695000</td>\n",
              "      <td>NaN</td>\n",
              "      <td>NaN</td>\n",
              "      <td>NaN</td>\n",
              "      <td>NaN</td>\n",
              "      <td>NaN</td>\n",
              "      <td>NaN</td>\n",
              "      <td>NaN</td>\n",
              "      <td>NaN</td>\n",
              "      <td>NaN</td>\n",
              "      <td>NaN</td>\n",
              "      <td>NaN</td>\n",
              "      <td>NaN</td>\n",
              "      <td>NaN</td>\n",
              "    </tr>\n",
              "    <tr>\n",
              "      <th>std</th>\n",
              "      <td>10.398949</td>\n",
              "      <td>1.933157</td>\n",
              "      <td>8.646498</td>\n",
              "      <td>0.627886</td>\n",
              "      <td>2.742199</td>\n",
              "      <td>NaN</td>\n",
              "      <td>NaN</td>\n",
              "      <td>NaN</td>\n",
              "      <td>NaN</td>\n",
              "      <td>NaN</td>\n",
              "      <td>NaN</td>\n",
              "      <td>NaN</td>\n",
              "      <td>NaN</td>\n",
              "      <td>NaN</td>\n",
              "      <td>NaN</td>\n",
              "      <td>NaN</td>\n",
              "      <td>NaN</td>\n",
              "      <td>NaN</td>\n",
              "    </tr>\n",
              "    <tr>\n",
              "      <th>min</th>\n",
              "      <td>0.000000</td>\n",
              "      <td>0.000000</td>\n",
              "      <td>1.000000</td>\n",
              "      <td>0.000000</td>\n",
              "      <td>1.000000</td>\n",
              "      <td>NaN</td>\n",
              "      <td>NaN</td>\n",
              "      <td>NaN</td>\n",
              "      <td>NaN</td>\n",
              "      <td>NaN</td>\n",
              "      <td>NaN</td>\n",
              "      <td>NaN</td>\n",
              "      <td>NaN</td>\n",
              "      <td>NaN</td>\n",
              "      <td>NaN</td>\n",
              "      <td>NaN</td>\n",
              "      <td>NaN</td>\n",
              "      <td>NaN</td>\n",
              "    </tr>\n",
              "    <tr>\n",
              "      <th>25%</th>\n",
              "      <td>2.000000</td>\n",
              "      <td>0.000000</td>\n",
              "      <td>4.057500</td>\n",
              "      <td>0.000000</td>\n",
              "      <td>1.000000</td>\n",
              "      <td>NaN</td>\n",
              "      <td>NaN</td>\n",
              "      <td>NaN</td>\n",
              "      <td>NaN</td>\n",
              "      <td>NaN</td>\n",
              "      <td>NaN</td>\n",
              "      <td>NaN</td>\n",
              "      <td>NaN</td>\n",
              "      <td>NaN</td>\n",
              "      <td>NaN</td>\n",
              "      <td>NaN</td>\n",
              "      <td>NaN</td>\n",
              "      <td>NaN</td>\n",
              "    </tr>\n",
              "    <tr>\n",
              "      <th>50%</th>\n",
              "      <td>4.000000</td>\n",
              "      <td>0.790000</td>\n",
              "      <td>6.715000</td>\n",
              "      <td>0.380000</td>\n",
              "      <td>3.980000</td>\n",
              "      <td>NaN</td>\n",
              "      <td>NaN</td>\n",
              "      <td>NaN</td>\n",
              "      <td>NaN</td>\n",
              "      <td>NaN</td>\n",
              "      <td>NaN</td>\n",
              "      <td>NaN</td>\n",
              "      <td>NaN</td>\n",
              "      <td>NaN</td>\n",
              "      <td>NaN</td>\n",
              "      <td>NaN</td>\n",
              "      <td>NaN</td>\n",
              "      <td>NaN</td>\n",
              "    </tr>\n",
              "    <tr>\n",
              "      <th>75%</th>\n",
              "      <td>19.717500</td>\n",
              "      <td>1.010000</td>\n",
              "      <td>9.905000</td>\n",
              "      <td>1.107500</td>\n",
              "      <td>4.740000</td>\n",
              "      <td>NaN</td>\n",
              "      <td>NaN</td>\n",
              "      <td>NaN</td>\n",
              "      <td>NaN</td>\n",
              "      <td>NaN</td>\n",
              "      <td>NaN</td>\n",
              "      <td>NaN</td>\n",
              "      <td>NaN</td>\n",
              "      <td>NaN</td>\n",
              "      <td>NaN</td>\n",
              "      <td>NaN</td>\n",
              "      <td>NaN</td>\n",
              "      <td>NaN</td>\n",
              "    </tr>\n",
              "    <tr>\n",
              "      <th>max</th>\n",
              "      <td>30.020000</td>\n",
              "      <td>9.000000</td>\n",
              "      <td>29.130000</td>\n",
              "      <td>1.380000</td>\n",
              "      <td>9.000000</td>\n",
              "      <td>NaN</td>\n",
              "      <td>NaN</td>\n",
              "      <td>NaN</td>\n",
              "      <td>NaN</td>\n",
              "      <td>NaN</td>\n",
              "      <td>NaN</td>\n",
              "      <td>NaN</td>\n",
              "      <td>NaN</td>\n",
              "      <td>NaN</td>\n",
              "      <td>NaN</td>\n",
              "      <td>NaN</td>\n",
              "      <td>NaN</td>\n",
              "      <td>NaN</td>\n",
              "    </tr>\n",
              "  </tbody>\n",
              "</table>\n",
              "</div>\n",
              "      <button class=\"colab-df-convert\" onclick=\"convertToInteractive('df-262a041e-f96a-402d-bed1-deabc787e3bc')\"\n",
              "              title=\"Convert this dataframe to an interactive table.\"\n",
              "              style=\"display:none;\">\n",
              "        \n",
              "  <svg xmlns=\"http://www.w3.org/2000/svg\" height=\"24px\"viewBox=\"0 0 24 24\"\n",
              "       width=\"24px\">\n",
              "    <path d=\"M0 0h24v24H0V0z\" fill=\"none\"/>\n",
              "    <path d=\"M18.56 5.44l.94 2.06.94-2.06 2.06-.94-2.06-.94-.94-2.06-.94 2.06-2.06.94zm-11 1L8.5 8.5l.94-2.06 2.06-.94-2.06-.94L8.5 2.5l-.94 2.06-2.06.94zm10 10l.94 2.06.94-2.06 2.06-.94-2.06-.94-.94-2.06-.94 2.06-2.06.94z\"/><path d=\"M17.41 7.96l-1.37-1.37c-.4-.4-.92-.59-1.43-.59-.52 0-1.04.2-1.43.59L10.3 9.45l-7.72 7.72c-.78.78-.78 2.05 0 2.83L4 21.41c.39.39.9.59 1.41.59.51 0 1.02-.2 1.41-.59l7.78-7.78 2.81-2.81c.8-.78.8-2.07 0-2.86zM5.41 20L4 18.59l7.72-7.72 1.47 1.35L5.41 20z\"/>\n",
              "  </svg>\n",
              "      </button>\n",
              "      \n",
              "  <style>\n",
              "    .colab-df-container {\n",
              "      display:flex;\n",
              "      flex-wrap:wrap;\n",
              "      gap: 12px;\n",
              "    }\n",
              "\n",
              "    .colab-df-convert {\n",
              "      background-color: #E8F0FE;\n",
              "      border: none;\n",
              "      border-radius: 50%;\n",
              "      cursor: pointer;\n",
              "      display: none;\n",
              "      fill: #1967D2;\n",
              "      height: 32px;\n",
              "      padding: 0 0 0 0;\n",
              "      width: 32px;\n",
              "    }\n",
              "\n",
              "    .colab-df-convert:hover {\n",
              "      background-color: #E2EBFA;\n",
              "      box-shadow: 0px 1px 2px rgba(60, 64, 67, 0.3), 0px 1px 3px 1px rgba(60, 64, 67, 0.15);\n",
              "      fill: #174EA6;\n",
              "    }\n",
              "\n",
              "    [theme=dark] .colab-df-convert {\n",
              "      background-color: #3B4455;\n",
              "      fill: #D2E3FC;\n",
              "    }\n",
              "\n",
              "    [theme=dark] .colab-df-convert:hover {\n",
              "      background-color: #434B5C;\n",
              "      box-shadow: 0px 1px 3px 1px rgba(0, 0, 0, 0.15);\n",
              "      filter: drop-shadow(0px 1px 2px rgba(0, 0, 0, 0.3));\n",
              "      fill: #FFFFFF;\n",
              "    }\n",
              "  </style>\n",
              "\n",
              "      <script>\n",
              "        const buttonEl =\n",
              "          document.querySelector('#df-262a041e-f96a-402d-bed1-deabc787e3bc button.colab-df-convert');\n",
              "        buttonEl.style.display =\n",
              "          google.colab.kernel.accessAllowed ? 'block' : 'none';\n",
              "\n",
              "        async function convertToInteractive(key) {\n",
              "          const element = document.querySelector('#df-262a041e-f96a-402d-bed1-deabc787e3bc');\n",
              "          const dataTable =\n",
              "            await google.colab.kernel.invokeFunction('convertToInteractive',\n",
              "                                                     [key], {});\n",
              "          if (!dataTable) return;\n",
              "\n",
              "          const docLinkHtml = 'Like what you see? Visit the ' +\n",
              "            '<a target=\"_blank\" href=https://colab.research.google.com/notebooks/data_table.ipynb>data table notebook</a>'\n",
              "            + ' to learn more about interactive tables.';\n",
              "          element.innerHTML = '';\n",
              "          dataTable['output_type'] = 'display_data';\n",
              "          await google.colab.output.renderOutput(dataTable, element);\n",
              "          const docLink = document.createElement('div');\n",
              "          docLink.innerHTML = docLinkHtml;\n",
              "          element.appendChild(docLink);\n",
              "        }\n",
              "      </script>\n",
              "    </div>\n",
              "  </div>\n",
              "  "
            ],
            "text/plain": [
              "       Unnamed: 3  Unnamed: 4  ...  Unnamed: 19  Unnamed: 20\n",
              "count   40.000000   32.000000  ...          0.0          0.0\n",
              "mean     9.957250    1.198438  ...          NaN          NaN\n",
              "std     10.398949    1.933157  ...          NaN          NaN\n",
              "min      0.000000    0.000000  ...          NaN          NaN\n",
              "25%      2.000000    0.000000  ...          NaN          NaN\n",
              "50%      4.000000    0.790000  ...          NaN          NaN\n",
              "75%     19.717500    1.010000  ...          NaN          NaN\n",
              "max     30.020000    9.000000  ...          NaN          NaN\n",
              "\n",
              "[8 rows x 18 columns]"
            ]
          },
          "metadata": {},
          "execution_count": 8
        }
      ]
    },
    {
      "cell_type": "code",
      "source": [
        "production_scheduling_maintenance_duedate_constraint.head"
      ],
      "metadata": {
        "colab": {
          "base_uri": "https://localhost:8080/"
        },
        "id": "Muj2XRyN6Kgk",
        "outputId": "ff257b0a-6890-4a81-c4bf-0b94e5b44701"
      },
      "execution_count": null,
      "outputs": [
        {
          "output_type": "execute_result",
          "data": {
            "text/plain": [
              "<bound method NDFrame.head of                        Job ID     1  ... Unnamed: 19  Unnamed: 20\n",
              "0      Type (job/maintenance)   job  ...         NaN          NaN\n",
              "1                    Resource     9  ...         NaN          NaN\n",
              "2             Processing time  5.36  ...         NaN          NaN\n",
              "3    Due date (soft and hard)  61.3  ...         NaN          NaN\n",
              "4                Release date     0  ...         NaN          NaN\n",
              "..                        ...   ...  ...         ...          ...\n",
              "264  Due date (soft and hard)   144  ...         NaN          NaN\n",
              "265              Release date   144  ...         NaN          NaN\n",
              "266            Preceding Jobs   NaN  ...         NaN          NaN\n",
              "267           Precedence Type   NaN  ...         NaN          NaN\n",
              "268                       NaN   NaN  ...         NaN          NaN\n",
              "\n",
              "[269 rows x 21 columns]>"
            ]
          },
          "metadata": {},
          "execution_count": 9
        }
      ]
    },
    {
      "cell_type": "code",
      "source": [
        "# Remove nan values from pandas df\n",
        "data = production_scheduling_maintenance_duedate_constraint.dropna(how='all', axis=1)\n",
        "print(data)"
      ],
      "metadata": {
        "colab": {
          "base_uri": "https://localhost:8080/"
        },
        "id": "D3RBgYQ2n-zE",
        "outputId": "6b4ca158-c11f-4ecb-ec63-98362b5a7032"
      },
      "execution_count": null,
      "outputs": [
        {
          "output_type": "stream",
          "name": "stdout",
          "text": [
            "                       Job ID     1  ... Unnamed: 6  Unnamed: 7\n",
            "0      Type (job/maintenance)   job  ...        NaN         NaN\n",
            "1                    Resource     9  ...        NaN         NaN\n",
            "2             Processing time  5.36  ...        NaN         NaN\n",
            "3    Due date (soft and hard)  61.3  ...        NaN         NaN\n",
            "4                Release date     0  ...        NaN         NaN\n",
            "..                        ...   ...  ...        ...         ...\n",
            "264  Due date (soft and hard)   144  ...        NaN         NaN\n",
            "265              Release date   144  ...        NaN         NaN\n",
            "266            Preceding Jobs   NaN  ...        NaN         NaN\n",
            "267           Precedence Type   NaN  ...        NaN         NaN\n",
            "268                       NaN   NaN  ...        NaN         NaN\n",
            "\n",
            "[269 rows x 8 columns]\n"
          ]
        }
      ]
    },
    {
      "cell_type": "markdown",
      "source": [
        "## la02 Dataset\n"
      ],
      "metadata": {
        "id": "cyymyzRbKkqS"
      }
    },
    {
      "cell_type": "code",
      "source": [
        "times = [[20, 87, 31, 76, 17], [25, 32, 24, 18, 81], [72, 23, 28, 58, 99], [86, 76, 97, 45, 90], [27, 42, 48, 17, 46], [67, 98, 48, 27, 62], [28, 12, 19, 80, 50], [63, 94, 98, 50, 80], [14, 75, 50, 41, 55], [72, 18, 37, 79, 61]]\n",
        "machines = [[0, 3, 1, 4, 2], [4, 2, 0, 1, 3], [1, 2, 4, 0, 3], [2, 1, 4, 0, 3], [4, 0, 3, 2, 1], [1, 0, 4, 3, 2], [4, 1, 3, 0, 2], [1, 0, 2, 3, 4], [4, 0, 2, 1, 3], [4, 2, 1, 3, 0]]\n",
        "n = 10"
      ],
      "metadata": {
        "id": "-itmIZ5aKsvw"
      },
      "execution_count": 3,
      "outputs": []
    },
    {
      "cell_type": "markdown",
      "source": [
        "# Genetic Algorithm Functions\n"
      ],
      "metadata": {
        "id": "jksdEsbak3w4"
      }
    },
    {
      "cell_type": "markdown",
      "source": [
        "## Evolution "
      ],
      "metadata": {
        "id": "HohTWH_QNXZd"
      }
    },
    {
      "cell_type": "code",
      "source": [
        "#During the crossover we select gens from the father from the start to the end index defined, we remove those from the mother\n",
        "#Then we add them to the resultant in the same order that it was in the father origininally\n",
        "def crossover(father, mother, start_index, end_index):\n",
        "    father_gen = father[0][start_index:end_index]\n",
        "    fetus = removeFromList(mother[0], father_gen)\n",
        "    result = []\n",
        "    result.extend(fetus[:start_index])\n",
        "    result.extend(father_gen)\n",
        "    result.extend(fetus[start_index:])\n",
        "    return [result, None]\n",
        "\n",
        "def removeFromList(parent, list):\n",
        "    seen = set()\n",
        "    seen_add = seen.add\n",
        "    return [x for x in parent if not (x in list or seen_add(x))]\n",
        "\n",
        "#mutate one member of the poupulation randomly excluding the first one(best individual)\n",
        "#We just change the order of the permutation by one\n",
        "def mutation(population, mutation_rate):\n",
        "    if(random.random() > mutation_rate):\n",
        "        candidate = random.choice(population[1:])\n",
        "        swap_rnd(candidate[0])\n",
        "        candidate[1] = None\n",
        "\n",
        "\n",
        "def swap_rnd(config):\n",
        "    id1 = random.choice(range(len(config)))\n",
        "    id2 = random.choice(range(len(config)))\n",
        "    tmp = config[id1]\n",
        "    config[id1] = config[id2]\n",
        "    config[id2] = tmp\n",
        "    return config\n",
        "\n",
        "\n",
        "\n",
        "def evolve(population, mutation_rate):\n",
        "    #Important: the population should be sorted before evolve\n",
        "\n",
        "    #We delete the worst individual of the population\n",
        "    population.pop()\n",
        "\n",
        "    #we choose a mother and father for the new individual\n",
        "    father = random.choice(population)\n",
        "    mother = random.choice(population)\n",
        "    while(mother == father):\n",
        "        mother = random.choice(population)\n",
        "    \n",
        "    indexes = range(len(father[0]))\n",
        "\n",
        "    #we select wich part of the father will go to the mother\n",
        "    start_index = random.choice(indexes)\n",
        "    end_index = random.choice(indexes[start_index:])\n",
        "\n",
        "    #we generate the baby with the crossover\n",
        "    baby = crossover(father, mother, start_index, end_index)\n",
        "\n",
        "    #we add the new member to the population\n",
        "    population.append(baby)\n",
        "\n",
        "    #we trigger the mutation for one of the population, depending on the mutation rate\n",
        "    mutation(population, mutation_rate)\n",
        "    return population\n",
        "\n",
        "\n",
        "\n",
        "def fromPermutation(permutation, n):\n",
        "    return list(map(lambda  x: x%n, permutation))"
      ],
      "metadata": {
        "id": "Y9b9tDxcNcWT"
      },
      "execution_count": 8,
      "outputs": []
    },
    {
      "cell_type": "markdown",
      "source": [
        "### Population"
      ],
      "metadata": {
        "id": "t3oACWgrM4M3"
      }
    },
    {
      "cell_type": "code",
      "source": [
        "#We generate the number of population\n",
        "def generate_population(number, n, mn):\n",
        "        population = []\n",
        "        for i in range(number):\n",
        "            addRandomIndividual(population, n, mn)\n",
        "        return population\n",
        "\n",
        "\n",
        "#Each individual is compose by a permutation(list from 0 to the job_number*machine_number)\n",
        "#And a second parameter that is filled with the result of the makespan for the permutation\n",
        "#We keep track of the result to not calculate multiple times the same result unnecesarily\n",
        "#Is important to remove that number every time the permutation change\n",
        "def addRandomIndividual(population, n, mn):\n",
        "    ind = list(range(n*mn))\n",
        "    random.shuffle(ind)\n",
        "    population.append([ind, None])\n",
        "\n",
        "\n",
        "def checkDiversity(population, diff, n, mn):\n",
        "    if diff < 0.03:\n",
        "        replaceWithRandomPopulation(population, int(n/3), n, mn)\n",
        "    if diff < 0.05:\n",
        "        replaceWithRandomPopulation(population, int(n/5), n, mn)\n",
        "    elif diff < 0.1:\n",
        "        replaceWithRandomPopulation(population, int(n/10), n, mn)\n",
        "\n",
        "def replaceWithRandomPopulation(population, q, n, mn):\n",
        "    for i in range(q):\n",
        "        population.pop()\n",
        "    for i in range(q):\n",
        "        addRandomIndividual(population, n, mn)"
      ],
      "metadata": {
        "id": "_z8wYQHnNB5K"
      },
      "execution_count": 9,
      "outputs": []
    },
    {
      "cell_type": "markdown",
      "source": [
        "### Fitness Function\n"
      ],
      "metadata": {
        "id": "ZwX-E3O4Mstx"
      }
    },
    {
      "cell_type": "code",
      "source": [
        "\n",
        "def calculateMakespan(times, machines, config, n):\n",
        "    time_table = []\n",
        "    times = copy.deepcopy(times)\n",
        "    machines = copy.deepcopy(machines)\n",
        "    mn = len(machines[0])\n",
        "    for i in range(mn):\n",
        "        time_table.append([])\n",
        "\n",
        "    current_times = [0]*n\n",
        "    total_time = 0\n",
        "    for j in config:\n",
        "        job = j%n\n",
        "        current_machine = machines[job].pop(0)\n",
        "        current_time = current_times[job]\n",
        "        machine_usage = time_table[current_machine]\n",
        "        usage_time = times[job].pop(0)\n",
        "        current_time, total_time = fillTimeSlot(machine_usage, current_time, usage_time, job, total_time)\n",
        "\n",
        "        current_times[job] = current_time\n",
        "\n",
        "    return total_time, \n",
        "\n",
        "def fillTimeSlot(machine_usage, current_time, usage_time, job, total_time):\n",
        "    if len(machine_usage) > 0:\n",
        "        prev = 0\n",
        "        slot = None\n",
        "        for used_slots in machine_usage:\n",
        "            start = used_slots[0]\n",
        "            end = used_slots[1]\n",
        "\n",
        "            if start < current_time and current_time < end:\n",
        "                current_time = end\n",
        "\n",
        "            if prev == 0 and start > current_time + usage_time:\n",
        "                slot = [current_time, usage_time + current_time, job]\n",
        "                break\n",
        "            elif start - prev >= usage_time and current_time <= prev:\n",
        "                slot = [current_time, current_time + usage_time, job]\n",
        "                break\n",
        "\n",
        "            prev = end\n",
        "            if end > current_time:\n",
        "                current_time = end\n",
        "\n",
        "        if slot == None:\n",
        "            slot = [current_time, current_time + usage_time, job]\n",
        "\n",
        "        current_time = slot[1]\n",
        "        machine_usage.append(slot)\n",
        "        machine_usage.sort(key=lambda x: x[1])\n",
        "\n",
        "        if slot[1] > total_time:\n",
        "            total_time = slot[1]\n",
        "\n",
        "    else: \n",
        "        machine_usage.append([current_time, usage_time + current_time, job])\n",
        "        current_time += usage_time\n",
        "\n",
        "    return current_time, total_time\n",
        "\n",
        "def sortAndGetBestIndividual(population):\n",
        "        best_individual = None\n",
        "        best_result = None\n",
        "        for individual in population:\n",
        "            result = None\n",
        "            if individual[1] != None: \n",
        "                result, table = calculateMakespan(times, machines, individual[0], n)\n",
        "                individual[1] = result\n",
        "            else: \n",
        "                result = individual[1]\n",
        "\n",
        "            if not best_result or result < best_result:\n",
        "                best_result = result\n",
        "                best_individual = individual\n",
        "\n",
        "        population.sort(key=lambda x: x[1])\n",
        "        return best_individual, best_result\n",
        "\n",
        "\n",
        "  \n",
        "def getFitness(population):\n",
        "    prev = population[0][1]\n",
        "    total = 0\n",
        "    diffPercentage = 0.0\n",
        "    for ind in population:\n",
        "        curr = ind[1]\n",
        "        total += curr\n",
        "        diffPercentage += (curr/float(prev)) - 1\n",
        "        prev = curr\n",
        "\n",
        "    return total, diffPercentage\n",
        "\n",
        "\n",
        "\n",
        "def printProgress(bestValue, iterations, timeElapsed):\n",
        "    sys.stdout.write(\"\\rIterations: {0} | Best result found {1} | Time elapsed: {2}s\".format(iterations, bestValue, int(timeElapsed)))\n",
        "    sys.stdout.flush()"
      ],
      "metadata": {
        "id": "ev2yAsx7MMGP"
      },
      "execution_count": 21,
      "outputs": []
    },
    {
      "cell_type": "markdown",
      "source": [
        "### Utils\n"
      ],
      "metadata": {
        "id": "Ex0pxBe2ObEl"
      }
    },
    {
      "cell_type": "code",
      "source": [
        "def printTable(table):\n",
        "    i = 1\n",
        "    print(\"TABLE: \")\n",
        "    for row in table:\n",
        "        print(\"M%s: %s\" %(i, row))\n",
        "        i += 1\n",
        "\n",
        "def plotResult(table, maxValue):\n",
        "    df = []\n",
        "    mn = 0\n",
        "    colors = []\n",
        "    for row in table:\n",
        "        mn += 1\n",
        "        row.sort(key=lambda x: x[2])\n",
        "        for slot in row:\n",
        "            start_time=str(datetime.timedelta(seconds=slot[0]))\n",
        "            end_time=str(datetime.timedelta(seconds=slot[1]))\n",
        "            today = datetime.date.today()\n",
        "            entry = dict(\n",
        "                Task='Machine-{0}'.format(mn), \n",
        "                Start=\"{0} {1}\".format(today, start_time), \n",
        "                Finish=\"{0} {1}\".format(today, end_time),\n",
        "                duration=slot[1] - slot[0],\n",
        "                Resource='Job {0}'.format(slot[2] + 1)\n",
        "                )\n",
        "            df.append(entry)\n",
        "\n",
        "            #Generate random colors\n",
        "            if(len(colors) < len(row)):\n",
        "                a = min(255 - ( slot[2] * 10 ), 255)\n",
        "                b = min(slot[2] * 10, 255)\n",
        "                c = min(255, int(random.random() * 255))\n",
        "                colors.append(\"rgb({0}, {1}, {2})\".format(a, b, c))\n",
        "\n",
        "    #In order to see the line ordered by integers and not by dates we need to generate the dateticks manually\n",
        "    #we create 11 linespaced numbers between 0 and the maximum value\n",
        "    num_tick_labels = numpy.linspace(start = 0, stop = maxValue, num = 11, dtype = int)\n",
        "    date_ticks = [\"{0} {1}\".format(today, str(datetime.timedelta(seconds=int(x)))) for x in num_tick_labels]\n",
        "\n",
        "    fig = ff.create_gantt(df,colors=colors, index_col='Resource', group_tasks=True, show_colorbar=True, showgrid_x=True, title='Job shop Schedule')\n",
        "    fig.layout.xaxis.update({\n",
        "        'tickvals' : date_ticks,\n",
        "        'ticktext' : num_tick_labels\n",
        "        })\n",
        "    fig.show()"
      ],
      "metadata": {
        "id": "plQDtesnOc-V"
      },
      "execution_count": 20,
      "outputs": []
    },
    {
      "cell_type": "markdown",
      "source": [
        "### Main"
      ],
      "metadata": {
        "id": "RieGVusFMzJO"
      }
    },
    {
      "cell_type": "code",
      "source": [
        "def genetic(times, machines, n, population_number, iterations, rate, target):\n",
        "    machine_number = len(machines[0])\n",
        "    start_time = time.time()\n",
        "\n",
        "    print(population_number)\n",
        "    print(n)\n",
        "    print(machine_number)\n",
        "\n",
        "    population = generate_population(population_number, n, machine_number)\n",
        "\n",
        "    print(population)\n",
        "    \n",
        "    global_best_ind, global_best = sortAndGetBestIndividual(population)\n",
        "    \n",
        "    ##if we don't define a target we set the number of iterations we want \n",
        "    if not target:\n",
        "        for i in range(iterations):\n",
        "            population = evolve(population, rate)\n",
        "            best_ind, best_result = sortAndGetBestIndividual(population)\n",
        "            total_fitness, diffPercentage = getFitness(population)\n",
        "\n",
        "            if(not global_best or best_result < global_best):\n",
        "                global_best = best_result\n",
        "                global_best_ind = copy.deepcopy(best_ind)\n",
        "\n",
        "            printProgress(best_result, i, time.time() - start_time)\n",
        "            checkDiversity(population, diffPercentage, n, machine_number)\n",
        "    else:\n",
        "        #If we define a target we iterate until the best result reach that target\n",
        "        i = 0\n",
        "        while(target < global_best):\n",
        "            i += 1\n",
        "            #in every iteration: \n",
        "            #We evolve the population\n",
        "            population = evolve(population, rate)\n",
        "            #We find the best individual \n",
        "            best_ind, best_result = sortAndGetBestIndividual(population)\n",
        "            #We calculate the diversity % between the population and the total_fitness(sum of all the results)\n",
        "            total_fitness, diffPercentage = getFitness(population)\n",
        "\n",
        "            #if the result found is better than the global found we update the global\n",
        "            if(not global_best or best_result < global_best):\n",
        "                global_best = best_result\n",
        "                global_best_ind = copy.deepcopy(best_ind)\n",
        "            #We print the progress so far and the time elapsed\n",
        "            printProgress(best_result, i, time.time() - start_time)\n",
        "            #We check the diversity, in case the diversity percentage is very low we delete a number of the population and we add randome members\n",
        "            checkDiversity(population, diffPercentage, n, machine_number)\n",
        "\n",
        "    \n",
        "    best_result, best_table = calculateMakespan(times, machines, global_best_ind[0], n)           \n",
        "    print(\"\\nOVERALL RESULT\")\n",
        "    print(\"RESULT: %s\" %best_result)                 \n",
        "    print('the elapsed time:%ss'% (int(time.time() - start_time)))\n",
        "    print(\"Permutation: \")\n",
        "    print(fromPermutation(global_best_ind[0], n))\n",
        "    printTable(best_table)\n",
        "    plotResult(best_table, best_result)"
      ],
      "metadata": {
        "id": "HUMODPFKlD8b"
      },
      "execution_count": 18,
      "outputs": []
    },
    {
      "cell_type": "markdown",
      "source": [
        "# Results\n",
        "\n",
        "What kind of methods can be used to evaluate the results from the algorithm\n"
      ],
      "metadata": {
        "id": "6_3xsI_SlElr"
      }
    },
    {
      "cell_type": "code",
      "source": [
        "#@title Insert here the desired parameters\n",
        "\n",
        "times = [[20, 87, 31, 76, 17], [25, 32, 24, 18, 81], [72, 23, 28, 58, 99], [86, 76, 97, 45, 90], [27, 42, 48, 17, 46], [67, 98, 48, 27, 62], [28, 12, 19, 80, 50], [63, 94, 98, 50, 80], [14, 75, 50, 41, 55], [72, 18, 37, 79, 61]]\n",
        "machines = [[0, 3, 1, 4, 2], [4, 2, 0, 1, 3], [1, 2, 4, 0, 3], [2, 1, 4, 0, 3], [4, 0, 3, 2, 1], [1, 0, 4, 3, 2], [4, 1, 3, 0, 2], [1, 0, 2, 3, 4], [4, 0, 2, 1, 3], [4, 2, 1, 3, 0]]\n",
        "n = 10\n",
        "\n",
        "# the required functions\n",
        "target = None\n",
        "\n",
        "population_size = 10 #@param {type:\"number\"}\n",
        "mutation_rate= 0.2 #@param {type:\"number\"}\n",
        "iterations= 20 #@param {type:\"number\"}\n",
        "\n",
        "# main\n",
        "genetic(times, machines, n, population_size, iterations, mutation_rate, target)\n"
      ],
      "metadata": {
        "id": "mwse1ozqlAX9",
        "colab": {
          "base_uri": "https://localhost:8080/",
          "height": 455
        },
        "outputId": "f8ab6c77-4175-4150-c42b-7893d69cb537"
      },
      "execution_count": 22,
      "outputs": [
        {
          "output_type": "stream",
          "name": "stdout",
          "text": [
            "10\n",
            "10\n",
            "5\n",
            "[[[24, 28, 1, 19, 42, 0, 26, 11, 45, 9, 3, 44, 31, 2, 14, 37, 41, 48, 4, 20, 13, 33, 39, 23, 29, 46, 25, 21, 8, 12, 7, 27, 17, 43, 16, 34, 6, 47, 49, 15, 22, 30, 38, 18, 32, 40, 35, 36, 10, 5], None], [[7, 41, 1, 6, 0, 20, 11, 42, 19, 44, 36, 27, 3, 22, 8, 46, 17, 34, 30, 47, 9, 4, 12, 35, 14, 40, 33, 31, 13, 28, 10, 24, 2, 16, 38, 23, 45, 15, 26, 37, 29, 43, 5, 32, 18, 49, 48, 21, 25, 39], None], [[21, 7, 2, 29, 40, 5, 10, 46, 1, 33, 26, 20, 18, 30, 45, 11, 8, 43, 13, 12, 24, 34, 17, 36, 44, 16, 9, 19, 35, 31, 47, 14, 0, 4, 37, 27, 49, 6, 25, 41, 39, 42, 38, 3, 32, 23, 28, 48, 15, 22], None], [[20, 41, 49, 32, 29, 22, 17, 11, 7, 14, 5, 36, 47, 38, 25, 35, 40, 26, 16, 28, 2, 30, 9, 15, 4, 37, 0, 8, 18, 13, 12, 34, 42, 21, 23, 46, 31, 48, 44, 24, 39, 3, 6, 27, 1, 45, 19, 33, 43, 10], None], [[19, 12, 49, 24, 45, 17, 30, 48, 11, 47, 37, 10, 16, 41, 44, 32, 20, 9, 3, 23, 18, 1, 38, 14, 42, 6, 43, 39, 22, 31, 28, 0, 7, 34, 4, 33, 8, 46, 29, 5, 40, 15, 27, 25, 36, 35, 2, 21, 13, 26], None], [[28, 49, 48, 38, 29, 46, 39, 43, 32, 42, 31, 8, 4, 20, 16, 44, 9, 7, 34, 27, 23, 13, 24, 15, 12, 2, 26, 22, 47, 33, 36, 6, 35, 11, 5, 40, 18, 1, 30, 17, 3, 14, 25, 19, 45, 41, 0, 21, 37, 10], None], [[27, 42, 31, 17, 36, 19, 33, 4, 32, 11, 14, 20, 43, 40, 0, 39, 6, 29, 12, 16, 18, 13, 28, 45, 41, 22, 25, 47, 21, 30, 48, 15, 26, 24, 38, 2, 44, 23, 46, 8, 1, 7, 3, 9, 35, 37, 10, 5, 49, 34], None], [[37, 7, 47, 44, 0, 12, 15, 49, 48, 2, 34, 11, 41, 19, 30, 4, 26, 23, 45, 42, 28, 17, 27, 36, 39, 21, 5, 46, 13, 38, 24, 40, 29, 10, 31, 6, 33, 25, 22, 32, 20, 16, 43, 1, 14, 9, 18, 8, 3, 35], None], [[12, 2, 3, 46, 32, 43, 45, 36, 15, 48, 19, 39, 44, 7, 31, 23, 41, 42, 22, 33, 34, 26, 8, 18, 17, 13, 6, 30, 29, 1, 25, 9, 5, 38, 0, 20, 27, 10, 35, 24, 47, 14, 16, 40, 28, 4, 11, 21, 49, 37], None], [[20, 16, 3, 34, 18, 26, 15, 22, 6, 12, 5, 13, 10, 14, 25, 31, 33, 48, 40, 49, 4, 8, 9, 46, 21, 28, 43, 32, 7, 2, 38, 36, 1, 17, 30, 47, 11, 27, 37, 45, 24, 19, 29, 35, 41, 42, 44, 23, 39, 0], None]]\n"
          ]
        },
        {
          "output_type": "error",
          "ename": "TypeError",
          "evalue": "ignored",
          "traceback": [
            "\u001b[0;31m---------------------------------------------------------------------------\u001b[0m",
            "\u001b[0;31mTypeError\u001b[0m                                 Traceback (most recent call last)",
            "\u001b[0;32m<ipython-input-22-bbf78f766858>\u001b[0m in \u001b[0;36m<module>\u001b[0;34m()\u001b[0m\n\u001b[1;32m     13\u001b[0m \u001b[0;34m\u001b[0m\u001b[0m\n\u001b[1;32m     14\u001b[0m \u001b[0;31m# main\u001b[0m\u001b[0;34m\u001b[0m\u001b[0;34m\u001b[0m\u001b[0;34m\u001b[0m\u001b[0m\n\u001b[0;32m---> 15\u001b[0;31m \u001b[0mgenetic\u001b[0m\u001b[0;34m(\u001b[0m\u001b[0mtimes\u001b[0m\u001b[0;34m,\u001b[0m \u001b[0mmachines\u001b[0m\u001b[0;34m,\u001b[0m \u001b[0mn\u001b[0m\u001b[0;34m,\u001b[0m \u001b[0mpopulation_size\u001b[0m\u001b[0;34m,\u001b[0m \u001b[0miterations\u001b[0m\u001b[0;34m,\u001b[0m \u001b[0mmutation_rate\u001b[0m\u001b[0;34m,\u001b[0m \u001b[0mtarget\u001b[0m\u001b[0;34m)\u001b[0m\u001b[0;34m\u001b[0m\u001b[0;34m\u001b[0m\u001b[0m\n\u001b[0m",
            "\u001b[0;32m<ipython-input-18-1e6dbf2455f9>\u001b[0m in \u001b[0;36mgenetic\u001b[0;34m(times, machines, n, population_number, iterations, rate, target)\u001b[0m\n\u001b[1;32m     11\u001b[0m     \u001b[0mprint\u001b[0m\u001b[0;34m(\u001b[0m\u001b[0mpopulation\u001b[0m\u001b[0;34m)\u001b[0m\u001b[0;34m\u001b[0m\u001b[0;34m\u001b[0m\u001b[0m\n\u001b[1;32m     12\u001b[0m \u001b[0;34m\u001b[0m\u001b[0m\n\u001b[0;32m---> 13\u001b[0;31m     \u001b[0mglobal_best_ind\u001b[0m\u001b[0;34m,\u001b[0m \u001b[0mglobal_best\u001b[0m \u001b[0;34m=\u001b[0m \u001b[0msortAndGetBestIndividual\u001b[0m\u001b[0;34m(\u001b[0m\u001b[0mpopulation\u001b[0m\u001b[0;34m)\u001b[0m\u001b[0;34m\u001b[0m\u001b[0;34m\u001b[0m\u001b[0m\n\u001b[0m\u001b[1;32m     14\u001b[0m \u001b[0;34m\u001b[0m\u001b[0m\n\u001b[1;32m     15\u001b[0m     \u001b[0;31m##if we don't define a target we set the number of iterations we want\u001b[0m\u001b[0;34m\u001b[0m\u001b[0;34m\u001b[0m\u001b[0;34m\u001b[0m\u001b[0m\n",
            "\u001b[0;32m<ipython-input-21-9fb159de28d4>\u001b[0m in \u001b[0;36msortAndGetBestIndividual\u001b[0;34m(population)\u001b[0m\n\u001b[1;32m     75\u001b[0m                 \u001b[0mbest_individual\u001b[0m \u001b[0;34m=\u001b[0m \u001b[0mindividual\u001b[0m\u001b[0;34m\u001b[0m\u001b[0;34m\u001b[0m\u001b[0m\n\u001b[1;32m     76\u001b[0m \u001b[0;34m\u001b[0m\u001b[0m\n\u001b[0;32m---> 77\u001b[0;31m         \u001b[0mpopulation\u001b[0m\u001b[0;34m.\u001b[0m\u001b[0msort\u001b[0m\u001b[0;34m(\u001b[0m\u001b[0mkey\u001b[0m\u001b[0;34m=\u001b[0m\u001b[0;32mlambda\u001b[0m \u001b[0mx\u001b[0m\u001b[0;34m:\u001b[0m \u001b[0mx\u001b[0m\u001b[0;34m[\u001b[0m\u001b[0;36m1\u001b[0m\u001b[0;34m]\u001b[0m\u001b[0;34m)\u001b[0m\u001b[0;34m\u001b[0m\u001b[0;34m\u001b[0m\u001b[0m\n\u001b[0m\u001b[1;32m     78\u001b[0m         \u001b[0;32mreturn\u001b[0m \u001b[0mbest_individual\u001b[0m\u001b[0;34m,\u001b[0m \u001b[0mbest_result\u001b[0m\u001b[0;34m\u001b[0m\u001b[0;34m\u001b[0m\u001b[0m\n\u001b[1;32m     79\u001b[0m \u001b[0;34m\u001b[0m\u001b[0m\n",
            "\u001b[0;31mTypeError\u001b[0m: '<' not supported between instances of 'NoneType' and 'NoneType'"
          ]
        }
      ]
    },
    {
      "cell_type": "code",
      "source": [
        ""
      ],
      "metadata": {
        "id": "dREdj3dDlOOB",
        "colab": {
          "base_uri": "https://localhost:8080/",
          "height": 191
        },
        "outputId": "6b9f8baa-cd9d-48a6-aec6-f182133a5f1e"
      },
      "execution_count": 23,
      "outputs": [
        {
          "output_type": "error",
          "ename": "NameError",
          "evalue": "ignored",
          "traceback": [
            "\u001b[0;31m---------------------------------------------------------------------------\u001b[0m",
            "\u001b[0;31mNameError\u001b[0m                                 Traceback (most recent call last)",
            "\u001b[0;32m<ipython-input-23-4fd674f30532>\u001b[0m in \u001b[0;36m<module>\u001b[0;34m()\u001b[0m\n\u001b[1;32m      1\u001b[0m \u001b[0;32mfrom\u001b[0m \u001b[0mdistutils\u001b[0m \u001b[0;32mimport\u001b[0m \u001b[0mversion\u001b[0m\u001b[0;34m\u001b[0m\u001b[0;34m\u001b[0m\u001b[0m\n\u001b[0;32m----> 2\u001b[0;31m \u001b[0mpython\u001b[0m \u001b[0;34m-\u001b[0m\u001b[0;34m-\u001b[0m\u001b[0mversion\u001b[0m\u001b[0;34m\u001b[0m\u001b[0;34m\u001b[0m\u001b[0m\n\u001b[0m",
            "\u001b[0;31mNameError\u001b[0m: name 'python' is not defined"
          ]
        }
      ]
    }
  ]
}