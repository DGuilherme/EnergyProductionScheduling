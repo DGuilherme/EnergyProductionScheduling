{
  "nbformat": 4,
  "nbformat_minor": 0,
  "metadata": {
    "colab": {
      "name": "Simulated_Annealing_JSSP.ipynb",
      "provenance": []
    },
    "kernelspec": {
      "name": "python3",
      "display_name": "Python 3"
    },
    "language_info": {
      "name": "python"
    }
  },
  "cells": [
    {
      "cell_type": "markdown",
      "source": [
        "# Imports needed\n"
      ],
      "metadata": {
        "id": "d1p8J8P-Lm6H"
      }
    },
    {
      "cell_type": "code",
      "source": [
        "!pip install pygame"
      ],
      "metadata": {
        "colab": {
          "base_uri": "https://localhost:8080/"
        },
        "id": "HvbIWZAkPqh2",
        "outputId": "38d63a8f-7047-474f-f799-513bb41b0bc1"
      },
      "execution_count": 17,
      "outputs": [
        {
          "output_type": "stream",
          "name": "stdout",
          "text": [
            "Requirement already satisfied: pygame in /usr/local/lib/python3.7/dist-packages (2.1.2)\n"
          ]
        }
      ]
    },
    {
      "cell_type": "code",
      "execution_count": 18,
      "metadata": {
        "id": "ghw9jD267efU"
      },
      "outputs": [],
      "source": [
        "import math\n",
        "from itertools import zip_longest\n",
        "from operator import itemgetter\n",
        "import random\n",
        "import pygame"
      ]
    },
    {
      "cell_type": "code",
      "source": [
        "visualisation = True  # maybe turn of if do_algo > 1\n",
        "iterations = 320000  # amount of iterations, while one iteration of the algorithm\n",
        "do_algo = 1  # iterations of applying the algorithm\n",
        "benchmark_id = 0  # choose number between 0 and 81, check tests.txt\n",
        "\n"
      ],
      "metadata": {
        "id": "X4sZQcX97toN"
      },
      "execution_count": 19,
      "outputs": []
    },
    {
      "cell_type": "markdown",
      "source": [
        "### To run pygame\n"
      ],
      "metadata": {
        "id": "IMFjrqESPwrz"
      }
    },
    {
      "cell_type": "code",
      "source": [
        ""
      ],
      "metadata": {
        "id": "n-T66l3IPy8n"
      },
      "execution_count": 19,
      "outputs": []
    },
    {
      "cell_type": "markdown",
      "source": [
        "# Temperature Function\n",
        "Using s-curve"
      ],
      "metadata": {
        "id": "C4Bm_HjhLu4j"
      }
    },
    {
      "cell_type": "code",
      "source": [
        "# temperature function - s-curve\n",
        "def temperature(i):\n",
        "    amplitude = 1000\n",
        "    center = 0\n",
        "    width = 0.11 * iterations\n",
        "    return float(amplitude * (1 / (1 + math.exp((i - center) / width))))"
      ],
      "metadata": {
        "id": "56tX6XmV772y"
      },
      "execution_count": 20,
      "outputs": []
    },
    {
      "cell_type": "markdown",
      "source": [
        "# Dataset\n"
      ],
      "metadata": {
        "id": "uzvLXVcd8AEL"
      }
    },
    {
      "cell_type": "markdown",
      "source": [
        "## Construct job shop problem\n"
      ],
      "metadata": {
        "id": "TEcWG7fXLdOJ"
      }
    },
    {
      "cell_type": "code",
      "source": [
        "# Dataset url\n",
        "jobshop1 = \"https://raw.githubusercontent.com/DGuilherme/EnergyProductionScheduling/main/PhaseONE/Datasets/OR_JobShop/jobshop1.txt\";\n",
        "jobshop2 = \"https://raw.githubusercontent.com/DGuilherme/EnergyProductionScheduling/main/PhaseONE/Datasets/OR_JobShop/jobshop2.txt\";"
      ],
      "metadata": {
        "id": "laFCk_IUNf4s"
      },
      "execution_count": 21,
      "outputs": []
    },
    {
      "cell_type": "code",
      "source": [
        "def construct_tests_js1():\n",
        "    file = []\n",
        "    with open(jobshop1, 'r') as file1:\n",
        "        for line in file1:\n",
        "            if line.isspace():\n",
        "                continue\n",
        "            if (line[1].isdigit() or line[2].isdigit()) and line[3] != 'x':\n",
        "                file.append(line.strip())\n",
        "\n",
        "    tests = []\n",
        "    while len(file) > 0:\n",
        "        desc = file.pop(0).split()  # tuple (amount of jobs, amount of machines)\n",
        "        jobs = []\n",
        "        for x in range(int(desc[0])):\n",
        "            job_file = file.pop(0).split()\n",
        "            job = []\n",
        "            y = 0\n",
        "            while len(job_file) > 0:\n",
        "                task = (x, y, int(job_file.pop(0)), int(job_file.pop(0)))\n",
        "                y += 1\n",
        "                job.append(task)\n",
        "            jobs.append(job)\n",
        "        tests.append(jobs)\n",
        "    return tests"
      ],
      "metadata": {
        "id": "hYWlIxO5Mq2c"
      },
      "execution_count": 22,
      "outputs": []
    },
    {
      "cell_type": "code",
      "source": [
        "construct_tests_js1();"
      ],
      "metadata": {
        "colab": {
          "base_uri": "https://localhost:8080/",
          "height": 319
        },
        "id": "lEJONGsqTKT6",
        "outputId": "60d3ca47-0f92-4fee-f0e0-9b9f96ddb5be"
      },
      "execution_count": 27,
      "outputs": [
        {
          "output_type": "error",
          "ename": "FileNotFoundError",
          "evalue": "ignored",
          "traceback": [
            "\u001b[0;31m---------------------------------------------------------------------------\u001b[0m",
            "\u001b[0;31mFileNotFoundError\u001b[0m                         Traceback (most recent call last)",
            "\u001b[0;32m<ipython-input-27-5300f8814e11>\u001b[0m in \u001b[0;36m<module>\u001b[0;34m()\u001b[0m\n\u001b[0;32m----> 1\u001b[0;31m \u001b[0mconstruct_tests_js1\u001b[0m\u001b[0;34m(\u001b[0m\u001b[0;34m)\u001b[0m\u001b[0;34m;\u001b[0m\u001b[0;34m\u001b[0m\u001b[0;34m\u001b[0m\u001b[0m\n\u001b[0m",
            "\u001b[0;32m<ipython-input-22-9f46ed956ad2>\u001b[0m in \u001b[0;36mconstruct_tests_js1\u001b[0;34m()\u001b[0m\n\u001b[1;32m      1\u001b[0m \u001b[0;32mdef\u001b[0m \u001b[0mconstruct_tests_js1\u001b[0m\u001b[0;34m(\u001b[0m\u001b[0;34m)\u001b[0m\u001b[0;34m:\u001b[0m\u001b[0;34m\u001b[0m\u001b[0;34m\u001b[0m\u001b[0m\n\u001b[1;32m      2\u001b[0m     \u001b[0mfile\u001b[0m \u001b[0;34m=\u001b[0m \u001b[0;34m[\u001b[0m\u001b[0;34m]\u001b[0m\u001b[0;34m\u001b[0m\u001b[0;34m\u001b[0m\u001b[0m\n\u001b[0;32m----> 3\u001b[0;31m     \u001b[0;32mwith\u001b[0m \u001b[0mopen\u001b[0m\u001b[0;34m(\u001b[0m\u001b[0mjobshop1\u001b[0m\u001b[0;34m,\u001b[0m \u001b[0;34m'r'\u001b[0m\u001b[0;34m)\u001b[0m \u001b[0;32mas\u001b[0m \u001b[0mfile1\u001b[0m\u001b[0;34m:\u001b[0m\u001b[0;34m\u001b[0m\u001b[0;34m\u001b[0m\u001b[0m\n\u001b[0m\u001b[1;32m      4\u001b[0m         \u001b[0;32mfor\u001b[0m \u001b[0mline\u001b[0m \u001b[0;32min\u001b[0m \u001b[0mfile1\u001b[0m\u001b[0;34m:\u001b[0m\u001b[0;34m\u001b[0m\u001b[0;34m\u001b[0m\u001b[0m\n\u001b[1;32m      5\u001b[0m             \u001b[0;32mif\u001b[0m \u001b[0mline\u001b[0m\u001b[0;34m.\u001b[0m\u001b[0misspace\u001b[0m\u001b[0;34m(\u001b[0m\u001b[0;34m)\u001b[0m\u001b[0;34m:\u001b[0m\u001b[0;34m\u001b[0m\u001b[0;34m\u001b[0m\u001b[0m\n",
            "\u001b[0;31mFileNotFoundError\u001b[0m: [Errno 2] No such file or directory: 'https://raw.githubusercontent.com/DGuilherme/EnergyProductionScheduling/main/PhaseONE/Datasets/OR_JobShop/jobshop1.txt'"
          ]
        }
      ]
    },
    {
      "cell_type": "markdown",
      "source": [
        "# Algorithm Functions\n"
      ],
      "metadata": {
        "id": "h8l6JXOeLleh"
      }
    },
    {
      "cell_type": "code",
      "source": [
        "def find_prev_index(jobs, job):\n",
        "    job_n = job[0]\n",
        "    job_seq = job[1] - 1\n",
        "    if job_seq < 0:\n",
        "        return None\n",
        "    for i in range(0, len(jobs)):\n",
        "        if jobs[i][0] == job_n and jobs[i][1] == job_seq:\n",
        "            return i\n",
        "\n",
        "\n",
        "# generating a random, valid neighbor based on previous solution\n",
        "def shuffle_jobs(array):\n",
        "    while True:\n",
        "        first_job, second_job = random.choice(array), random.choice(array)\n",
        "        # check if job_number is different\n",
        "        if first_job[0] != second_job[0]:\n",
        "            # indexes of two elements\n",
        "            a, b = array.index(first_job), array.index(second_job)\n",
        "            # indexes of previous jobs\n",
        "            a_prev, b_prev = find_prev_index(array, first_job), find_prev_index(array, second_job)\n",
        "            # check if the order of jobs are still valid\n",
        "            if (a_prev is None or a_prev <= b) and (b_prev is None or b_prev <= a):\n",
        "                array[b], array[a] = array[a], array[b]  # swap jobs\n",
        "                return array\n",
        "\n",
        "\n",
        "# evaluation function, total length of schedule\n",
        "def find_max_duration(array):\n",
        "    result = 0\n",
        "    for sublist in array:\n",
        "        temp = max(sublist, key=itemgetter(2))[2]\n",
        "        if result < temp:\n",
        "            result = temp\n",
        "    return result\n",
        "\n",
        "\n",
        "# creates schedule out of a ordered job list\n",
        "# each job list is validated before\n",
        "def schedule(jobs, machine_count):\n",
        "    # first parameter is machine number\n",
        "    results = [[] for x in range(machine_count)]\n",
        "    time = [0] * (len(jobs) + 1)  # time of end of job\n",
        "    time_m = [0] * machine_count  # time end of machine last job\n",
        "    for job in jobs:\n",
        "        job_n = job[0]  # job number\n",
        "        machine_n = job[2]  # machine number\n",
        "        duration = job[3]  # duration length\n",
        "        # starting time is max(end of prev task in job, end of prev task on machine)\n",
        "        start = max(time_m[machine_n], time[job_n])\n",
        "        results[machine_n].append((job, start, start + duration))  # insert to the end\n",
        "        # update the last time of job and machine\n",
        "        time[job_n] = start + duration  # set new time of end of job\n",
        "        time_m[machine_n] = start + duration    # set new end of last job of machine\n",
        "    return results\n",
        "\n",
        "\n",
        "# function that prints schedule as readable output\n",
        "def print_result(res):\n",
        "    i = 0\n",
        "    for machine in res:\n",
        "        string = \"machine \" + str(i) + \":\"\n",
        "        for job in machine:\n",
        "            string = string + \"(\" + str(job[0][0]) + \", \" + str(job[0][1]) + \", \" + str(job[1]) + \")\"\n",
        "        print(string)\n",
        "        i += 1"
      ],
      "metadata": {
        "id": "YZU1OLqdL8UQ"
      },
      "execution_count": 23,
      "outputs": []
    },
    {
      "cell_type": "markdown",
      "source": [
        "# Data Visualization"
      ],
      "metadata": {
        "id": "9ln7YyFJQCqG"
      }
    },
    {
      "cell_type": "code",
      "source": [
        "# used to visualize a single schedule\n",
        "\n",
        "def show(schedule, am_jobs):\n",
        "\n",
        "    # window initialization\n",
        "    pygame.init()\n",
        "    dis_x = 1800\n",
        "    game_display = pygame.display.set_mode((dis_x, 900))    # change if problem with window size\n",
        "    game_display.fill((0, 0, 0))\n",
        "\n",
        "    scaling = (dis_x*0.99)/find_max_duration(schedule)  # scaling factor, so each schedule will fit\n",
        "    height = int(600 / len(schedule))   # total height the same every time, single height depends on amount of machines\n",
        "    start_x = 10\n",
        "    y = 150\n",
        "\n",
        "    # random color list, to assign each job a different color\n",
        "    colors = [(random.randint(0, 240), random.randint(0, 240), random.randint(0, 240)) for i in range(50)]\n",
        "\n",
        "    # calculate size and position of each task and create corresponding rectangle\n",
        "    for machine in schedule:\n",
        "        x = start_x + (machine[0][1] * scaling)\n",
        "        for task in machine:\n",
        "            if machine.index(task) + 1 < len(machine):\n",
        "                next = machine[machine.index(task) + 1]\n",
        "                width = next[1] - task[1]\n",
        "            pygame.draw.rect(game_display, colors[task[0][0]], (x, y, int(task[0][3] * scaling), height))\n",
        "            x += width * scaling\n",
        "        y += height\n",
        "\n",
        "    # window loop\n",
        "    while True:\n",
        "        for event in pygame.event.get():\n",
        "\n",
        "            if event.type == pygame.QUIT:\n",
        "                pygame.quit()\n",
        "                quit()\n",
        "        pygame.display.update()"
      ],
      "metadata": {
        "id": "g5-tlqK5QHIS"
      },
      "execution_count": 24,
      "outputs": []
    },
    {
      "cell_type": "markdown",
      "source": [
        "# Run \n"
      ],
      "metadata": {
        "id": "UYQ8sRafL54J"
      }
    },
    {
      "cell_type": "code",
      "source": [
        "def run():\n",
        "    tests = construct_tests_js1()       # get benchmarks in jobshop1.txt\n",
        "    jobs_data = tests[benchmark_id]         # choose the benchmark you want to run\n",
        "\n",
        "    jobs_data = [list(filter(None, i)) for i in zip_longest(*jobs_data)]\n",
        "\n",
        "    first_solution = 0\n",
        "    best_duration = int\n",
        "    best_jobs = []\n",
        "\n",
        "    for x in range(do_algo):\n",
        "\n",
        "        # order and flatten list\n",
        "        jobs = []\n",
        "        for sublist in jobs_data:\n",
        "            for item in sublist:\n",
        "                jobs.append(item)\n",
        "\n",
        "        machines_count = max(jobs, key=itemgetter(2))[2] + 1  # find how many machines are there\n",
        "        results = schedule(jobs, machines_count)      # generate first solution\n",
        "        min_duration = find_max_duration(results)     # calculate duration of first solution\n",
        "        first_solution = min_duration\n",
        "\n",
        "        best_duration = min_duration + 1\n",
        "        current_best = results       # set first solution as best_solution\n",
        "\n",
        "        for i in range(iterations):\n",
        "            old = list(results)     # previous schedule\n",
        "            alter = shuffle_jobs(jobs)      # new job list\n",
        "            results = schedule(alter, machines_count)  # calculate schedule of new solution\n",
        "\n",
        "            # calculate duration of old and new schedule\n",
        "            d_old = find_max_duration(old)\n",
        "            d_alter = find_max_duration(results)\n",
        "\n",
        "            if d_old >= d_alter:\n",
        "                jobs = alter\n",
        "            elif random.uniform(0, 1) < math.exp(-(d_alter - d_old) / temperature(i)):\n",
        "                jobs = alter\n",
        "\n",
        "            if d_alter < min_duration:\n",
        "                min_duration = d_alter\n",
        "                current_best = list(results)\n",
        "\n",
        "        if best_duration > min_duration:\n",
        "            best_duration = min_duration\n",
        "            best_jobs = current_best\n",
        "\n",
        "    print(\"first solution: \" + str(first_solution))\n",
        "    print(\"minimum duration: \" + str(best_duration))\n",
        "\n",
        "    print_result(best_jobs)\n",
        "    if visualisation:\n",
        "        show(best_jobs, len(jobs_data))\n",
        "\n"
      ],
      "metadata": {
        "id": "C1hOrMW38AZy"
      },
      "execution_count": 25,
      "outputs": []
    },
    {
      "cell_type": "code",
      "source": [
        "run();"
      ],
      "metadata": {
        "colab": {
          "base_uri": "https://localhost:8080/",
          "height": 343
        },
        "id": "YRNQrw20RbB4",
        "outputId": "8f580f9b-c810-4a27-86a1-fc2839e78326"
      },
      "execution_count": 26,
      "outputs": [
        {
          "output_type": "error",
          "ename": "FileNotFoundError",
          "evalue": "ignored",
          "traceback": [
            "\u001b[0;31m---------------------------------------------------------------------------\u001b[0m",
            "\u001b[0;31mFileNotFoundError\u001b[0m                         Traceback (most recent call last)",
            "\u001b[0;32m<ipython-input-26-bcbf0057df2b>\u001b[0m in \u001b[0;36m<module>\u001b[0;34m()\u001b[0m\n\u001b[0;32m----> 1\u001b[0;31m \u001b[0mrun\u001b[0m\u001b[0;34m(\u001b[0m\u001b[0;34m)\u001b[0m\u001b[0;34m;\u001b[0m\u001b[0;34m\u001b[0m\u001b[0;34m\u001b[0m\u001b[0m\n\u001b[0m",
            "\u001b[0;32m<ipython-input-25-06943266d846>\u001b[0m in \u001b[0;36mrun\u001b[0;34m()\u001b[0m\n\u001b[1;32m      1\u001b[0m \u001b[0;32mdef\u001b[0m \u001b[0mrun\u001b[0m\u001b[0;34m(\u001b[0m\u001b[0;34m)\u001b[0m\u001b[0;34m:\u001b[0m\u001b[0;34m\u001b[0m\u001b[0;34m\u001b[0m\u001b[0m\n\u001b[0;32m----> 2\u001b[0;31m     \u001b[0mtests\u001b[0m \u001b[0;34m=\u001b[0m \u001b[0mconstruct_tests_js1\u001b[0m\u001b[0;34m(\u001b[0m\u001b[0;34m)\u001b[0m       \u001b[0;31m# get benchmarks in jobshop1.txt\u001b[0m\u001b[0;34m\u001b[0m\u001b[0;34m\u001b[0m\u001b[0m\n\u001b[0m\u001b[1;32m      3\u001b[0m     \u001b[0mjobs_data\u001b[0m \u001b[0;34m=\u001b[0m \u001b[0mtests\u001b[0m\u001b[0;34m[\u001b[0m\u001b[0mbenchmark_id\u001b[0m\u001b[0;34m]\u001b[0m         \u001b[0;31m# choose the benchmark you want to run\u001b[0m\u001b[0;34m\u001b[0m\u001b[0;34m\u001b[0m\u001b[0m\n\u001b[1;32m      4\u001b[0m \u001b[0;34m\u001b[0m\u001b[0m\n\u001b[1;32m      5\u001b[0m     \u001b[0mjobs_data\u001b[0m \u001b[0;34m=\u001b[0m \u001b[0;34m[\u001b[0m\u001b[0mlist\u001b[0m\u001b[0;34m(\u001b[0m\u001b[0mfilter\u001b[0m\u001b[0;34m(\u001b[0m\u001b[0;32mNone\u001b[0m\u001b[0;34m,\u001b[0m \u001b[0mi\u001b[0m\u001b[0;34m)\u001b[0m\u001b[0;34m)\u001b[0m \u001b[0;32mfor\u001b[0m \u001b[0mi\u001b[0m \u001b[0;32min\u001b[0m \u001b[0mzip_longest\u001b[0m\u001b[0;34m(\u001b[0m\u001b[0;34m*\u001b[0m\u001b[0mjobs_data\u001b[0m\u001b[0;34m)\u001b[0m\u001b[0;34m]\u001b[0m\u001b[0;34m\u001b[0m\u001b[0;34m\u001b[0m\u001b[0m\n",
            "\u001b[0;32m<ipython-input-22-9f46ed956ad2>\u001b[0m in \u001b[0;36mconstruct_tests_js1\u001b[0;34m()\u001b[0m\n\u001b[1;32m      1\u001b[0m \u001b[0;32mdef\u001b[0m \u001b[0mconstruct_tests_js1\u001b[0m\u001b[0;34m(\u001b[0m\u001b[0;34m)\u001b[0m\u001b[0;34m:\u001b[0m\u001b[0;34m\u001b[0m\u001b[0;34m\u001b[0m\u001b[0m\n\u001b[1;32m      2\u001b[0m     \u001b[0mfile\u001b[0m \u001b[0;34m=\u001b[0m \u001b[0;34m[\u001b[0m\u001b[0;34m]\u001b[0m\u001b[0;34m\u001b[0m\u001b[0;34m\u001b[0m\u001b[0m\n\u001b[0;32m----> 3\u001b[0;31m     \u001b[0;32mwith\u001b[0m \u001b[0mopen\u001b[0m\u001b[0;34m(\u001b[0m\u001b[0mjobshop1\u001b[0m\u001b[0;34m,\u001b[0m \u001b[0;34m'r'\u001b[0m\u001b[0;34m)\u001b[0m \u001b[0;32mas\u001b[0m \u001b[0mfile1\u001b[0m\u001b[0;34m:\u001b[0m\u001b[0;34m\u001b[0m\u001b[0;34m\u001b[0m\u001b[0m\n\u001b[0m\u001b[1;32m      4\u001b[0m         \u001b[0;32mfor\u001b[0m \u001b[0mline\u001b[0m \u001b[0;32min\u001b[0m \u001b[0mfile1\u001b[0m\u001b[0;34m:\u001b[0m\u001b[0;34m\u001b[0m\u001b[0;34m\u001b[0m\u001b[0m\n\u001b[1;32m      5\u001b[0m             \u001b[0;32mif\u001b[0m \u001b[0mline\u001b[0m\u001b[0;34m.\u001b[0m\u001b[0misspace\u001b[0m\u001b[0;34m(\u001b[0m\u001b[0;34m)\u001b[0m\u001b[0;34m:\u001b[0m\u001b[0;34m\u001b[0m\u001b[0;34m\u001b[0m\u001b[0m\n",
            "\u001b[0;31mFileNotFoundError\u001b[0m: [Errno 2] No such file or directory: 'https://raw.githubusercontent.com/DGuilherme/EnergyProductionScheduling/main/PhaseONE/Datasets/OR_JobShop/jobshop1.txt'"
          ]
        }
      ]
    }
  ]
}