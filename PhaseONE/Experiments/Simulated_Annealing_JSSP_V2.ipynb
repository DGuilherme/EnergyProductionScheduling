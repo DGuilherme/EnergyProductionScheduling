{
 "cells": [
  {
   "cell_type": "markdown",
   "metadata": {
    "id": "d1p8J8P-Lm6H"
   },
   "source": [
    "# Imports needed\n"
   ]
  },
  {
   "cell_type": "code",
   "execution_count": 1,
   "metadata": {
    "colab": {
     "base_uri": "https://localhost:8080/"
    },
    "id": "HvbIWZAkPqh2",
    "outputId": "4aaad91c-a4bb-40ea-f549-9e6353a46dfd"
   },
   "outputs": [
    {
     "name": "stdout",
     "output_type": "stream",
     "text": [
      "Requirement already satisfied: pygame in c:\\users\\david\\anaconda3\\lib\\site-packages (2.1.2)\n"
     ]
    }
   ],
   "source": [
    "!pip install pygame"
   ]
  },
  {
   "cell_type": "code",
   "execution_count": 2,
   "metadata": {
    "colab": {
     "base_uri": "https://localhost:8080/"
    },
    "id": "ghw9jD267efU",
    "outputId": "dd0d5a5f-50a9-4bf4-e0d8-04bc4a58173f"
   },
   "outputs": [
    {
     "name": "stdout",
     "output_type": "stream",
     "text": [
      "pygame 2.1.2 (SDL 2.0.18, Python 3.8.3)\n",
      "Hello from the pygame community. https://www.pygame.org/contribute.html\n"
     ]
    }
   ],
   "source": [
    "import math\n",
    "from itertools import zip_longest\n",
    "from operator import itemgetter\n",
    "import random\n",
    "import pygame"
   ]
  },
  {
   "cell_type": "code",
   "execution_count": null,
   "metadata": {
    "id": "X4sZQcX97toN"
   },
   "outputs": [],
   "source": [
    "\n",
    "\n"
   ]
  },
  {
   "cell_type": "markdown",
   "metadata": {
    "id": "IMFjrqESPwrz"
   },
   "source": [
    "### To run pygame\n"
   ]
  },
  {
   "cell_type": "code",
   "execution_count": null,
   "metadata": {
    "id": "n-T66l3IPy8n"
   },
   "outputs": [],
   "source": []
  },
  {
   "cell_type": "markdown",
   "metadata": {
    "id": "C4Bm_HjhLu4j"
   },
   "source": [
    "# Temperature Function\n",
    "Using s-curve"
   ]
  },
  {
   "cell_type": "code",
   "execution_count": 3,
   "metadata": {
    "id": "56tX6XmV772y"
   },
   "outputs": [],
   "source": [
    "# temperature function - s-curve\n",
    "def temperature(i):\n",
    "    amplitude = 1000\n",
    "    center = 0\n",
    "    width = 0.11 * iterations\n",
    "    return float(amplitude * (1 / (1 + math.exp((i - center) / width))))"
   ]
  },
  {
   "cell_type": "markdown",
   "metadata": {
    "id": "uzvLXVcd8AEL"
   },
   "source": [
    "# Dataset\n"
   ]
  },
  {
   "cell_type": "markdown",
   "metadata": {
    "id": "TEcWG7fXLdOJ"
   },
   "source": [
    "## Construct job shop problem\n"
   ]
  },
  {
   "cell_type": "code",
   "execution_count": 4,
   "metadata": {
    "id": "YmiU9pvx5QTN"
   },
   "outputs": [],
   "source": [
    "# example dataset\n",
    "\n",
    "schedule_example = [[[(0, 0, 0, 20), (0, 1, 3, 87), (0, 2, 1, 31), (0, 3, 4, 76), (0, 4, 2, 17)], \n",
    "                     [(1, 0, 4, 25), (1, 1, 2, 32), (1, 2, 0, 24), (1, 3, 1, 18), (1, 4, 3, 81)], \n",
    "                     [(2, 0, 1, 72), (2, 1, 2, 23), (2, 2, 4, 28), (2, 3, 0, 58), (2, 4, 3, 99)], \n",
    "                     [(3, 0, 2, 86), (3, 1, 1, 76), (3, 2, 4, 97), (3, 3, 0, 45), (3, 4, 3, 90)], \n",
    "                     [(4, 0, 4, 27), (4, 1, 0, 42), (4, 2, 3, 48), (4, 3, 2, 17), (4, 4, 1, 46)], \n",
    "                     [(5, 0, 1, 67), (5, 1, 0, 98), (5, 2, 4, 48), (5, 3, 3, 27), (5, 4, 2, 62)], \n",
    "                     [(6, 0, 4, 28), (6, 1, 1, 12), (6, 2, 3, 19), (6, 3, 0, 80), (6, 4, 2, 50)], \n",
    "                     [(7, 0, 1, 63), (7, 1, 0, 94), (7, 2, 2, 98), (7, 3, 3, 50), (7, 4, 4, 80)], \n",
    "                     [(8, 0, 4, 14), (8, 1, 0, 75), (8, 2, 2, 50), (8, 3, 1, 41), (8, 4, 3, 55)], \n",
    "                     [(9, 0, 4, 72), (9, 1, 2, 18), (9, 2, 1, 37), (9, 3, 3, 79), (9, 4, 0, 61)]]];"
   ]
  },
  {
   "cell_type": "markdown",
   "metadata": {
    "id": "h8l6JXOeLleh"
   },
   "source": [
    "# Algorithm Functions\n"
   ]
  },
  {
   "cell_type": "code",
   "execution_count": 5,
   "metadata": {
    "id": "YZU1OLqdL8UQ"
   },
   "outputs": [],
   "source": [
    "def find_prev_index(jobs, job):\n",
    "    job_n = job[0]\n",
    "    job_seq = job[1] - 1\n",
    "    if job_seq < 0:\n",
    "        return None\n",
    "    for i in range(0, len(jobs)):\n",
    "        if jobs[i][0] == job_n and jobs[i][1] == job_seq:\n",
    "            return i\n",
    "\n",
    "\n",
    "# generating a random, valid neighbor based on previous solution\n",
    "def shuffle_jobs(array):\n",
    "    while True:\n",
    "        first_job, second_job = random.choice(array), random.choice(array)\n",
    "        # check if job_number is different\n",
    "        if first_job[0] != second_job[0]:\n",
    "            # indexes of two elements\n",
    "            a, b = array.index(first_job), array.index(second_job)\n",
    "            # indexes of previous jobs\n",
    "            a_prev, b_prev = find_prev_index(array, first_job), find_prev_index(array, second_job)\n",
    "            # check if the order of jobs are still valid\n",
    "            if (a_prev is None or a_prev <= b) and (b_prev is None or b_prev <= a):\n",
    "                array[b], array[a] = array[a], array[b]  # swap jobs\n",
    "                return array\n",
    "\n",
    "\n",
    "# evaluation function, total length of schedule\n",
    "def find_max_duration(array):\n",
    "    result = 0\n",
    "    array = [x for x in array if x != []]\n",
    "    for sublist in array:\n",
    "        temp = max(sublist, key=itemgetter(2))[2]\n",
    "        if result < temp:\n",
    "            result = temp\n",
    "    return result\n",
    "\n",
    "\n",
    "# creates schedule out of a ordered job list\n",
    "# each job list is validated before\n",
    "def schedule(jobs, machine_count):\n",
    "    # first parameter is machine number\n",
    "    results = [[] for x in range(machine_count)]\n",
    "    time = [0] * (len(jobs) + 1)  # time of end of job\n",
    "    time_m = [0] * machine_count  # time end of machine last job\n",
    "    for job in jobs:\n",
    "        job_n = job[0]  # job number\n",
    "        machine_n = job[2]  # machine number\n",
    "        duration = job[3]  # duration length\n",
    "        # starting time is max(end of prev task in job, end of prev task on machine)\n",
    "        start = max(time_m[machine_n], time[job_n])\n",
    "        results[machine_n].append((job, start, start + duration))  # insert to the end\n",
    "        # update the last time of job and machine\n",
    "        time[job_n] = start + duration  # set new time of end of job\n",
    "        time_m[machine_n] = start + duration    # set new end of last job of machine\n",
    "    return results\n",
    "\n",
    "\n",
    "# function that prints schedule as readable output\n",
    "def print_result(res):\n",
    "    i = 0\n",
    "    for machine in res:\n",
    "        string = \"machine \" + str(i) + \":\"\n",
    "        for job in machine:\n",
    "            string = string + \"(\" + str(job[0][0]) + \", \" + str(job[0][1]) + \", \" + str(job[1]) + \")\"\n",
    "        print(string)\n",
    "        i += 1"
   ]
  },
  {
   "cell_type": "markdown",
   "metadata": {
    "id": "9ln7YyFJQCqG"
   },
   "source": [
    "# Data Visualization"
   ]
  },
  {
   "cell_type": "code",
   "execution_count": 6,
   "metadata": {
    "id": "g5-tlqK5QHIS"
   },
   "outputs": [],
   "source": [
    "# used to visualize a single schedule\n",
    "\n",
    "def show(schedule, am_jobs):\n",
    "\n",
    "    # window initialization\n",
    "    pygame.init()\n",
    "    dis_x = 1800\n",
    "    game_display = pygame.display.set_mode((dis_x, 900))    # change if problem with window size\n",
    "    game_display.fill((0, 0, 0))\n",
    "\n",
    "    scaling = (dis_x*0.99)/find_max_duration(schedule)  # scaling factor, so each schedule will fit\n",
    "    height = int(600 / len(schedule))   # total height the same every time, single height depends on amount of machines\n",
    "    start_x = 10\n",
    "    y = 150\n",
    "\n",
    "    # random color list, to assign each job a different color\n",
    "    colors = [(random.randint(0, 240), random.randint(0, 240), random.randint(0, 240)) for i in range(50)]\n",
    "\n",
    "    # calculate size and position of each task and create corresponding rectangle\n",
    "    for machine in schedule:\n",
    "        x = start_x + (machine[0][1] * scaling)\n",
    "        for task in machine:\n",
    "            if machine.index(task) + 1 < len(machine):\n",
    "                next = machine[machine.index(task) + 1]\n",
    "                width = next[1] - task[1]\n",
    "            pygame.draw.rect(game_display, colors[task[0][0]], (x, y, int(task[0][3] * scaling), height))\n",
    "            x += width * scaling\n",
    "        y += height\n",
    "\n",
    "    # window loop\n",
    "    while True:\n",
    "        for event in pygame.event.get():\n",
    "\n",
    "            if event.type == pygame.QUIT:\n",
    "                pygame.quit()\n",
    "                quit()\n",
    "        \n",
    "        width = 300\n",
    "        height = 300\n",
    "\n",
    "# create the display window\n",
    "        #win = pygame.display.set_mode((width, height))\n",
    "        #white = (255, 255, 255)\n",
    "        #win.fill(white)\n",
    "        #pygame.image.save(win, \"image.jpg\")\n",
    "        pygame.display.update()"
   ]
  },
  {
   "cell_type": "markdown",
   "metadata": {
    "id": "UYQ8sRafL54J"
   },
   "source": [
    "# Run \n"
   ]
  },
  {
   "cell_type": "code",
   "execution_count": 7,
   "metadata": {
    "id": "C1hOrMW38AZy"
   },
   "outputs": [
    {
     "name": "stdout",
     "output_type": "stream",
     "text": [
      "Wall time: 0 ns\n"
     ]
    }
   ],
   "source": [
    "%%time\n",
    "def run():\n",
    "    #tests = construct_tests_js1()       # get benchmarks in jobshop1.txt\n",
    "    #tests = schedule\n",
    "    jobs_data = schedule_example[benchmark_id]         # choose the benchmark you want to run\n",
    "\n",
    "    jobs_data = [list(filter(None, i)) for i in zip_longest(*jobs_data)]\n",
    "\n",
    "    \n",
    "    average_makespan = 0\n",
    "    count = 0\n",
    "\n",
    "    first_solution = 0\n",
    "    best_duration = int\n",
    "    best_jobs = []\n",
    "    \n",
    "    do_algo_best_jobs = []\n",
    "    do_algo_best_duration = 1000000000000000000000000000000\n",
    "\n",
    "    for x in range(do_algo):\n",
    "\n",
    "        # order and flatten list\n",
    "        jobs = []\n",
    "        for sublist in jobs_data:\n",
    "            for item in sublist:\n",
    "                jobs.append(item)\n",
    "\n",
    "        #machines_count = max(jobs, key=itemgetter(2))[2] + 1  # find how many machines are there\n",
    "        machines_count  = 5\n",
    "        results = schedule(jobs, machines_count)      # generate first solution\n",
    "        min_duration = find_max_duration(results)     # calculate duration of first solution\n",
    "        first_solution = min_duration\n",
    "\n",
    "        best_duration = min_duration + 1\n",
    "        current_best = results       # set first solution as best_solution\n",
    "\n",
    "        for i in range(iterations):\n",
    "            old = list(results)     # previous schedule\n",
    "            alter = shuffle_jobs(jobs)      # new job list\n",
    "            results = schedule(alter, machines_count)  # calculate schedule of new solution\n",
    "\n",
    "            # calculate duration of old and new schedule\n",
    "            d_old = find_max_duration(old)\n",
    "            d_alter = find_max_duration(results)\n",
    "\n",
    "            if d_old >= d_alter:\n",
    "                jobs = alter\n",
    "            elif random.uniform(0, 1) < math.exp(-(d_alter - d_old) / temperature(i)):\n",
    "                jobs = alter\n",
    "\n",
    "            if d_alter < min_duration:\n",
    "                min_duration = d_alter\n",
    "                current_best = list(results)\n",
    "                \n",
    "        count +=1;    \n",
    "        #print(\"Min Duration for iteration\"+str(count)+\": \"+str(min_duration));\n",
    "        #print(\"Previoues Best Duration for iteration\"+str(count)+\": \"+str(best_duration));\n",
    "        \n",
    "        average_makespan = average_makespan + min_duration\n",
    "        if best_duration > min_duration:\n",
    "            best_duration = min_duration\n",
    "            best_jobs = current_best\n",
    "        \n",
    "        if do_algo_best_duration > min_duration:\n",
    "            do_algo_best_duration = min_duration\n",
    "            do_algo_best_jobs = current_best\n",
    "        \n",
    "        #print(\"After Best Duration for iteration\"+str(count)+\": \"+str(best_duration));\n",
    "\n",
    "    print(\"first solution: \" + str(first_solution))\n",
    "    print(\"minimum duration: \" + str(do_algo_best_duration))\n",
    "    print(\"average duration:\" + str(average_makespan/do_algo))\n",
    "\n",
    "    print_result(do_algo_best_jobs)\n",
    "    if visualisation:\n",
    "        show(best_jobs, len(jobs_data))\n",
    "\n"
   ]
  },
  {
   "cell_type": "code",
   "execution_count": null,
   "metadata": {
    "colab": {
     "base_uri": "https://localhost:8080/",
     "height": 394
    },
    "id": "YRNQrw20RbB4",
    "outputId": "ed91a724-14fb-4e5a-e862-303a55f4cf8a"
   },
   "outputs": [
    {
     "name": "stdout",
     "output_type": "stream",
     "text": [
      "first solution: 904\n",
      "minimum duration: 702\n",
      "average duration:768.74\n",
      "machine 0:(0, 0, 0)(7, 1, 20)(2, 3, 114)(6, 3, 183)(8, 1, 263)(3, 3, 338)(5, 1, 393)(4, 1, 491)(1, 2, 533)(9, 4, 559)\n",
      "machine 1:(2, 0, 0)(6, 1, 72)(7, 0, 164)(9, 2, 227)(5, 0, 264)(4, 4, 331)(0, 2, 377)(3, 1, 408)(8, 3, 643)(1, 3, 684)\n",
      "machine 2:(2, 1, 72)(3, 0, 95)(1, 1, 181)(5, 4, 331)(6, 4, 393)(7, 2, 443)(9, 1, 541)(4, 3, 559)(0, 4, 576)(8, 2, 593)\n",
      "machine 3:(0, 1, 20)(7, 3, 114)(6, 2, 164)(4, 2, 183)(5, 3, 231)(9, 3, 264)(2, 4, 343)(8, 4, 442)(3, 4, 497)(1, 4, 587)\n",
      "machine 4:(4, 0, 0)(6, 0, 27)(9, 0, 55)(8, 0, 127)(1, 0, 141)(2, 2, 172)(3, 2, 200)(0, 3, 408)(7, 4, 541)(5, 2, 621)\n"
     ]
    }
   ],
   "source": [
    "%%time\n",
    "\n",
    "visualisation = True  # maybe turn of if do_algo > 1\n",
    "iterations = 1000 # amount of iterations, while one iteration of the algorithm\n",
    "do_algo = 50  # iterations of applying the algorithm\n",
    "benchmark_id = 0  # choose number between 0 and 81, check tests.txt\n",
    "\n",
    "import time\n",
    "start_time = time.time()\n",
    "run()\n",
    "print(\"--- %s seconds ---\" % (time.time() - start_time))\n"
   ]
  },
  {
   "cell_type": "code",
   "execution_count": null,
   "metadata": {},
   "outputs": [],
   "source": []
  }
 ],
 "metadata": {
  "colab": {
   "name": "Simulated_Annealing_JSSP.ipynb",
   "provenance": []
  },
  "kernelspec": {
   "display_name": "Python 3",
   "language": "python",
   "name": "python3"
  },
  "language_info": {
   "codemirror_mode": {
    "name": "ipython",
    "version": 3
   },
   "file_extension": ".py",
   "mimetype": "text/x-python",
   "name": "python",
   "nbconvert_exporter": "python",
   "pygments_lexer": "ipython3",
   "version": "3.8.3"
  }
 },
 "nbformat": 4,
 "nbformat_minor": 4
}
