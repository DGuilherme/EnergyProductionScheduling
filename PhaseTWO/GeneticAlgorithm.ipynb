{
  "nbformat": 4,
  "nbformat_minor": 0,
  "metadata": {
    "colab": {
      "name": "GeneticAlgorithm.ipynb",
      "provenance": [],
      "collapsed_sections": [],
      "authorship_tag": "ABX9TyOEDMLt+nPYOdMUwZfkyvpg",
      "include_colab_link": true
    },
    "kernelspec": {
      "name": "python3",
      "display_name": "Python 3"
    },
    "language_info": {
      "name": "python"
    }
  },
  "cells": [
    {
      "cell_type": "markdown",
      "metadata": {
        "id": "view-in-github",
        "colab_type": "text"
      },
      "source": [
        "<a href=\"https://colab.research.google.com/github/DGuilherme/EnergyProductionScheduling/blob/main/PhaseTWO/GeneticAlgorithm.ipynb\" target=\"_parent\"><img src=\"https://colab.research.google.com/assets/colab-badge.svg\" alt=\"Open In Colab\"/></a>"
      ]
    },
    {
      "cell_type": "markdown",
      "source": [
        "# Genetic Algorithm Implmentation\n",
        "*A stochastic global optimization algorithm*"
      ],
      "metadata": {
        "id": "N0Uf-FX9ybky"
      }
    },
    {
      "cell_type": "markdown",
      "source": [
        "# Imports"
      ],
      "metadata": {
        "id": "-YC30YiHuDqr"
      }
    },
    {
      "cell_type": "code",
      "source": [
        "!pip install chart_studio"
      ],
      "metadata": {
        "id": "xp9HaG76uZS9"
      },
      "execution_count": null,
      "outputs": []
    },
    {
      "cell_type": "code",
      "source": [
        "# importing required modules\n",
        "import pandas as pd\n",
        "import numpy as np\n",
        "import matplotlib.pyplot as plt\n",
        "import pandas as pd\n",
        "import chart_studio.plotly as py\n",
        "import plotly.figure_factory as ff\n",
        "import datetime\n",
        "import time\n",
        "import copy\n",
        "\n",
        "#importing libraries\n",
        "import pandas as pd\n",
        "import openpyxl as xl\n",
        "import json\n",
        "\n",
        "import chart_studio.plotly as py\n",
        "import plotly.figure_factory as ff"
      ],
      "metadata": {
        "id": "IAsdOzbyuGlo"
      },
      "execution_count": 6,
      "outputs": []
    },
    {
      "cell_type": "markdown",
      "source": [
        "# Functions to help file reading\n"
      ],
      "metadata": {
        "id": "nwxFGVW5t33A"
      }
    },
    {
      "cell_type": "code",
      "source": [
        "\"\"\" Defined function for static initial data for Production Planning \"\"\"\n",
        "\n",
        "def data_excel_json(excel_sheet):\n",
        "    \"\"\" convert excel into json \"\"\"\n",
        "    data_excel = xl.load_workbook(excel_sheet)\n",
        "    data = {}\n",
        "    sheet_name = data_excel.sheetnames\n",
        "    for sheet in sheet_name:\n",
        "        wb_sheet = data_excel[sheet]\n",
        "        cell_values = wb_sheet.values\n",
        "        df =  pd.DataFrame(cell_values, columns=next(cell_values))\n",
        "        df.iloc[:, 0] = df.iloc[:, 0].apply(lambda x : x.strip())\n",
        "        df.index = df.iloc[:, 0]\n",
        "        df.drop(columns = df.columns[0], inplace=True)\n",
        "        data[sheet] = df.T.to_dict()\n",
        "    return data"
      ],
      "metadata": {
        "id": "lqBc6XhHt1J7"
      },
      "execution_count": 7,
      "outputs": []
    },
    {
      "cell_type": "code",
      "source": [
        "def json_to_df(json_data):\n",
        "    \"\"\" convert json into excel \"\"\"\n",
        "    dict_data = {}\n",
        "    for key in json_data.keys():\n",
        "        dict_data[key] = pd.DataFrame(json_data.get(key)).T\n",
        "    return dict_data"
      ],
      "metadata": {
        "id": "oWk2KEtiup0_"
      },
      "execution_count": 8,
      "outputs": []
    },
    {
      "cell_type": "code",
      "source": [
        "def json_to_df(json_data):\n",
        "    \"\"\" convert json into excel \"\"\"\n",
        "    dict_data = {}\n",
        "    for key in json_data.keys():\n",
        "        dict_data[key] = pd.DataFrame(json_data.get(key)).T\n",
        "\n",
        "    return dict_data"
      ],
      "metadata": {
        "id": "wy9TxEbxumpx"
      },
      "execution_count": 9,
      "outputs": []
    },
    {
      "cell_type": "markdown",
      "source": [
        "# Implementation\n"
      ],
      "metadata": {
        "id": "RW9E1C72u67w"
      }
    },
    {
      "cell_type": "code",
      "source": [
        "def generate_initial_population(population_size, num_gene):\n",
        "\n",
        "    \"\"\" generate initial population for Genetic Algorithm \"\"\"\n",
        "\n",
        "    best_list, best_obj = [], []\n",
        "    population_list = []\n",
        "    makespan_record = []\n",
        "    for i in range(population_size):\n",
        "        nxm_random_num = list(np.random.permutation(num_gene)) # generate a random permutation of 0 to num_job*num_mc-1\n",
        "        population_list.append(nxm_random_num) # add to the population_list\n",
        "        for j in range(num_gene):\n",
        "            population_list[i][j] = population_list[i][j] % num_job # convert to job number format, every job appears m times\n",
        "\n",
        "    return population_list"
      ],
      "metadata": {
        "id": "TkChA8DZu92u"
      },
      "execution_count": 10,
      "outputs": []
    },
    {
      "cell_type": "code",
      "source": [
        "def job_schedule(data_dict, population_size = 30, crossover_rate = 0.8, mutation_rate = 0.2, mutation_selection_rate = 0.2, num_iteration = 2000):\n",
        "\n",
        "    \"\"\" initialize genetic algorithm parameters and read data \"\"\"\n",
        "    data_json  = json_to_df(data_dict)\n",
        "    machine_sequence_tmp = data_json['Machines Sequence']\n",
        "    process_time_tmp = data_json['Processing Time']\n",
        "\n",
        "    df_shape = process_time_tmp.shape\n",
        "    num_machines = df_shape[1] # number of machines\n",
        "    num_job = df_shape[0] # number of jobs\n",
        "    num_gene = num_machines * num_job # number of genes in a chromosome\n",
        "    num_mutation_jobs = round(num_gene * mutation_selection_rate)\n",
        "\n",
        "    process_time = [list(map(int, process_time_tmp.iloc[i])) for i in range(num_job)]\n",
        "    machine_sequence = [list(map(int, machine_sequence_tmp.iloc[i])) for i in range(num_job)]\n",
        "    \n",
        "    #start_time = time.time()\n",
        "\n",
        "    Tbest = 999999999999999\n",
        "\n",
        "    best_list, best_obj = [], []\n",
        "    population_list = []\n",
        "    makespan_record = []\n",
        "\n",
        "    for i in range(population_size):\n",
        "        nxm_random_num = list(np.random.permutation(num_gene)) # generate a random permutation of 0 to num_job*num_mc-1\n",
        "        population_list.append(nxm_random_num) # add to the population_list\n",
        "        for j in range(num_gene):\n",
        "            population_list[i][j] = population_list[i][j] % num_job # convert to job number format, every job appears m times\n",
        "    #population_list = generate_initial_population(population_size=population_size, num_gene=num_gene)\n",
        "\n",
        "    for iteration in range(num_iteration):\n",
        "        Tbest_now = 99999999999\n",
        "\n",
        "        \"\"\" Two Point Cross-Over \"\"\"\n",
        "        parent_list = copy.deepcopy(population_list)\n",
        "        offspring_list = copy.deepcopy(population_list) # generate a random sequence to select the parent chromosome to crossover\n",
        "        pop_random_size = list(np.random.permutation(population_size))\n",
        "\n",
        "        for size in range(int(population_size/2)):\n",
        "            crossover_prob = np.random.rand()\n",
        "            if crossover_rate >= crossover_prob:\n",
        "                parent_1 = population_list[pop_random_size[2*size]][:]\n",
        "                parent_2 = population_list[pop_random_size[2*size+1]][:]\n",
        "\n",
        "                child_1 = parent_1[:]\n",
        "                child_2 = parent_2[:]\n",
        "                cutpoint = list(np.random.choice(num_gene, 2, replace=False))\n",
        "                cutpoint.sort()\n",
        "\n",
        "                child_1[cutpoint[0]:cutpoint[1]] = parent_2[cutpoint[0]:cutpoint[1]]\n",
        "                child_2[cutpoint[0]:cutpoint[1]] = parent_1[cutpoint[0]:cutpoint[1]]\n",
        "                offspring_list[pop_random_size[2*size]] = child_1[:]\n",
        "                offspring_list[pop_random_size[2*size+1]] = child_2[:]\n",
        "\n",
        "\n",
        "        for pop in range(population_size):\n",
        "\n",
        "            \"\"\" Repairment \"\"\"\n",
        "            job_count = {}\n",
        "            larger, less = [], [] # 'larger' record jobs appear in the chromosome more than pop times, and 'less' records less than pop times.\n",
        "            for job in range(num_job):\n",
        "                if job in offspring_list[pop]:\n",
        "                    count = offspring_list[pop].count(job)\n",
        "                    pos = offspring_list[pop].index(job)\n",
        "                    job_count[job] = [count, pos] # store the above two values to the job_count dictionary\n",
        "                else:\n",
        "                    count = 0\n",
        "                    job_count[job] = [count, 0]\n",
        "\n",
        "                if count > num_machines:\n",
        "                    larger.append(job)\n",
        "                elif count < num_machines:\n",
        "                    less.append(job)\n",
        "                    \n",
        "            for large in range(len(larger)):\n",
        "                change_job = larger[large]\n",
        "                while job_count[change_job][0] > num_machines:\n",
        "                    for les in range(len(less)):\n",
        "                        if job_count[less[les]][0] < num_machines:                    \n",
        "                            offspring_list[pop][job_count[change_job][1]] = less[les]\n",
        "                            job_count[change_job][1] = offspring_list[pop].index(change_job)\n",
        "                            job_count[change_job][0] = job_count[change_job][0]-1\n",
        "                            job_count[less[les]][0] = job_count[less[les]][0]+1                    \n",
        "                        if job_count[change_job][0] == num_machines:\n",
        "                            break     \n",
        "    \n",
        "\n",
        "        \n",
        "        for off_spring in range(len(offspring_list)):\n",
        "\n",
        "            \"\"\" Mutations \"\"\"\n",
        "            mutation_prob = np.random.rand()\n",
        "            if mutation_rate >= mutation_prob:\n",
        "                m_change = list(np.random.choice(num_gene, num_mutation_jobs, replace=False)) # chooses the position to mutation\n",
        "                t_value_last = offspring_list[off_spring][m_change[0]] # save the value which is on the first mutation position\n",
        "                for i in range(num_mutation_jobs-1):\n",
        "                    offspring_list[off_spring][m_change[i]] = offspring_list[off_spring][m_change[i+1]] # displacement\n",
        "                # move the value of the first mutation position to the last mutation position\n",
        "                offspring_list[off_spring][m_change[num_mutation_jobs-1]] = t_value_last \n",
        "\n",
        "\n",
        "\n",
        "        \"\"\" fitness value (calculate makespan) \"\"\"\n",
        "        total_chromosome = copy.deepcopy(parent_list) + copy.deepcopy(offspring_list) # parent and offspring chromosomes combination\n",
        "        chrom_fitness, chrom_fit = [], []\n",
        "        total_fitness = 0\n",
        "        for pop_size in range(population_size*2):\n",
        "            j_keys = [j for j in range(num_job)]\n",
        "            key_count = {key:0 for key in j_keys}\n",
        "            j_count = {key:0 for key in j_keys}\n",
        "            m_keys = [j+1 for j in range(num_machines)]\n",
        "            m_count = {key:0 for key in m_keys}\n",
        "            \n",
        "            for i in total_chromosome[pop_size]:\n",
        "                gen_t = int(process_time[i][key_count[i]])\n",
        "                gen_m = int(machine_sequence[i][key_count[i]])\n",
        "                j_count[i] = j_count[i] + gen_t\n",
        "                m_count[gen_m] = m_count[gen_m] + gen_t\n",
        "                \n",
        "                if m_count[gen_m] < j_count[i]:\n",
        "                    m_count[gen_m] = j_count[i]\n",
        "                elif m_count[gen_m] > j_count[i]:\n",
        "                    j_count[i] = m_count[gen_m]\n",
        "                \n",
        "                key_count[i] = key_count[i] + 1\n",
        "        \n",
        "            makespan = max(j_count.values())\n",
        "            chrom_fitness.append(1/makespan)\n",
        "            chrom_fit.append(makespan)\n",
        "            total_fitness = total_fitness + chrom_fitness[pop_size]\n",
        "        \n",
        "\n",
        "        \"\"\" Selection (roulette wheel approach) \"\"\"\n",
        "        pk, qk = [], []\n",
        "        \n",
        "        for size in range(population_size * 2):\n",
        "            pk.append(chrom_fitness[size] / total_fitness)\n",
        "        for size in range(population_size * 2):\n",
        "            cumulative = 0\n",
        "\n",
        "            for j in range(0, size+1):\n",
        "                cumulative = cumulative + pk[j]\n",
        "            qk.append(cumulative)\n",
        "        \n",
        "        selection_rand = [np.random.rand() for i in range(population_size)]\n",
        "        \n",
        "        for pop_size in range(population_size):\n",
        "            if selection_rand[pop_size] <= qk[0]:\n",
        "                population_list[pop_size] = copy.deepcopy(total_chromosome[0])\n",
        "            else:\n",
        "                for j in range(0, population_size * 2-1):\n",
        "                    if selection_rand[pop_size] > qk[j] and selection_rand[pop_size] <= qk[j+1]:\n",
        "                        population_list[pop_size] = copy.deepcopy(total_chromosome[j+1])\n",
        "                        break\n",
        "\n",
        "\n",
        "        \"\"\" comparison \"\"\"\n",
        "        for pop_size in range(population_size * 2):\n",
        "            if chrom_fit[pop_size] < Tbest_now:\n",
        "                Tbest_now = chrom_fit[pop_size]\n",
        "                sequence_now = copy.deepcopy(total_chromosome[pop_size])\n",
        "        if Tbest_now <= Tbest:\n",
        "            Tbest = Tbest_now\n",
        "            sequence_best = copy.deepcopy(sequence_now)\n",
        "            \n",
        "        makespan_record.append(Tbest)\n",
        "\n",
        "    \"\"\" Results - Makespan \"\"\"\n",
        "\n",
        "    print(\"optimal sequence\", sequence_best)\n",
        "    print(\"optimal value:%f\"%Tbest)\n",
        "    print(\"\\n\")\n",
        "    #print('the elapsed time:%s'% (time.time() - start_time))\n",
        "\n",
        "    #%matplotlib inline\n",
        "    plt.plot([i for i in range(len(makespan_record))],makespan_record,'b')\n",
        "    plt.ylabel('makespan', fontsize=15)\n",
        "    plt.xlabel('generation', fontsize=15)\n",
        "    plt.show()\n",
        "\n",
        "\n",
        "    \"\"\" plot gantt chart \"\"\"\n",
        "\n",
        "    m_keys = [j+1 for j in range(num_machines)]\n",
        "    j_keys = [j for j in range(num_job)]\n",
        "    key_count = {key:0 for key in j_keys}\n",
        "    j_count = {key:0 for key in j_keys}\n",
        "    m_count = {key:0 for key in m_keys}\n",
        "    j_record = {}\n",
        "    for i in sequence_best:\n",
        "        gen_t = int(process_time[i][key_count[i]])\n",
        "        gen_m = int(machine_sequence[i][key_count[i]])\n",
        "        j_count[i] = j_count[i] + gen_t\n",
        "        m_count[gen_m] = m_count[gen_m] + gen_t\n",
        "\n",
        "        if m_count[gen_m] < j_count[i]:\n",
        "            m_count[gen_m] = j_count[i]\n",
        "        elif m_count[gen_m] > j_count[i]:\n",
        "            j_count[i] = m_count[gen_m]\n",
        "\n",
        "        start_time = str(datetime.timedelta(seconds = j_count[i] - process_time[i][key_count[i]])) # convert seconds to hours, minutes and seconds\n",
        "        end_time = str(datetime.timedelta(seconds = j_count[i]))\n",
        "\n",
        "        j_record[(i, gen_m)] = [start_time, end_time]\n",
        "\n",
        "        key_count[i] = key_count[i] + 1\n",
        "\n",
        "\n",
        "    df = []\n",
        "    for m in m_keys:\n",
        "        for j in j_keys:\n",
        "            df.append(dict(Task='Machine %s'%(m), Start='2020-02-01 %s'%(str(j_record[(j,m)][0])), \\\n",
        "                            Finish='2020-02-01 %s'%(str(j_record[(j,m)][1])),Resource='Job %s'%(j+1)))\n",
        "    \n",
        "    df_ = pd.DataFrame(df)\n",
        "    df_.Start = pd.to_datetime(df_['Start'])\n",
        "    df_.Finish = pd.to_datetime(df_['Finish'])\n",
        "    start = df_.Start.min()\n",
        "    end = df_.Finish.max()\n",
        "\n",
        "    df_.Start = df_.Start.apply(lambda x: x.strftime('%Y-%m-%dT%H:%M:%S'))\n",
        "    df_.Finish = df_.Finish.apply(lambda x: x.strftime('%Y-%m-%dT%H:%M:%S'))\n",
        "    data = df_.to_dict('record')\n",
        "\n",
        "    final_data ={\n",
        "        'start':start.strftime('%Y-%m-%dT%H:%M:%S'),\n",
        "        'end':end.strftime('%Y-%m-%dT%H:%M:%S'),\n",
        "        'data':data}\n",
        "        \n",
        "    fig = ff.create_gantt(df, index_col='Resource', show_colorbar=True, group_tasks=True, showgrid_x=True, title='Job shop Schedule')\n",
        "    fig.show()\n",
        "    #iplot(fig, filename='GA_job_shop_scheduling')\n",
        "    return final_data, df"
      ],
      "metadata": {
        "id": "O34eU5kYvCm2"
      },
      "execution_count": 12,
      "outputs": []
    },
    {
      "cell_type": "markdown",
      "source": [
        "# Execution"
      ],
      "metadata": {
        "id": "O7cM_0UsvJKC"
      }
    },
    {
      "cell_type": "code",
      "source": [
        "# change xlsx path\n",
        "\n",
        "\"\"\" Job_Shop_Schedule \"\"\"\n",
        "\n",
        "data = data_excel_json('data/JSP_dataset.xlsx')\n",
        "schedule = job_schedule(data_dict=data)\n",
        "\n"
      ],
      "metadata": {
        "id": "tiGhXEW6vKsy"
      },
      "execution_count": null,
      "outputs": []
    },
    {
      "cell_type": "code",
      "source": [
        "df = schedule[1]\n",
        "fig = ff.create_gantt(df, index_col='Resource', show_colorbar=True, group_tasks=True, showgrid_x=True, title='Job shop Schedule')\n",
        "fig.show()"
      ],
      "metadata": {
        "id": "hiT-4IN9vbyh"
      },
      "execution_count": null,
      "outputs": []
    }
  ]
}