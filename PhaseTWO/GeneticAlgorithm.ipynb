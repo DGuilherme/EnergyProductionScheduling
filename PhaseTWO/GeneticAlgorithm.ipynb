{
  "nbformat": 4,
  "nbformat_minor": 0,
  "metadata": {
    "colab": {
      "name": "GeneticAlgorithm.ipynb",
      "provenance": [],
      "collapsed_sections": [],
      "authorship_tag": "ABX9TyOeZnc1g4Wzd2pT1CZp19RZ",
      "include_colab_link": true
    },
    "kernelspec": {
      "name": "python3",
      "display_name": "Python 3"
    },
    "language_info": {
      "name": "python"
    }
  },
  "cells": [
    {
      "cell_type": "markdown",
      "metadata": {
        "id": "view-in-github",
        "colab_type": "text"
      },
      "source": [
        "<a href=\"https://colab.research.google.com/github/DGuilherme/EnergyProductionScheduling/blob/main/PhaseTWO/GeneticAlgorithm.ipynb\" target=\"_parent\"><img src=\"https://colab.research.google.com/assets/colab-badge.svg\" alt=\"Open In Colab\"/></a>"
      ]
    },
    {
      "cell_type": "markdown",
      "source": [
        "# Genetic Algorithm Implmentation\n",
        "*A stochastic global optimization algorithm*"
      ],
      "metadata": {
        "id": "N0Uf-FX9ybky"
      }
    },
    {
      "cell_type": "markdown",
      "source": [
        "# Imports"
      ],
      "metadata": {
        "id": "-YC30YiHuDqr"
      }
    },
    {
      "cell_type": "code",
      "source": [
        "!pip install chart_studio\n",
        "\n",
        "!pip install openpyxl==3.0.9"
      ],
      "metadata": {
        "colab": {
          "base_uri": "https://localhost:8080/"
        },
        "id": "xp9HaG76uZS9",
        "outputId": "55b8a326-005c-4b48-d76a-d56a1780d1b0"
      },
      "execution_count": 21,
      "outputs": [
        {
          "output_type": "stream",
          "name": "stdout",
          "text": [
            "Requirement already satisfied: chart_studio in /usr/local/lib/python3.7/dist-packages (1.1.0)\n",
            "Requirement already satisfied: requests in /usr/local/lib/python3.7/dist-packages (from chart_studio) (2.23.0)\n",
            "Requirement already satisfied: retrying>=1.3.3 in /usr/local/lib/python3.7/dist-packages (from chart_studio) (1.3.3)\n",
            "Requirement already satisfied: six in /usr/local/lib/python3.7/dist-packages (from chart_studio) (1.15.0)\n",
            "Requirement already satisfied: plotly in /usr/local/lib/python3.7/dist-packages (from chart_studio) (5.5.0)\n",
            "Requirement already satisfied: tenacity>=6.2.0 in /usr/local/lib/python3.7/dist-packages (from plotly->chart_studio) (8.0.1)\n",
            "Requirement already satisfied: idna<3,>=2.5 in /usr/local/lib/python3.7/dist-packages (from requests->chart_studio) (2.10)\n",
            "Requirement already satisfied: urllib3!=1.25.0,!=1.25.1,<1.26,>=1.21.1 in /usr/local/lib/python3.7/dist-packages (from requests->chart_studio) (1.24.3)\n",
            "Requirement already satisfied: certifi>=2017.4.17 in /usr/local/lib/python3.7/dist-packages (from requests->chart_studio) (2021.10.8)\n",
            "Requirement already satisfied: chardet<4,>=3.0.2 in /usr/local/lib/python3.7/dist-packages (from requests->chart_studio) (3.0.4)\n",
            "Requirement already satisfied: openpyxl==3.0.9 in /usr/local/lib/python3.7/dist-packages (3.0.9)\n",
            "Requirement already satisfied: et-xmlfile in /usr/local/lib/python3.7/dist-packages (from openpyxl==3.0.9) (1.1.0)\n"
          ]
        }
      ]
    },
    {
      "cell_type": "code",
      "source": [
        "# importing required modules\n",
        "import pandas as pd\n",
        "import numpy as np\n",
        "import matplotlib.pyplot as plt\n",
        "import pandas as pd\n",
        "import chart_studio.plotly as py\n",
        "import plotly.figure_factory as ff\n",
        "import datetime\n",
        "import time\n",
        "import copy\n",
        "\n",
        "#importing libraries\n",
        "import pandas as pd\n",
        "import openpyxl as xl\n",
        "import json\n",
        "\n",
        "import chart_studio.plotly as py\n",
        "import plotly.figure_factory as ff"
      ],
      "metadata": {
        "id": "IAsdOzbyuGlo"
      },
      "execution_count": 6,
      "outputs": []
    },
    {
      "cell_type": "markdown",
      "source": [
        "# Functions to help file reading\n"
      ],
      "metadata": {
        "id": "nwxFGVW5t33A"
      }
    },
    {
      "cell_type": "code",
      "source": [
        "\"\"\" Defined function for static initial data for Production Planning \"\"\"\n",
        "\n",
        "def data_excel_json(excel_sheet):\n",
        "    \"\"\" convert excel into json \"\"\"\n",
        "    data_excel = xl.load_workbook(excel_sheet)\n",
        "    data = {}\n",
        "    sheet_name = data_excel.sheetnames\n",
        "    for sheet in sheet_name:\n",
        "        wb_sheet = data_excel[sheet]\n",
        "        cell_values = wb_sheet.values\n",
        "        df =  pd.DataFrame(cell_values, columns=next(cell_values))\n",
        "        df.iloc[:, 0] = df.iloc[:, 0].apply(lambda x : x.strip())\n",
        "        df.index = df.iloc[:, 0]\n",
        "        df.drop(columns = df.columns[0], inplace=True)\n",
        "        data[sheet] = df.T.to_dict()\n",
        "    return data"
      ],
      "metadata": {
        "id": "lqBc6XhHt1J7"
      },
      "execution_count": 36,
      "outputs": []
    },
    {
      "cell_type": "code",
      "source": [
        "def json_to_df(json_data):\n",
        "    \"\"\" convert json into excel \"\"\"\n",
        "    dict_data = {}\n",
        "    for key in json_data.keys():\n",
        "        dict_data[key] = pd.DataFrame(json_data.get(key)).T\n",
        "    return dict_data"
      ],
      "metadata": {
        "id": "oWk2KEtiup0_"
      },
      "execution_count": 8,
      "outputs": []
    },
    {
      "cell_type": "markdown",
      "source": [
        "# Implementation\n"
      ],
      "metadata": {
        "id": "RW9E1C72u67w"
      }
    },
    {
      "cell_type": "code",
      "source": [
        "def generate_initial_population(population_size, num_gene):\n",
        "\n",
        "    \"\"\" generate initial population for Genetic Algorithm \"\"\"\n",
        "\n",
        "    best_list, best_obj = [], []\n",
        "    population_list = []\n",
        "    makespan_record = []\n",
        "    for i in range(population_size):\n",
        "        nxm_random_num = list(np.random.permutation(num_gene)) # generate a random permutation of 0 to num_job*num_mc-1\n",
        "        population_list.append(nxm_random_num) # add to the population_list\n",
        "        for j in range(num_gene):\n",
        "            population_list[i][j] = population_list[i][j] % num_job # convert to job number format, every job appears m times\n",
        "\n",
        "    return population_list"
      ],
      "metadata": {
        "id": "TkChA8DZu92u"
      },
      "execution_count": 18,
      "outputs": []
    },
    {
      "cell_type": "code",
      "source": [
        "def job_schedule(data_dict, population_size = 30, crossover_rate = 0.8, mutation_rate = 0.2, mutation_selection_rate = 0.2, num_iteration = 2000):\n",
        "\n",
        "    \"\"\" initialize genetic algorithm parameters and read data \"\"\"\n",
        "    data_json  = json_to_df(data_dict)\n",
        "    machine_sequence_tmp = data_json['Machines Sequence']\n",
        "    process_time_tmp = data_json['Processing Time']\n",
        "\n",
        "    df_shape = process_time_tmp.shape\n",
        "    num_machines = df_shape[1] # number of machines\n",
        "    num_job = df_shape[0] # number of jobs\n",
        "    num_gene = num_machines * num_job # number of genes in a chromosome\n",
        "    num_mutation_jobs = round(num_gene * mutation_selection_rate)\n",
        "\n",
        "    process_time = [list(map(int, process_time_tmp.iloc[i])) for i in range(num_job)]\n",
        "    machine_sequence = [list(map(int, machine_sequence_tmp.iloc[i])) for i in range(num_job)]\n",
        "    \n",
        "    #start_time = time.time()\n",
        "\n",
        "    Tbest = 999999999999999\n",
        "\n",
        "    best_list, best_obj = [], []\n",
        "    population_list = []\n",
        "    makespan_record = []\n",
        "\n",
        "    for i in range(population_size):\n",
        "        nxm_random_num = list(np.random.permutation(num_gene)) # generate a random permutation of 0 to num_job*num_mc-1\n",
        "        population_list.append(nxm_random_num) # add to the population_list\n",
        "        for j in range(num_gene):\n",
        "            population_list[i][j] = population_list[i][j] % num_job # convert to job number format, every job appears m times\n",
        "    #population_list = generate_initial_population(population_size=population_size, num_gene=num_gene)\n",
        "\n",
        "    for iteration in range(num_iteration):\n",
        "        Tbest_now = 99999999999\n",
        "\n",
        "        \"\"\" Two Point Cross-Over \"\"\"\n",
        "        parent_list = copy.deepcopy(population_list)\n",
        "        offspring_list = copy.deepcopy(population_list) # generate a random sequence to select the parent chromosome to crossover\n",
        "        pop_random_size = list(np.random.permutation(population_size))\n",
        "\n",
        "        for size in range(int(population_size/2)):\n",
        "            crossover_prob = np.random.rand()\n",
        "            if crossover_rate >= crossover_prob:\n",
        "                parent_1 = population_list[pop_random_size[2*size]][:]\n",
        "                parent_2 = population_list[pop_random_size[2*size+1]][:]\n",
        "\n",
        "                child_1 = parent_1[:]\n",
        "                child_2 = parent_2[:]\n",
        "                cutpoint = list(np.random.choice(num_gene, 2, replace=False))\n",
        "                cutpoint.sort()\n",
        "\n",
        "                child_1[cutpoint[0]:cutpoint[1]] = parent_2[cutpoint[0]:cutpoint[1]]\n",
        "                child_2[cutpoint[0]:cutpoint[1]] = parent_1[cutpoint[0]:cutpoint[1]]\n",
        "                offspring_list[pop_random_size[2*size]] = child_1[:]\n",
        "                offspring_list[pop_random_size[2*size+1]] = child_2[:]\n",
        "\n",
        "\n",
        "        for pop in range(population_size):\n",
        "\n",
        "            \"\"\" Repairment \"\"\"\n",
        "            job_count = {}\n",
        "            larger, less = [], [] # 'larger' record jobs appear in the chromosome more than pop times, and 'less' records less than pop times.\n",
        "            for job in range(num_job):\n",
        "                if job in offspring_list[pop]:\n",
        "                    count = offspring_list[pop].count(job)\n",
        "                    pos = offspring_list[pop].index(job)\n",
        "                    job_count[job] = [count, pos] # store the above two values to the job_count dictionary\n",
        "                else:\n",
        "                    count = 0\n",
        "                    job_count[job] = [count, 0]\n",
        "\n",
        "                if count > num_machines:\n",
        "                    larger.append(job)\n",
        "                elif count < num_machines:\n",
        "                    less.append(job)\n",
        "                    \n",
        "            for large in range(len(larger)):\n",
        "                change_job = larger[large]\n",
        "                while job_count[change_job][0] > num_machines:\n",
        "                    for les in range(len(less)):\n",
        "                        if job_count[less[les]][0] < num_machines:                    \n",
        "                            offspring_list[pop][job_count[change_job][1]] = less[les]\n",
        "                            job_count[change_job][1] = offspring_list[pop].index(change_job)\n",
        "                            job_count[change_job][0] = job_count[change_job][0]-1\n",
        "                            job_count[less[les]][0] = job_count[less[les]][0]+1                    \n",
        "                        if job_count[change_job][0] == num_machines:\n",
        "                            break     \n",
        "    \n",
        "\n",
        "        \n",
        "        for off_spring in range(len(offspring_list)):\n",
        "\n",
        "            \"\"\" Mutations \"\"\"\n",
        "            mutation_prob = np.random.rand()\n",
        "            if mutation_rate >= mutation_prob:\n",
        "                m_change = list(np.random.choice(num_gene, num_mutation_jobs, replace=False)) # chooses the position to mutation\n",
        "                t_value_last = offspring_list[off_spring][m_change[0]] # save the value which is on the first mutation position\n",
        "                for i in range(num_mutation_jobs-1):\n",
        "                    offspring_list[off_spring][m_change[i]] = offspring_list[off_spring][m_change[i+1]] # displacement\n",
        "                # move the value of the first mutation position to the last mutation position\n",
        "                offspring_list[off_spring][m_change[num_mutation_jobs-1]] = t_value_last \n",
        "\n",
        "\n",
        "\n",
        "        \"\"\" fitness value (calculate makespan) \"\"\"\n",
        "        total_chromosome = copy.deepcopy(parent_list) + copy.deepcopy(offspring_list) # parent and offspring chromosomes combination\n",
        "        chrom_fitness, chrom_fit = [], []\n",
        "        total_fitness = 0\n",
        "        for pop_size in range(population_size*2):\n",
        "            j_keys = [j for j in range(num_job)]\n",
        "            key_count = {key:0 for key in j_keys}\n",
        "            j_count = {key:0 for key in j_keys}\n",
        "            m_keys = [j+1 for j in range(num_machines)]\n",
        "            m_count = {key:0 for key in m_keys}\n",
        "            \n",
        "            for i in total_chromosome[pop_size]:\n",
        "                gen_t = int(process_time[i][key_count[i]])\n",
        "                gen_m = int(machine_sequence[i][key_count[i]])\n",
        "                j_count[i] = j_count[i] + gen_t\n",
        "                m_count[gen_m] = m_count[gen_m] + gen_t\n",
        "                \n",
        "                if m_count[gen_m] < j_count[i]:\n",
        "                    m_count[gen_m] = j_count[i]\n",
        "                elif m_count[gen_m] > j_count[i]:\n",
        "                    j_count[i] = m_count[gen_m]\n",
        "                \n",
        "                key_count[i] = key_count[i] + 1\n",
        "        \n",
        "            makespan = max(j_count.values())\n",
        "            chrom_fitness.append(1/makespan)\n",
        "            chrom_fit.append(makespan)\n",
        "            total_fitness = total_fitness + chrom_fitness[pop_size]\n",
        "        \n",
        "\n",
        "        \"\"\" Selection (roulette wheel approach) \"\"\"\n",
        "        pk, qk = [], []\n",
        "        \n",
        "        for size in range(population_size * 2):\n",
        "            pk.append(chrom_fitness[size] / total_fitness)\n",
        "        for size in range(population_size * 2):\n",
        "            cumulative = 0\n",
        "\n",
        "            for j in range(0, size+1):\n",
        "                cumulative = cumulative + pk[j]\n",
        "            qk.append(cumulative)\n",
        "        \n",
        "        selection_rand = [np.random.rand() for i in range(population_size)]\n",
        "        \n",
        "        for pop_size in range(population_size):\n",
        "            if selection_rand[pop_size] <= qk[0]:\n",
        "                population_list[pop_size] = copy.deepcopy(total_chromosome[0])\n",
        "            else:\n",
        "                for j in range(0, population_size * 2-1):\n",
        "                    if selection_rand[pop_size] > qk[j] and selection_rand[pop_size] <= qk[j+1]:\n",
        "                        population_list[pop_size] = copy.deepcopy(total_chromosome[j+1])\n",
        "                        break\n",
        "\n",
        "\n",
        "        \"\"\" comparison \"\"\"\n",
        "        for pop_size in range(population_size * 2):\n",
        "            if chrom_fit[pop_size] < Tbest_now:\n",
        "                Tbest_now = chrom_fit[pop_size]\n",
        "                sequence_now = copy.deepcopy(total_chromosome[pop_size])\n",
        "        if Tbest_now <= Tbest:\n",
        "            Tbest = Tbest_now\n",
        "            sequence_best = copy.deepcopy(sequence_now)\n",
        "            \n",
        "        makespan_record.append(Tbest)\n",
        "\n",
        "    \"\"\" Results - Makespan \"\"\"\n",
        "\n",
        "    print(\"optimal sequence\", sequence_best)\n",
        "    print(\"optimal value:%f\"%Tbest)\n",
        "    print(\"\\n\")\n",
        "    #print('the elapsed time:%s'% (time.time() - start_time))\n",
        "\n",
        "    #%matplotlib inline\n",
        "    plt.plot([i for i in range(len(makespan_record))],makespan_record,'b')\n",
        "    plt.ylabel('makespan', fontsize=15)\n",
        "    plt.xlabel('generation', fontsize=15)\n",
        "    plt.show()\n",
        "\n",
        "\n",
        "    \"\"\" plot gantt chart \"\"\"\n",
        "\n",
        "    m_keys = [j+1 for j in range(num_machines)]\n",
        "    j_keys = [j for j in range(num_job)]\n",
        "    key_count = {key:0 for key in j_keys}\n",
        "    j_count = {key:0 for key in j_keys}\n",
        "    m_count = {key:0 for key in m_keys}\n",
        "    j_record = {}\n",
        "    for i in sequence_best:\n",
        "        gen_t = int(process_time[i][key_count[i]])\n",
        "        gen_m = int(machine_sequence[i][key_count[i]])\n",
        "        j_count[i] = j_count[i] + gen_t\n",
        "        m_count[gen_m] = m_count[gen_m] + gen_t\n",
        "\n",
        "        if m_count[gen_m] < j_count[i]:\n",
        "            m_count[gen_m] = j_count[i]\n",
        "        elif m_count[gen_m] > j_count[i]:\n",
        "            j_count[i] = m_count[gen_m]\n",
        "\n",
        "        start_time = str(datetime.timedelta(seconds = j_count[i] - process_time[i][key_count[i]])) # convert seconds to hours, minutes and seconds\n",
        "        end_time = str(datetime.timedelta(seconds = j_count[i]))\n",
        "\n",
        "        j_record[(i, gen_m)] = [start_time, end_time]\n",
        "\n",
        "        key_count[i] = key_count[i] + 1\n",
        "\n",
        "\n",
        "    df = []\n",
        "    for m in m_keys:\n",
        "        for j in j_keys:\n",
        "            df.append(dict(Task='Machine %s'%(m), Start='2020-02-01 %s'%(str(j_record[(j,m)][0])), \\\n",
        "                            Finish='2020-02-01 %s'%(str(j_record[(j,m)][1])),Resource='Job %s'%(j+1)))\n",
        "    \n",
        "    df_ = pd.DataFrame(df)\n",
        "    df_.Start = pd.to_datetime(df_['Start'])\n",
        "    df_.Finish = pd.to_datetime(df_['Finish'])\n",
        "    start = df_.Start.min()\n",
        "    end = df_.Finish.max()\n",
        "\n",
        "    df_.Start = df_.Start.apply(lambda x: x.strftime('%Y-%m-%dT%H:%M:%S'))\n",
        "    df_.Finish = df_.Finish.apply(lambda x: x.strftime('%Y-%m-%dT%H:%M:%S'))\n",
        "    data = df_.to_dict('record')\n",
        "\n",
        "    final_data ={\n",
        "        'start':start.strftime('%Y-%m-%dT%H:%M:%S'),\n",
        "        'end':end.strftime('%Y-%m-%dT%H:%M:%S'),\n",
        "        'data':data}\n",
        "        \n",
        "    fig = ff.create_gantt(df, index_col='Resource', show_colorbar=True, group_tasks=True, showgrid_x=True, title='Job shop Schedule')\n",
        "    fig.show()\n",
        "    #iplot(fig, filename='GA_job_shop_scheduling')\n",
        "    return final_data, df"
      ],
      "metadata": {
        "id": "O34eU5kYvCm2"
      },
      "execution_count": 19,
      "outputs": []
    },
    {
      "cell_type": "markdown",
      "source": [
        "# Execution"
      ],
      "metadata": {
        "id": "O7cM_0UsvJKC"
      }
    },
    {
      "cell_type": "code",
      "source": [
        "from google.colab import drive\n",
        "drive.mount('/content/drive')"
      ],
      "metadata": {
        "colab": {
          "base_uri": "https://localhost:8080/"
        },
        "id": "QIlBjD5AHZ_k",
        "outputId": "08bd0ad6-8ff7-4bc8-91e3-a8b7d624004b"
      },
      "execution_count": 30,
      "outputs": [
        {
          "output_type": "stream",
          "name": "stdout",
          "text": [
            "Drive already mounted at /content/drive; to attempt to forcibly remount, call drive.mount(\"/content/drive\", force_remount=True).\n"
          ]
        }
      ]
    },
    {
      "cell_type": "code",
      "source": [
        "# change xlsx path\n",
        "\n",
        "\"\"\" Job_Shop_Schedule \"\"\"\n",
        "\n",
        "#data_excel = xl.load_workbook('/content/drive/MyDrive/JSP_dataset_GA.xlsx')\n",
        "\n",
        "data = data_excel_json('/content/drive/MyDrive/JSP_dataset_GA.xlsx')\n"
      ],
      "metadata": {
        "id": "tiGhXEW6vKsy"
      },
      "execution_count": 32,
      "outputs": []
    },
    {
      "cell_type": "code",
      "source": [
        "print(data)"
      ],
      "metadata": {
        "colab": {
          "base_uri": "https://localhost:8080/"
        },
        "id": "oYLWiVn3KbYU",
        "outputId": "3084e288-cd1f-462b-d1c9-4050e4c763e9"
      },
      "execution_count": 33,
      "outputs": [
        {
          "output_type": "stream",
          "name": "stdout",
          "text": [
            "{'Machines Sequence': {'J1': {'O1': 1, 'O2': 2, 'O3': 3, 'O4': 4, 'O5': 5, 'O6': 6, 'O7': 7, 'O8': 8, 'O9': 9, 'O10': 10}, 'J2': {'O1': 1, 'O2': 3, 'O3': 5, 'O4': 10, 'O5': 4, 'O6': 2, 'O7': 7, 'O8': 6, 'O9': 8, 'O10': 9}, 'J3': {'O1': 2, 'O2': 1, 'O3': 4, 'O4': 3, 'O5': 9, 'O6': 6, 'O7': 8, 'O8': 7, 'O9': 10, 'O10': 5}, 'J4': {'O1': 2, 'O2': 3, 'O3': 1, 'O4': 5, 'O5': 7, 'O6': 9, 'O7': 8, 'O8': 4, 'O9': 10, 'O10': 6}, 'J5': {'O1': 3, 'O2': 1, 'O3': 2, 'O4': 6, 'O5': 4, 'O6': 5, 'O7': 9, 'O8': 8, 'O9': 10, 'O10': 7}, 'J6': {'O1': 3, 'O2': 2, 'O3': 6, 'O4': 4, 'O5': 9, 'O6': 10, 'O7': 1, 'O8': 7, 'O9': 5, 'O10': 8}, 'J7': {'O1': 2, 'O2': 1, 'O3': 4, 'O4': 3, 'O5': 7, 'O6': 6, 'O7': 10, 'O8': 9, 'O9': 8, 'O10': 5}, 'J8': {'O1': 3, 'O2': 1, 'O3': 2, 'O4': 6, 'O5': 5, 'O6': 7, 'O7': 9, 'O8': 10, 'O9': 8, 'O10': 4}, 'J9': {'O1': 1, 'O2': 2, 'O3': 4, 'O4': 6, 'O5': 3, 'O6': 10, 'O7': 7, 'O8': 8, 'O9': 5, 'O10': 9}, 'J10': {'O1': 2, 'O2': 1, 'O3': 3, 'O4': 7, 'O5': 9, 'O6': 10, 'O7': 6, 'O8': 4, 'O9': 5, 'O10': 8}}, 'Processing Time': {'J1': {'O1': 29, 'O2': 78, 'O3': 9, 'O4': 36, 'O5': 49, 'O6': 11, 'O7': 62, 'O8': 56, 'O9': 44, 'O10': 21}, 'J2': {'O1': 43, 'O2': 90, 'O3': 75, 'O4': 11, 'O5': 69, 'O6': 28, 'O7': 46, 'O8': 46, 'O9': 72, 'O10': 30}, 'J3': {'O1': 91, 'O2': 85, 'O3': 39, 'O4': 74, 'O5': 90, 'O6': 10, 'O7': 10, 'O8': 89, 'O9': 45, 'O10': 33}, 'J4': {'O1': 81, 'O2': 95, 'O3': 71, 'O4': 99, 'O5': 9, 'O6': 52, 'O7': 85, 'O8': 98, 'O9': 22, 'O10': 43}, 'J5': {'O1': 14, 'O2': 6, 'O3': 22, 'O4': 61, 'O5': 26, 'O6': 69, 'O7': 21, 'O8': 49, 'O9': 72, 'O10': 53}, 'J6': {'O1': 84, 'O2': 2, 'O3': 52, 'O4': 95, 'O5': 48, 'O6': 72, 'O7': 47, 'O8': 65, 'O9': 6, 'O10': 25}, 'J7': {'O1': 46, 'O2': 37, 'O3': 61, 'O4': 13, 'O5': 32, 'O6': 21, 'O7': 32, 'O8': 89, 'O9': 30, 'O10': 55}, 'J8': {'O1': 31, 'O2': 86, 'O3': 46, 'O4': 74, 'O5': 32, 'O6': 88, 'O7': 19, 'O8': 48, 'O9': 36, 'O10': 79}, 'J9': {'O1': 76, 'O2': 69, 'O3': 76, 'O4': 51, 'O5': 85, 'O6': 11, 'O7': 40, 'O8': 89, 'O9': 26, 'O10': 74}, 'J10': {'O1': 85, 'O2': 13, 'O3': 61, 'O4': 7, 'O5': 64, 'O6': 76, 'O7': 47, 'O8': 52, 'O9': 90, 'O10': 45}}}\n"
          ]
        }
      ]
    },
    {
      "cell_type": "code",
      "source": [
        "schedule = job_schedule(data_dict=data)"
      ],
      "metadata": {
        "colab": {
          "base_uri": "https://localhost:8080/",
          "height": 993
        },
        "id": "eri5pR7oEezf",
        "outputId": "1893db90-69b5-423b-cd8c-69c27e515a51"
      },
      "execution_count": 34,
      "outputs": [
        {
          "output_type": "stream",
          "name": "stdout",
          "text": [
            "optimal sequence [3, 1, 7, 9, 0, 4, 7, 8, 3, 7, 0, 7, 3, 7, 7, 8, 1, 8, 1, 9, 6, 9, 6, 6, 8, 2, 0, 9, 0, 5, 3, 0, 7, 9, 8, 3, 9, 4, 2, 6, 3, 2, 4, 5, 1, 4, 3, 5, 8, 5, 0, 4, 1, 9, 0, 1, 0, 8, 6, 7, 9, 2, 3, 4, 2, 5, 7, 2, 7, 2, 6, 1, 4, 6, 8, 1, 5, 8, 9, 0, 5, 6, 8, 4, 2, 5, 0, 3, 4, 6, 3, 6, 5, 9, 1, 1, 2, 5, 4, 2]\n",
            "optimal value:1163.000000\n",
            "\n",
            "\n"
          ]
        },
        {
          "output_type": "display_data",
          "data": {
            "text/plain": [
              "<Figure size 432x288 with 1 Axes>"
            ],
            "image/png": "[encoded data removed]"
          },
          "metadata": {
            "needs_background": "light"
          }
        },
        {
          "output_type": "stream",
          "name": "stderr",
          "text": [
            "/usr/local/lib/python3.7/dist-packages/ipykernel_launcher.py:223: FutureWarning: Using short name for 'orient' is deprecated. Only the options: ('dict', list, 'series', 'split', 'records', 'index') will be used in a future version. Use one of the above to silence this warning.\n"
          ]
        },
        {
          "output_type": "display_data",
          "data": {
            "text/html": [
              "<html>\n",
              "<head><meta charset=\"utf-8\" /></head>\n",
              "<body>\n",
              "    <div>            <script src=\"https://cdnjs.cloudflare.com/ajax/libs/mathjax/2.7.5/MathJax.js?config=TeX-AMS-MML_SVG\"></script><script type=\"text/javascript\">if (window.MathJax) {MathJax.Hub.Config({SVG: {font: \"STIX-Web\"}});}</script>                <script type=\"text/javascript\">window.PlotlyConfig = {MathJaxConfig: 'local'};</script>\n",
              "        <script src=\"https://cdn.plot.ly/plotly-2.8.3.min.js\"></script>                <div id=\"0f885285-a4df-4900-9093-4babc69aa137\" class=\"plotly-graph-div\" style=\"height:600px; width:100%;\"></div>            <script type=\"text/javascript\">                                    window.PLOTLYENV=window.PLOTLYENV || {};                                    if (document.getElementById(\"0f885285-a4df-4900-9093-4babc69aa137\")) {                    Plotly.newPlot(                        \"0f885285-a4df-4900-9093-4babc69aa137\",                        [{\"fill\":\"toself\",\"fillcolor\":\"rgb(127, 127, 127)\",\"hoverinfo\":\"name\",\"legendgroup\":\"rgb(127, 127, 127)\",\"mode\":\"none\",\"name\":\"Job 7\",\"showlegend\":true,\"x\":[\"2020-02-01 0:06:45\",\"2020-02-01 0:07:22\",\"2020-02-01 0:07:22\",\"2020-02-01 0:06:45\",\"2020-02-01 0:06:45\",\"2020-02-01 0:05:59\",\"2020-02-01 0:06:45\",\"2020-02-01 0:06:45\",\"2020-02-01 0:05:59\",\"2020-02-01 0:05:59\",\"2020-02-01 0:09:31\",\"2020-02-01 0:09:44\",\"2020-02-01 0:09:44\",\"2020-02-01 0:09:31\",\"2020-02-01 0:09:31\",\"2020-02-01 0:07:22\",\"2020-02-01 0:08:23\",\"2020-02-01 0:08:23\",\"2020-02-01 0:07:22\",\"2020-02-01 0:07:22\",\"2020-02-01 0:16:56\",\"2020-02-01 0:17:51\",\"2020-02-01 0:17:51\",\"2020-02-01 0:16:56\",\"2020-02-01 0:16:56\",\"2020-02-01 0:13:14\",\"2020-02-01 0:13:35\",\"2020-02-01 0:13:35\",\"2020-02-01 0:13:14\",\"2020-02-01 0:13:14\",\"2020-02-01 0:12:24\",\"2020-02-01 0:12:56\",\"2020-02-01 0:12:56\",\"2020-02-01 0:12:24\",\"2020-02-01 0:12:24\",\"2020-02-01 0:16:26\",\"2020-02-01 0:16:56\",\"2020-02-01 0:16:56\",\"2020-02-01 0:16:26\",\"2020-02-01 0:16:26\",\"2020-02-01 0:14:57\",\"2020-02-01 0:16:26\",\"2020-02-01 0:16:26\",\"2020-02-01 0:14:57\",\"2020-02-01 0:14:57\",\"2020-02-01 0:13:35\",\"2020-02-01 0:14:07\",\"2020-02-01 0:14:07\",\"2020-02-01 0:13:35\"],\"y\":[8.8,8.8,9.2,9.2,null,7.8,7.8,8.2,8.2,null,6.8,6.8,7.2,7.2,null,5.8,5.8,6.2,6.2,null,4.8,4.8,5.2,5.2,null,3.8,3.8,4.2,4.2,null,2.8,2.8,3.2,3.2,null,1.8,1.8,2.2,2.2,null,0.8,0.8,1.2,1.2,null,-0.2,-0.2,0.2,0.2],\"type\":\"scatter\"},{\"fill\":\"toself\",\"fillcolor\":\"rgb(140, 86, 75)\",\"hoverinfo\":\"name\",\"legendgroup\":\"rgb(140, 86, 75)\",\"mode\":\"none\",\"name\":\"Job 5\",\"showlegend\":true,\"x\":[\"2020-02-01 0:07:22\",\"2020-02-01 0:07:28\",\"2020-02-01 0:07:28\",\"2020-02-01 0:07:22\",\"2020-02-01 0:07:22\",\"2020-02-01 0:08:16\",\"2020-02-01 0:08:38\",\"2020-02-01 0:08:38\",\"2020-02-01 0:08:16\",\"2020-02-01 0:08:16\",\"2020-02-01 0:00:31\",\"2020-02-01 0:00:45\",\"2020-02-01 0:00:45\",\"2020-02-01 0:00:31\",\"2020-02-01 0:00:31\",\"2020-02-01 0:12:06\",\"2020-02-01 0:12:32\",\"2020-02-01 0:12:32\",\"2020-02-01 0:12:06\",\"2020-02-01 0:12:06\",\"2020-02-01 0:12:32\",\"2020-02-01 0:13:41\",\"2020-02-01 0:13:41\",\"2020-02-01 0:12:32\",\"2020-02-01 0:12:32\",\"2020-02-01 0:08:38\",\"2020-02-01 0:09:39\",\"2020-02-01 0:09:39\",\"2020-02-01 0:08:38\",\"2020-02-01 0:08:38\",\"2020-02-01 0:17:45\",\"2020-02-01 0:18:38\",\"2020-02-01 0:18:38\",\"2020-02-01 0:17:45\",\"2020-02-01 0:17:45\",\"2020-02-01 0:14:55\",\"2020-02-01 0:15:44\",\"2020-02-01 0:15:44\",\"2020-02-01 0:14:55\",\"2020-02-01 0:14:55\",\"2020-02-01 0:13:52\",\"2020-02-01 0:14:13\",\"2020-02-01 0:14:13\",\"2020-02-01 0:13:52\",\"2020-02-01 0:13:52\",\"2020-02-01 0:16:33\",\"2020-02-01 0:17:45\",\"2020-02-01 0:17:45\",\"2020-02-01 0:16:33\"],\"y\":[8.8,8.8,9.2,9.2,null,7.8,7.8,8.2,8.2,null,6.8,6.8,7.2,7.2,null,5.8,5.8,6.2,6.2,null,4.8,4.8,5.2,5.2,null,3.8,3.8,4.2,4.2,null,2.8,2.8,3.2,3.2,null,1.8,1.8,2.2,2.2,null,0.8,0.8,1.2,1.2,null,-0.2,-0.2,0.2,0.2],\"type\":\"scatter\"},{\"fill\":\"toself\",\"fillcolor\":\"rgb(148, 103, 189)\",\"hoverinfo\":\"name\",\"legendgroup\":\"rgb(148, 103, 189)\",\"mode\":\"none\",\"name\":\"Job 4\",\"showlegend\":true,\"x\":[\"2020-02-01 0:03:54\",\"2020-02-01 0:05:05\",\"2020-02-01 0:05:05\",\"2020-02-01 0:03:54\",\"2020-02-01 0:03:54\",\"2020-02-01 0:00:00\",\"2020-02-01 0:01:21\",\"2020-02-01 0:01:21\",\"2020-02-01 0:00:00\",\"2020-02-01 0:00:00\",\"2020-02-01 0:01:21\",\"2020-02-01 0:02:56\",\"2020-02-01 0:02:56\",\"2020-02-01 0:01:21\",\"2020-02-01 0:01:21\",\"2020-02-01 0:14:33\",\"2020-02-01 0:16:11\",\"2020-02-01 0:16:11\",\"2020-02-01 0:14:33\",\"2020-02-01 0:14:33\",\"2020-02-01 0:06:33\",\"2020-02-01 0:08:12\",\"2020-02-01 0:08:12\",\"2020-02-01 0:06:33\",\"2020-02-01 0:06:33\",\"2020-02-01 0:16:33\",\"2020-02-01 0:17:16\",\"2020-02-01 0:17:16\",\"2020-02-01 0:16:33\",\"2020-02-01 0:16:33\",\"2020-02-01 0:08:12\",\"2020-02-01 0:08:21\",\"2020-02-01 0:08:21\",\"2020-02-01 0:08:12\",\"2020-02-01 0:08:12\",\"2020-02-01 0:09:13\",\"2020-02-01 0:10:38\",\"2020-02-01 0:10:38\",\"2020-02-01 0:09:13\",\"2020-02-01 0:09:13\",\"2020-02-01 0:08:21\",\"2020-02-01 0:09:13\",\"2020-02-01 0:09:13\",\"2020-02-01 0:08:21\",\"2020-02-01 0:08:21\",\"2020-02-01 0:16:11\",\"2020-02-01 0:16:33\",\"2020-02-01 0:16:33\",\"2020-02-01 0:16:11\"],\"y\":[8.8,8.8,9.2,9.2,null,7.8,7.8,8.2,8.2,null,6.8,6.8,7.2,7.2,null,5.8,5.8,6.2,6.2,null,4.8,4.8,5.2,5.2,null,3.8,3.8,4.2,4.2,null,2.8,2.8,3.2,3.2,null,1.8,1.8,2.2,2.2,null,0.8,0.8,1.2,1.2,null,-0.2,-0.2,0.2,0.2],\"type\":\"scatter\"},{\"fill\":\"toself\",\"fillcolor\":\"rgb(188, 189, 34)\",\"hoverinfo\":\"name\",\"legendgroup\":\"rgb(188, 189, 34)\",\"mode\":\"none\",\"name\":\"Job 8\",\"showlegend\":true,\"x\":[\"2020-02-01 0:01:12\",\"2020-02-01 0:02:38\",\"2020-02-01 0:02:38\",\"2020-02-01 0:01:12\",\"2020-02-01 0:01:12\",\"2020-02-01 0:02:46\",\"2020-02-01 0:03:32\",\"2020-02-01 0:03:32\",\"2020-02-01 0:02:46\",\"2020-02-01 0:02:46\",\"2020-02-01 0:00:00\",\"2020-02-01 0:00:31\",\"2020-02-01 0:00:31\",\"2020-02-01 0:00:00\",\"2020-02-01 0:00:00\",\"2020-02-01 0:16:11\",\"2020-02-01 0:17:30\",\"2020-02-01 0:17:30\",\"2020-02-01 0:16:11\",\"2020-02-01 0:16:11\",\"2020-02-01 0:04:46\",\"2020-02-01 0:05:18\",\"2020-02-01 0:05:18\",\"2020-02-01 0:04:46\",\"2020-02-01 0:04:46\",\"2020-02-01 0:03:32\",\"2020-02-01 0:04:46\",\"2020-02-01 0:04:46\",\"2020-02-01 0:03:32\",\"2020-02-01 0:03:32\",\"2020-02-01 0:05:18\",\"2020-02-01 0:06:46\",\"2020-02-01 0:06:46\",\"2020-02-01 0:05:18\",\"2020-02-01 0:05:18\",\"2020-02-01 0:12:40\",\"2020-02-01 0:13:16\",\"2020-02-01 0:13:16\",\"2020-02-01 0:12:40\",\"2020-02-01 0:12:40\",\"2020-02-01 0:06:46\",\"2020-02-01 0:07:05\",\"2020-02-01 0:07:05\",\"2020-02-01 0:06:46\",\"2020-02-01 0:06:46\",\"2020-02-01 0:09:47\",\"2020-02-01 0:10:35\",\"2020-02-01 0:10:35\",\"2020-02-01 0:09:47\"],\"y\":[8.8,8.8,9.2,9.2,null,7.8,7.8,8.2,8.2,null,6.8,6.8,7.2,7.2,null,5.8,5.8,6.2,6.2,null,4.8,4.8,5.2,5.2,null,3.8,3.8,4.2,4.2,null,2.8,2.8,3.2,3.2,null,1.8,1.8,2.2,2.2,null,0.8,0.8,1.2,1.2,null,-0.2,-0.2,0.2,0.2],\"type\":\"scatter\"},{\"fill\":\"toself\",\"fillcolor\":\"rgb(214, 39, 40)\",\"hoverinfo\":\"name\",\"legendgroup\":\"rgb(214, 39, 40)\",\"mode\":\"none\",\"name\":\"Job 3\",\"showlegend\":true,\"x\":[\"2020-02-01 0:08:16\",\"2020-02-01 0:09:41\",\"2020-02-01 0:09:41\",\"2020-02-01 0:08:16\",\"2020-02-01 0:08:16\",\"2020-02-01 0:06:45\",\"2020-02-01 0:08:16\",\"2020-02-01 0:08:16\",\"2020-02-01 0:06:45\",\"2020-02-01 0:06:45\",\"2020-02-01 0:10:20\",\"2020-02-01 0:11:34\",\"2020-02-01 0:11:34\",\"2020-02-01 0:10:20\",\"2020-02-01 0:10:20\",\"2020-02-01 0:09:41\",\"2020-02-01 0:10:20\",\"2020-02-01 0:10:20\",\"2020-02-01 0:09:41\",\"2020-02-01 0:09:41\",\"2020-02-01 0:18:30\",\"2020-02-01 0:19:03\",\"2020-02-01 0:19:03\",\"2020-02-01 0:18:30\",\"2020-02-01 0:18:30\",\"2020-02-01 0:13:04\",\"2020-02-01 0:13:14\",\"2020-02-01 0:13:14\",\"2020-02-01 0:13:04\",\"2020-02-01 0:13:04\",\"2020-02-01 0:14:55\",\"2020-02-01 0:16:24\",\"2020-02-01 0:16:24\",\"2020-02-01 0:14:55\",\"2020-02-01 0:14:55\",\"2020-02-01 0:13:16\",\"2020-02-01 0:13:26\",\"2020-02-01 0:13:26\",\"2020-02-01 0:13:16\",\"2020-02-01 0:13:16\",\"2020-02-01 0:11:34\",\"2020-02-01 0:13:04\",\"2020-02-01 0:13:04\",\"2020-02-01 0:11:34\",\"2020-02-01 0:11:34\",\"2020-02-01 0:17:45\",\"2020-02-01 0:18:30\",\"2020-02-01 0:18:30\",\"2020-02-01 0:17:45\"],\"y\":[8.8,8.8,9.2,9.2,null,7.8,7.8,8.2,8.2,null,6.8,6.8,7.2,7.2,null,5.8,5.8,6.2,6.2,null,4.8,4.8,5.2,5.2,null,3.8,3.8,4.2,4.2,null,2.8,2.8,3.2,3.2,null,1.8,1.8,2.2,2.2,null,0.8,0.8,1.2,1.2,null,-0.2,-0.2,0.2,0.2],\"type\":\"scatter\"},{\"fill\":\"toself\",\"fillcolor\":\"rgb(227, 119, 194)\",\"hoverinfo\":\"name\",\"legendgroup\":\"rgb(227, 119, 194)\",\"mode\":\"none\",\"name\":\"Job 6\",\"showlegend\":true,\"x\":[\"2020-02-01 0:15:19\",\"2020-02-01 0:16:06\",\"2020-02-01 0:16:06\",\"2020-02-01 0:15:19\",\"2020-02-01 0:15:19\",\"2020-02-01 0:08:38\",\"2020-02-01 0:08:40\",\"2020-02-01 0:08:40\",\"2020-02-01 0:08:38\",\"2020-02-01 0:08:38\",\"2020-02-01 0:06:28\",\"2020-02-01 0:07:52\",\"2020-02-01 0:07:52\",\"2020-02-01 0:06:28\",\"2020-02-01 0:06:28\",\"2020-02-01 0:10:31\",\"2020-02-01 0:12:06\",\"2020-02-01 0:12:06\",\"2020-02-01 0:10:31\",\"2020-02-01 0:10:31\",\"2020-02-01 0:17:51\",\"2020-02-01 0:17:57\",\"2020-02-01 0:17:57\",\"2020-02-01 0:17:51\",\"2020-02-01 0:17:51\",\"2020-02-01 0:09:39\",\"2020-02-01 0:10:31\",\"2020-02-01 0:10:31\",\"2020-02-01 0:09:39\",\"2020-02-01 0:09:39\",\"2020-02-01 0:16:24\",\"2020-02-01 0:17:29\",\"2020-02-01 0:17:29\",\"2020-02-01 0:16:24\",\"2020-02-01 0:16:24\",\"2020-02-01 0:18:53\",\"2020-02-01 0:19:18\",\"2020-02-01 0:19:18\",\"2020-02-01 0:18:53\",\"2020-02-01 0:18:53\",\"2020-02-01 0:13:04\",\"2020-02-01 0:13:52\",\"2020-02-01 0:13:52\",\"2020-02-01 0:13:04\",\"2020-02-01 0:13:04\",\"2020-02-01 0:14:07\",\"2020-02-01 0:15:19\",\"2020-02-01 0:15:19\",\"2020-02-01 0:14:07\"],\"y\":[8.8,8.8,9.2,9.2,null,7.8,7.8,8.2,8.2,null,6.8,6.8,7.2,7.2,null,5.8,5.8,6.2,6.2,null,4.8,4.8,5.2,5.2,null,3.8,3.8,4.2,4.2,null,2.8,2.8,3.2,3.2,null,1.8,1.8,2.2,2.2,null,0.8,0.8,1.2,1.2,null,-0.2,-0.2,0.2,0.2],\"type\":\"scatter\"},{\"fill\":\"toself\",\"fillcolor\":\"rgb(23, 190, 207)\",\"hoverinfo\":\"name\",\"legendgroup\":\"rgb(23, 190, 207)\",\"mode\":\"none\",\"name\":\"Job 9\",\"showlegend\":true,\"x\":[\"2020-02-01 0:02:38\",\"2020-02-01 0:03:54\",\"2020-02-01 0:03:54\",\"2020-02-01 0:02:38\",\"2020-02-01 0:02:38\",\"2020-02-01 0:04:50\",\"2020-02-01 0:05:59\",\"2020-02-01 0:05:59\",\"2020-02-01 0:04:50\",\"2020-02-01 0:04:50\",\"2020-02-01 0:08:06\",\"2020-02-01 0:09:31\",\"2020-02-01 0:09:31\",\"2020-02-01 0:08:06\",\"2020-02-01 0:08:06\",\"2020-02-01 0:05:59\",\"2020-02-01 0:07:15\",\"2020-02-01 0:07:15\",\"2020-02-01 0:05:59\",\"2020-02-01 0:05:59\",\"2020-02-01 0:14:55\",\"2020-02-01 0:15:21\",\"2020-02-01 0:15:21\",\"2020-02-01 0:14:55\",\"2020-02-01 0:14:55\",\"2020-02-01 0:07:15\",\"2020-02-01 0:08:06\",\"2020-02-01 0:08:06\",\"2020-02-01 0:07:15\",\"2020-02-01 0:07:15\",\"2020-02-01 0:11:44\",\"2020-02-01 0:12:24\",\"2020-02-01 0:12:24\",\"2020-02-01 0:11:44\",\"2020-02-01 0:11:44\",\"2020-02-01 0:13:26\",\"2020-02-01 0:14:55\",\"2020-02-01 0:14:55\",\"2020-02-01 0:13:26\",\"2020-02-01 0:13:26\",\"2020-02-01 0:16:26\",\"2020-02-01 0:17:40\",\"2020-02-01 0:17:40\",\"2020-02-01 0:16:26\",\"2020-02-01 0:16:26\",\"2020-02-01 0:09:36\",\"2020-02-01 0:09:47\",\"2020-02-01 0:09:47\",\"2020-02-01 0:09:36\"],\"y\":[8.8,8.8,9.2,9.2,null,7.8,7.8,8.2,8.2,null,6.8,6.8,7.2,7.2,null,5.8,5.8,6.2,6.2,null,4.8,4.8,5.2,5.2,null,3.8,3.8,4.2,4.2,null,2.8,2.8,3.2,3.2,null,1.8,1.8,2.2,2.2,null,0.8,0.8,1.2,1.2,null,-0.2,-0.2,0.2,0.2],\"type\":\"scatter\"},{\"fill\":\"toself\",\"fillcolor\":\"rgb(255, 127, 14)\",\"hoverinfo\":\"name\",\"legendgroup\":\"rgb(255, 127, 14)\",\"mode\":\"none\",\"name\":\"Job 10\",\"showlegend\":true,\"x\":[\"2020-02-01 0:05:05\",\"2020-02-01 0:05:18\",\"2020-02-01 0:05:18\",\"2020-02-01 0:05:05\",\"2020-02-01 0:05:05\",\"2020-02-01 0:01:21\",\"2020-02-01 0:02:46\",\"2020-02-01 0:02:46\",\"2020-02-01 0:01:21\",\"2020-02-01 0:01:21\",\"2020-02-01 0:05:18\",\"2020-02-01 0:06:19\",\"2020-02-01 0:06:19\",\"2020-02-01 0:05:18\",\"2020-02-01 0:05:18\",\"2020-02-01 0:13:41\",\"2020-02-01 0:14:33\",\"2020-02-01 0:14:33\",\"2020-02-01 0:13:41\",\"2020-02-01 0:13:41\",\"2020-02-01 0:15:21\",\"2020-02-01 0:16:51\",\"2020-02-01 0:16:51\",\"2020-02-01 0:15:21\",\"2020-02-01 0:15:21\",\"2020-02-01 0:10:42\",\"2020-02-01 0:11:29\",\"2020-02-01 0:11:29\",\"2020-02-01 0:10:42\",\"2020-02-01 0:10:42\",\"2020-02-01 0:06:46\",\"2020-02-01 0:06:53\",\"2020-02-01 0:06:53\",\"2020-02-01 0:06:46\",\"2020-02-01 0:06:46\",\"2020-02-01 0:16:56\",\"2020-02-01 0:17:41\",\"2020-02-01 0:17:41\",\"2020-02-01 0:16:56\",\"2020-02-01 0:16:56\",\"2020-02-01 0:07:05\",\"2020-02-01 0:08:09\",\"2020-02-01 0:08:09\",\"2020-02-01 0:07:05\",\"2020-02-01 0:07:05\",\"2020-02-01 0:08:09\",\"2020-02-01 0:09:25\",\"2020-02-01 0:09:25\",\"2020-02-01 0:08:09\"],\"y\":[8.8,8.8,9.2,9.2,null,7.8,7.8,8.2,8.2,null,6.8,6.8,7.2,7.2,null,5.8,5.8,6.2,6.2,null,4.8,4.8,5.2,5.2,null,3.8,3.8,4.2,4.2,null,2.8,2.8,3.2,3.2,null,1.8,1.8,2.2,2.2,null,0.8,0.8,1.2,1.2,null,-0.2,-0.2,0.2,0.2],\"type\":\"scatter\"},{\"fill\":\"toself\",\"fillcolor\":\"rgb(31, 119, 180)\",\"hoverinfo\":\"name\",\"legendgroup\":\"rgb(31, 119, 180)\",\"mode\":\"none\",\"name\":\"Job 1\",\"showlegend\":true,\"x\":[\"2020-02-01 0:00:43\",\"2020-02-01 0:01:12\",\"2020-02-01 0:01:12\",\"2020-02-01 0:00:43\",\"2020-02-01 0:00:43\",\"2020-02-01 0:03:32\",\"2020-02-01 0:04:50\",\"2020-02-01 0:04:50\",\"2020-02-01 0:03:32\",\"2020-02-01 0:03:32\",\"2020-02-01 0:06:19\",\"2020-02-01 0:06:28\",\"2020-02-01 0:06:28\",\"2020-02-01 0:06:19\",\"2020-02-01 0:06:19\",\"2020-02-01 0:08:23\",\"2020-02-01 0:08:59\",\"2020-02-01 0:08:59\",\"2020-02-01 0:08:23\",\"2020-02-01 0:08:23\",\"2020-02-01 0:08:59\",\"2020-02-01 0:09:48\",\"2020-02-01 0:09:48\",\"2020-02-01 0:08:59\",\"2020-02-01 0:08:59\",\"2020-02-01 0:10:31\",\"2020-02-01 0:10:42\",\"2020-02-01 0:10:42\",\"2020-02-01 0:10:31\",\"2020-02-01 0:10:31\",\"2020-02-01 0:10:42\",\"2020-02-01 0:11:44\",\"2020-02-01 0:11:44\",\"2020-02-01 0:10:42\",\"2020-02-01 0:10:42\",\"2020-02-01 0:11:44\",\"2020-02-01 0:12:40\",\"2020-02-01 0:12:40\",\"2020-02-01 0:11:44\",\"2020-02-01 0:11:44\",\"2020-02-01 0:14:13\",\"2020-02-01 0:14:57\",\"2020-02-01 0:14:57\",\"2020-02-01 0:14:13\",\"2020-02-01 0:14:13\",\"2020-02-01 0:15:19\",\"2020-02-01 0:15:40\",\"2020-02-01 0:15:40\",\"2020-02-01 0:15:19\"],\"y\":[8.8,8.8,9.2,9.2,null,7.8,7.8,8.2,8.2,null,6.8,6.8,7.2,7.2,null,5.8,5.8,6.2,6.2,null,4.8,4.8,5.2,5.2,null,3.8,3.8,4.2,4.2,null,2.8,2.8,3.2,3.2,null,1.8,1.8,2.2,2.2,null,0.8,0.8,1.2,1.2,null,-0.2,-0.2,0.2,0.2],\"type\":\"scatter\"},{\"fill\":\"toself\",\"fillcolor\":\"rgb(44, 160, 44)\",\"hoverinfo\":\"name\",\"legendgroup\":\"rgb(44, 160, 44)\",\"mode\":\"none\",\"name\":\"Job 2\",\"showlegend\":true,\"x\":[\"2020-02-01 0:00:00\",\"2020-02-01 0:00:43\",\"2020-02-01 0:00:43\",\"2020-02-01 0:00:00\",\"2020-02-01 0:00:00\",\"2020-02-01 0:13:41\",\"2020-02-01 0:14:09\",\"2020-02-01 0:14:09\",\"2020-02-01 0:13:41\",\"2020-02-01 0:13:41\",\"2020-02-01 0:02:56\",\"2020-02-01 0:04:26\",\"2020-02-01 0:04:26\",\"2020-02-01 0:02:56\",\"2020-02-01 0:02:56\",\"2020-02-01 0:12:32\",\"2020-02-01 0:13:41\",\"2020-02-01 0:13:41\",\"2020-02-01 0:12:32\",\"2020-02-01 0:12:32\",\"2020-02-01 0:05:18\",\"2020-02-01 0:06:33\",\"2020-02-01 0:06:33\",\"2020-02-01 0:05:18\",\"2020-02-01 0:05:18\",\"2020-02-01 0:14:55\",\"2020-02-01 0:15:41\",\"2020-02-01 0:15:41\",\"2020-02-01 0:14:55\",\"2020-02-01 0:14:55\",\"2020-02-01 0:14:09\",\"2020-02-01 0:14:55\",\"2020-02-01 0:14:55\",\"2020-02-01 0:14:09\",\"2020-02-01 0:14:09\",\"2020-02-01 0:17:41\",\"2020-02-01 0:18:53\",\"2020-02-01 0:18:53\",\"2020-02-01 0:17:41\",\"2020-02-01 0:17:41\",\"2020-02-01 0:18:53\",\"2020-02-01 0:19:23\",\"2020-02-01 0:19:23\",\"2020-02-01 0:18:53\",\"2020-02-01 0:18:53\",\"2020-02-01 0:09:25\",\"2020-02-01 0:09:36\",\"2020-02-01 0:09:36\",\"2020-02-01 0:09:25\"],\"y\":[8.8,8.8,9.2,9.2,null,7.8,7.8,8.2,8.2,null,6.8,6.8,7.2,7.2,null,5.8,5.8,6.2,6.2,null,4.8,4.8,5.2,5.2,null,3.8,3.8,4.2,4.2,null,2.8,2.8,3.2,3.2,null,1.8,1.8,2.2,2.2,null,0.8,0.8,1.2,1.2,null,-0.2,-0.2,0.2,0.2],\"type\":\"scatter\"},{\"legendgroup\":\"rgb(127, 127, 127)\",\"marker\":{\"color\":\"rgb(127, 127, 127)\",\"opacity\":0,\"size\":1},\"mode\":\"markers\",\"name\":\"\",\"showlegend\":false,\"text\":[null,null,null,null,null,null,null,null,null,null,null,null,null,null,null,null,null,null,null,null],\"x\":[\"2020-02-01 0:06:45\",\"2020-02-01 0:07:22\",\"2020-02-01 0:05:59\",\"2020-02-01 0:06:45\",\"2020-02-01 0:09:31\",\"2020-02-01 0:09:44\",\"2020-02-01 0:07:22\",\"2020-02-01 0:08:23\",\"2020-02-01 0:16:56\",\"2020-02-01 0:17:51\",\"2020-02-01 0:13:14\",\"2020-02-01 0:13:35\",\"2020-02-01 0:12:24\",\"2020-02-01 0:12:56\",\"2020-02-01 0:16:26\",\"2020-02-01 0:16:56\",\"2020-02-01 0:14:57\",\"2020-02-01 0:16:26\",\"2020-02-01 0:13:35\",\"2020-02-01 0:14:07\"],\"y\":[9,9,8,8,7,7,6,6,5,5,4,4,3,3,2,2,1,1,0,0],\"type\":\"scatter\"},{\"legendgroup\":\"rgb(140, 86, 75)\",\"marker\":{\"color\":\"rgb(140, 86, 75)\",\"opacity\":0,\"size\":1},\"mode\":\"markers\",\"name\":\"\",\"showlegend\":false,\"text\":[null,null,null,null,null,null,null,null,null,null,null,null,null,null,null,null,null,null,null,null],\"x\":[\"2020-02-01 0:07:22\",\"2020-02-01 0:07:28\",\"2020-02-01 0:08:16\",\"2020-02-01 0:08:38\",\"2020-02-01 0:00:31\",\"2020-02-01 0:00:45\",\"2020-02-01 0:12:06\",\"2020-02-01 0:12:32\",\"2020-02-01 0:12:32\",\"2020-02-01 0:13:41\",\"2020-02-01 0:08:38\",\"2020-02-01 0:09:39\",\"2020-02-01 0:17:45\",\"2020-02-01 0:18:38\",\"2020-02-01 0:14:55\",\"2020-02-01 0:15:44\",\"2020-02-01 0:13:52\",\"2020-02-01 0:14:13\",\"2020-02-01 0:16:33\",\"2020-02-01 0:17:45\"],\"y\":[9,9,8,8,7,7,6,6,5,5,4,4,3,3,2,2,1,1,0,0],\"type\":\"scatter\"},{\"legendgroup\":\"rgb(148, 103, 189)\",\"marker\":{\"color\":\"rgb(148, 103, 189)\",\"opacity\":0,\"size\":1},\"mode\":\"markers\",\"name\":\"\",\"showlegend\":false,\"text\":[null,null,null,null,null,null,null,null,null,null,null,null,null,null,null,null,null,null,null,null],\"x\":[\"2020-02-01 0:03:54\",\"2020-02-01 0:05:05\",\"2020-02-01 0:00:00\",\"2020-02-01 0:01:21\",\"2020-02-01 0:01:21\",\"2020-02-01 0:02:56\",\"2020-02-01 0:14:33\",\"2020-02-01 0:16:11\",\"2020-02-01 0:06:33\",\"2020-02-01 0:08:12\",\"2020-02-01 0:16:33\",\"2020-02-01 0:17:16\",\"2020-02-01 0:08:12\",\"2020-02-01 0:08:21\",\"2020-02-01 0:09:13\",\"2020-02-01 0:10:38\",\"2020-02-01 0:08:21\",\"2020-02-01 0:09:13\",\"2020-02-01 0:16:11\",\"2020-02-01 0:16:33\"],\"y\":[9,9,8,8,7,7,6,6,5,5,4,4,3,3,2,2,1,1,0,0],\"type\":\"scatter\"},{\"legendgroup\":\"rgb(188, 189, 34)\",\"marker\":{\"color\":\"rgb(188, 189, 34)\",\"opacity\":0,\"size\":1},\"mode\":\"markers\",\"name\":\"\",\"showlegend\":false,\"text\":[null,null,null,null,null,null,null,null,null,null,null,null,null,null,null,null,null,null,null,null],\"x\":[\"2020-02-01 0:01:12\",\"2020-02-01 0:02:38\",\"2020-02-01 0:02:46\",\"2020-02-01 0:03:32\",\"2020-02-01 0:00:00\",\"2020-02-01 0:00:31\",\"2020-02-01 0:16:11\",\"2020-02-01 0:17:30\",\"2020-02-01 0:04:46\",\"2020-02-01 0:05:18\",\"2020-02-01 0:03:32\",\"2020-02-01 0:04:46\",\"2020-02-01 0:05:18\",\"2020-02-01 0:06:46\",\"2020-02-01 0:12:40\",\"2020-02-01 0:13:16\",\"2020-02-01 0:06:46\",\"2020-02-01 0:07:05\",\"2020-02-01 0:09:47\",\"2020-02-01 0:10:35\"],\"y\":[9,9,8,8,7,7,6,6,5,5,4,4,3,3,2,2,1,1,0,0],\"type\":\"scatter\"},{\"legendgroup\":\"rgb(214, 39, 40)\",\"marker\":{\"color\":\"rgb(214, 39, 40)\",\"opacity\":0,\"size\":1},\"mode\":\"markers\",\"name\":\"\",\"showlegend\":false,\"text\":[null,null,null,null,null,null,null,null,null,null,null,null,null,null,null,null,null,null,null,null],\"x\":[\"2020-02-01 0:08:16\",\"2020-02-01 0:09:41\",\"2020-02-01 0:06:45\",\"2020-02-01 0:08:16\",\"2020-02-01 0:10:20\",\"2020-02-01 0:11:34\",\"2020-02-01 0:09:41\",\"2020-02-01 0:10:20\",\"2020-02-01 0:18:30\",\"2020-02-01 0:19:03\",\"2020-02-01 0:13:04\",\"2020-02-01 0:13:14\",\"2020-02-01 0:14:55\",\"2020-02-01 0:16:24\",\"2020-02-01 0:13:16\",\"2020-02-01 0:13:26\",\"2020-02-01 0:11:34\",\"2020-02-01 0:13:04\",\"2020-02-01 0:17:45\",\"2020-02-01 0:18:30\"],\"y\":[9,9,8,8,7,7,6,6,5,5,4,4,3,3,2,2,1,1,0,0],\"type\":\"scatter\"},{\"legendgroup\":\"rgb(227, 119, 194)\",\"marker\":{\"color\":\"rgb(227, 119, 194)\",\"opacity\":0,\"size\":1},\"mode\":\"markers\",\"name\":\"\",\"showlegend\":false,\"text\":[null,null,null,null,null,null,null,null,null,null,null,null,null,null,null,null,null,null,null,null],\"x\":[\"2020-02-01 0:15:19\",\"2020-02-01 0:16:06\",\"2020-02-01 0:08:38\",\"2020-02-01 0:08:40\",\"2020-02-01 0:06:28\",\"2020-02-01 0:07:52\",\"2020-02-01 0:10:31\",\"2020-02-01 0:12:06\",\"2020-02-01 0:17:51\",\"2020-02-01 0:17:57\",\"2020-02-01 0:09:39\",\"2020-02-01 0:10:31\",\"2020-02-01 0:16:24\",\"2020-02-01 0:17:29\",\"2020-02-01 0:18:53\",\"2020-02-01 0:19:18\",\"2020-02-01 0:13:04\",\"2020-02-01 0:13:52\",\"2020-02-01 0:14:07\",\"2020-02-01 0:15:19\"],\"y\":[9,9,8,8,7,7,6,6,5,5,4,4,3,3,2,2,1,1,0,0],\"type\":\"scatter\"},{\"legendgroup\":\"rgb(23, 190, 207)\",\"marker\":{\"color\":\"rgb(23, 190, 207)\",\"opacity\":0,\"size\":1},\"mode\":\"markers\",\"name\":\"\",\"showlegend\":false,\"text\":[null,null,null,null,null,null,null,null,null,null,null,null,null,null,null,null,null,null,null,null],\"x\":[\"2020-02-01 0:02:38\",\"2020-02-01 0:03:54\",\"2020-02-01 0:04:50\",\"2020-02-01 0:05:59\",\"2020-02-01 0:08:06\",\"2020-02-01 0:09:31\",\"2020-02-01 0:05:59\",\"2020-02-01 0:07:15\",\"2020-02-01 0:14:55\",\"2020-02-01 0:15:21\",\"2020-02-01 0:07:15\",\"2020-02-01 0:08:06\",\"2020-02-01 0:11:44\",\"2020-02-01 0:12:24\",\"2020-02-01 0:13:26\",\"2020-02-01 0:14:55\",\"2020-02-01 0:16:26\",\"2020-02-01 0:17:40\",\"2020-02-01 0:09:36\",\"2020-02-01 0:09:47\"],\"y\":[9,9,8,8,7,7,6,6,5,5,4,4,3,3,2,2,1,1,0,0],\"type\":\"scatter\"},{\"legendgroup\":\"rgb(255, 127, 14)\",\"marker\":{\"color\":\"rgb(255, 127, 14)\",\"opacity\":0,\"size\":1},\"mode\":\"markers\",\"name\":\"\",\"showlegend\":false,\"text\":[null,null,null,null,null,null,null,null,null,null,null,null,null,null,null,null,null,null,null,null],\"x\":[\"2020-02-01 0:05:05\",\"2020-02-01 0:05:18\",\"2020-02-01 0:01:21\",\"2020-02-01 0:02:46\",\"2020-02-01 0:05:18\",\"2020-02-01 0:06:19\",\"2020-02-01 0:13:41\",\"2020-02-01 0:14:33\",\"2020-02-01 0:15:21\",\"2020-02-01 0:16:51\",\"2020-02-01 0:10:42\",\"2020-02-01 0:11:29\",\"2020-02-01 0:06:46\",\"2020-02-01 0:06:53\",\"2020-02-01 0:16:56\",\"2020-02-01 0:17:41\",\"2020-02-01 0:07:05\",\"2020-02-01 0:08:09\",\"2020-02-01 0:08:09\",\"2020-02-01 0:09:25\"],\"y\":[9,9,8,8,7,7,6,6,5,5,4,4,3,3,2,2,1,1,0,0],\"type\":\"scatter\"},{\"legendgroup\":\"rgb(31, 119, 180)\",\"marker\":{\"color\":\"rgb(31, 119, 180)\",\"opacity\":0,\"size\":1},\"mode\":\"markers\",\"name\":\"\",\"showlegend\":false,\"text\":[null,null,null,null,null,null,null,null,null,null,null,null,null,null,null,null,null,null,null,null],\"x\":[\"2020-02-01 0:00:43\",\"2020-02-01 0:01:12\",\"2020-02-01 0:03:32\",\"2020-02-01 0:04:50\",\"2020-02-01 0:06:19\",\"2020-02-01 0:06:28\",\"2020-02-01 0:08:23\",\"2020-02-01 0:08:59\",\"2020-02-01 0:08:59\",\"2020-02-01 0:09:48\",\"2020-02-01 0:10:31\",\"2020-02-01 0:10:42\",\"2020-02-01 0:10:42\",\"2020-02-01 0:11:44\",\"2020-02-01 0:11:44\",\"2020-02-01 0:12:40\",\"2020-02-01 0:14:13\",\"2020-02-01 0:14:57\",\"2020-02-01 0:15:19\",\"2020-02-01 0:15:40\"],\"y\":[9,9,8,8,7,7,6,6,5,5,4,4,3,3,2,2,1,1,0,0],\"type\":\"scatter\"},{\"legendgroup\":\"rgb(44, 160, 44)\",\"marker\":{\"color\":\"rgb(44, 160, 44)\",\"opacity\":0,\"size\":1},\"mode\":\"markers\",\"name\":\"\",\"showlegend\":false,\"text\":[null,null,null,null,null,null,null,null,null,null,null,null,null,null,null,null,null,null,null,null],\"x\":[\"2020-02-01 0:00:00\",\"2020-02-01 0:00:43\",\"2020-02-01 0:13:41\",\"2020-02-01 0:14:09\",\"2020-02-01 0:02:56\",\"2020-02-01 0:04:26\",\"2020-02-01 0:12:32\",\"2020-02-01 0:13:41\",\"2020-02-01 0:05:18\",\"2020-02-01 0:06:33\",\"2020-02-01 0:14:55\",\"2020-02-01 0:15:41\",\"2020-02-01 0:14:09\",\"2020-02-01 0:14:55\",\"2020-02-01 0:17:41\",\"2020-02-01 0:18:53\",\"2020-02-01 0:18:53\",\"2020-02-01 0:19:23\",\"2020-02-01 0:09:25\",\"2020-02-01 0:09:36\"],\"y\":[9,9,8,8,7,7,6,6,5,5,4,4,3,3,2,2,1,1,0,0],\"type\":\"scatter\"}],                        {\"height\":600,\"hovermode\":\"closest\",\"showlegend\":true,\"title\":{\"text\":\"Job shop Schedule\"},\"xaxis\":{\"rangeselector\":{\"buttons\":[{\"count\":7,\"label\":\"1w\",\"step\":\"day\",\"stepmode\":\"backward\"},{\"count\":1,\"label\":\"1m\",\"step\":\"month\",\"stepmode\":\"backward\"},{\"count\":6,\"label\":\"6m\",\"step\":\"month\",\"stepmode\":\"backward\"},{\"count\":1,\"label\":\"YTD\",\"step\":\"year\",\"stepmode\":\"todate\"},{\"count\":1,\"label\":\"1y\",\"step\":\"year\",\"stepmode\":\"backward\"},{\"step\":\"all\"}]},\"showgrid\":true,\"type\":\"date\",\"zeroline\":false},\"yaxis\":{\"autorange\":false,\"range\":[-1,11],\"showgrid\":false,\"ticktext\":[\"Machine 10\",\"Machine 9\",\"Machine 8\",\"Machine 7\",\"Machine 6\",\"Machine 5\",\"Machine 4\",\"Machine 3\",\"Machine 2\",\"Machine 1\"],\"tickvals\":[0,1,2,3,4,5,6,7,8,9],\"zeroline\":false},\"template\":{\"data\":{\"bar\":[{\"error_x\":{\"color\":\"#2a3f5f\"},\"error_y\":{\"color\":\"#2a3f5f\"},\"marker\":{\"line\":{\"color\":\"#E5ECF6\",\"width\":0.5},\"pattern\":{\"fillmode\":\"overlay\",\"size\":10,\"solidity\":0.2}},\"type\":\"bar\"}],\"barpolar\":[{\"marker\":{\"line\":{\"color\":\"#E5ECF6\",\"width\":0.5},\"pattern\":{\"fillmode\":\"overlay\",\"size\":10,\"solidity\":0.2}},\"type\":\"barpolar\"}],\"carpet\":[{\"aaxis\":{\"endlinecolor\":\"#2a3f5f\",\"gridcolor\":\"white\",\"linecolor\":\"white\",\"minorgridcolor\":\"white\",\"startlinecolor\":\"#2a3f5f\"},\"baxis\":{\"endlinecolor\":\"#2a3f5f\",\"gridcolor\":\"white\",\"linecolor\":\"white\",\"minorgridcolor\":\"white\",\"startlinecolor\":\"#2a3f5f\"},\"type\":\"carpet\"}],\"choropleth\":[{\"colorbar\":{\"outlinewidth\":0,\"ticks\":\"\"},\"type\":\"choropleth\"}],\"contour\":[{\"colorbar\":{\"outlinewidth\":0,\"ticks\":\"\"},\"colorscale\":[[0.0,\"#0d0887\"],[0.1111111111111111,\"#46039f\"],[0.2222222222222222,\"#7201a8\"],[0.3333333333333333,\"#9c179e\"],[0.4444444444444444,\"#bd3786\"],[0.5555555555555556,\"#d8576b\"],[0.6666666666666666,\"#ed7953\"],[0.7777777777777778,\"#fb9f3a\"],[0.8888888888888888,\"#fdca26\"],[1.0,\"#f0f921\"]],\"type\":\"contour\"}],\"contourcarpet\":[{\"colorbar\":{\"outlinewidth\":0,\"ticks\":\"\"},\"type\":\"contourcarpet\"}],\"heatmap\":[{\"colorbar\":{\"outlinewidth\":0,\"ticks\":\"\"},\"colorscale\":[[0.0,\"#0d0887\"],[0.1111111111111111,\"#46039f\"],[0.2222222222222222,\"#7201a8\"],[0.3333333333333333,\"#9c179e\"],[0.4444444444444444,\"#bd3786\"],[0.5555555555555556,\"#d8576b\"],[0.6666666666666666,\"#ed7953\"],[0.7777777777777778,\"#fb9f3a\"],[0.8888888888888888,\"#fdca26\"],[1.0,\"#f0f921\"]],\"type\":\"heatmap\"}],\"heatmapgl\":[{\"colorbar\":{\"outlinewidth\":0,\"ticks\":\"\"},\"colorscale\":[[0.0,\"#0d0887\"],[0.1111111111111111,\"#46039f\"],[0.2222222222222222,\"#7201a8\"],[0.3333333333333333,\"#9c179e\"],[0.4444444444444444,\"#bd3786\"],[0.5555555555555556,\"#d8576b\"],[0.6666666666666666,\"#ed7953\"],[0.7777777777777778,\"#fb9f3a\"],[0.8888888888888888,\"#fdca26\"],[1.0,\"#f0f921\"]],\"type\":\"heatmapgl\"}],\"histogram\":[{\"marker\":{\"pattern\":{\"fillmode\":\"overlay\",\"size\":10,\"solidity\":0.2}},\"type\":\"histogram\"}],\"histogram2d\":[{\"colorbar\":{\"outlinewidth\":0,\"ticks\":\"\"},\"colorscale\":[[0.0,\"#0d0887\"],[0.1111111111111111,\"#46039f\"],[0.2222222222222222,\"#7201a8\"],[0.3333333333333333,\"#9c179e\"],[0.4444444444444444,\"#bd3786\"],[0.5555555555555556,\"#d8576b\"],[0.6666666666666666,\"#ed7953\"],[0.7777777777777778,\"#fb9f3a\"],[0.8888888888888888,\"#fdca26\"],[1.0,\"#f0f921\"]],\"type\":\"histogram2d\"}],\"histogram2dcontour\":[{\"colorbar\":{\"outlinewidth\":0,\"ticks\":\"\"},\"colorscale\":[[0.0,\"#0d0887\"],[0.1111111111111111,\"#46039f\"],[0.2222222222222222,\"#7201a8\"],[0.3333333333333333,\"#9c179e\"],[0.4444444444444444,\"#bd3786\"],[0.5555555555555556,\"#d8576b\"],[0.6666666666666666,\"#ed7953\"],[0.7777777777777778,\"#fb9f3a\"],[0.8888888888888888,\"#fdca26\"],[1.0,\"#f0f921\"]],\"type\":\"histogram2dcontour\"}],\"mesh3d\":[{\"colorbar\":{\"outlinewidth\":0,\"ticks\":\"\"},\"type\":\"mesh3d\"}],\"parcoords\":[{\"line\":{\"colorbar\":{\"outlinewidth\":0,\"ticks\":\"\"}},\"type\":\"parcoords\"}],\"pie\":[{\"automargin\":true,\"type\":\"pie\"}],\"scatter\":[{\"marker\":{\"colorbar\":{\"outlinewidth\":0,\"ticks\":\"\"}},\"type\":\"scatter\"}],\"scatter3d\":[{\"line\":{\"colorbar\":{\"outlinewidth\":0,\"ticks\":\"\"}},\"marker\":{\"colorbar\":{\"outlinewidth\":0,\"ticks\":\"\"}},\"type\":\"scatter3d\"}],\"scattercarpet\":[{\"marker\":{\"colorbar\":{\"outlinewidth\":0,\"ticks\":\"\"}},\"type\":\"scattercarpet\"}],\"scattergeo\":[{\"marker\":{\"colorbar\":{\"outlinewidth\":0,\"ticks\":\"\"}},\"type\":\"scattergeo\"}],\"scattergl\":[{\"marker\":{\"colorbar\":{\"outlinewidth\":0,\"ticks\":\"\"}},\"type\":\"scattergl\"}],\"scattermapbox\":[{\"marker\":{\"colorbar\":{\"outlinewidth\":0,\"ticks\":\"\"}},\"type\":\"scattermapbox\"}],\"scatterpolar\":[{\"marker\":{\"colorbar\":{\"outlinewidth\":0,\"ticks\":\"\"}},\"type\":\"scatterpolar\"}],\"scatterpolargl\":[{\"marker\":{\"colorbar\":{\"outlinewidth\":0,\"ticks\":\"\"}},\"type\":\"scatterpolargl\"}],\"scatterternary\":[{\"marker\":{\"colorbar\":{\"outlinewidth\":0,\"ticks\":\"\"}},\"type\":\"scatterternary\"}],\"surface\":[{\"colorbar\":{\"outlinewidth\":0,\"ticks\":\"\"},\"colorscale\":[[0.0,\"#0d0887\"],[0.1111111111111111,\"#46039f\"],[0.2222222222222222,\"#7201a8\"],[0.3333333333333333,\"#9c179e\"],[0.4444444444444444,\"#bd3786\"],[0.5555555555555556,\"#d8576b\"],[0.6666666666666666,\"#ed7953\"],[0.7777777777777778,\"#fb9f3a\"],[0.8888888888888888,\"#fdca26\"],[1.0,\"#f0f921\"]],\"type\":\"surface\"}],\"table\":[{\"cells\":{\"fill\":{\"color\":\"#EBF0F8\"},\"line\":{\"color\":\"white\"}},\"header\":{\"fill\":{\"color\":\"#C8D4E3\"},\"line\":{\"color\":\"white\"}},\"type\":\"table\"}]},\"layout\":{\"annotationdefaults\":{\"arrowcolor\":\"#2a3f5f\",\"arrowhead\":0,\"arrowwidth\":1},\"autotypenumbers\":\"strict\",\"coloraxis\":{\"colorbar\":{\"outlinewidth\":0,\"ticks\":\"\"}},\"colorscale\":{\"diverging\":[[0,\"#8e0152\"],[0.1,\"#c51b7d\"],[0.2,\"#de77ae\"],[0.3,\"#f1b6da\"],[0.4,\"#fde0ef\"],[0.5,\"#f7f7f7\"],[0.6,\"#e6f5d0\"],[0.7,\"#b8e186\"],[0.8,\"#7fbc41\"],[0.9,\"#4d9221\"],[1,\"#276419\"]],\"sequential\":[[0.0,\"#0d0887\"],[0.1111111111111111,\"#46039f\"],[0.2222222222222222,\"#7201a8\"],[0.3333333333333333,\"#9c179e\"],[0.4444444444444444,\"#bd3786\"],[0.5555555555555556,\"#d8576b\"],[0.6666666666666666,\"#ed7953\"],[0.7777777777777778,\"#fb9f3a\"],[0.8888888888888888,\"#fdca26\"],[1.0,\"#f0f921\"]],\"sequentialminus\":[[0.0,\"#0d0887\"],[0.1111111111111111,\"#46039f\"],[0.2222222222222222,\"#7201a8\"],[0.3333333333333333,\"#9c179e\"],[0.4444444444444444,\"#bd3786\"],[0.5555555555555556,\"#d8576b\"],[0.6666666666666666,\"#ed7953\"],[0.7777777777777778,\"#fb9f3a\"],[0.8888888888888888,\"#fdca26\"],[1.0,\"#f0f921\"]]},\"colorway\":[\"#636efa\",\"#EF553B\",\"#00cc96\",\"#ab63fa\",\"#FFA15A\",\"#19d3f3\",\"#FF6692\",\"#B6E880\",\"#FF97FF\",\"#FECB52\"],\"font\":{\"color\":\"#2a3f5f\"},\"geo\":{\"bgcolor\":\"white\",\"lakecolor\":\"white\",\"landcolor\":\"#E5ECF6\",\"showlakes\":true,\"showland\":true,\"subunitcolor\":\"white\"},\"hoverlabel\":{\"align\":\"left\"},\"hovermode\":\"closest\",\"mapbox\":{\"style\":\"light\"},\"paper_bgcolor\":\"white\",\"plot_bgcolor\":\"#E5ECF6\",\"polar\":{\"angularaxis\":{\"gridcolor\":\"white\",\"linecolor\":\"white\",\"ticks\":\"\"},\"bgcolor\":\"#E5ECF6\",\"radialaxis\":{\"gridcolor\":\"white\",\"linecolor\":\"white\",\"ticks\":\"\"}},\"scene\":{\"xaxis\":{\"backgroundcolor\":\"#E5ECF6\",\"gridcolor\":\"white\",\"gridwidth\":2,\"linecolor\":\"white\",\"showbackground\":true,\"ticks\":\"\",\"zerolinecolor\":\"white\"},\"yaxis\":{\"backgroundcolor\":\"#E5ECF6\",\"gridcolor\":\"white\",\"gridwidth\":2,\"linecolor\":\"white\",\"showbackground\":true,\"ticks\":\"\",\"zerolinecolor\":\"white\"},\"zaxis\":{\"backgroundcolor\":\"#E5ECF6\",\"gridcolor\":\"white\",\"gridwidth\":2,\"linecolor\":\"white\",\"showbackground\":true,\"ticks\":\"\",\"zerolinecolor\":\"white\"}},\"shapedefaults\":{\"line\":{\"color\":\"#2a3f5f\"}},\"ternary\":{\"aaxis\":{\"gridcolor\":\"white\",\"linecolor\":\"white\",\"ticks\":\"\"},\"baxis\":{\"gridcolor\":\"white\",\"linecolor\":\"white\",\"ticks\":\"\"},\"bgcolor\":\"#E5ECF6\",\"caxis\":{\"gridcolor\":\"white\",\"linecolor\":\"white\",\"ticks\":\"\"}},\"title\":{\"x\":0.05},\"xaxis\":{\"automargin\":true,\"gridcolor\":\"white\",\"linecolor\":\"white\",\"ticks\":\"\",\"title\":{\"standoff\":15},\"zerolinecolor\":\"white\",\"zerolinewidth\":2},\"yaxis\":{\"automargin\":true,\"gridcolor\":\"white\",\"linecolor\":\"white\",\"ticks\":\"\",\"title\":{\"standoff\":15},\"zerolinecolor\":\"white\",\"zerolinewidth\":2}}}},                        {\"responsive\": true}                    ).then(function(){\n",
              "                            \n",
              "var gd = document.getElementById('0f885285-a4df-4900-9093-4babc69aa137');\n",
              "var x = new MutationObserver(function (mutations, observer) {{\n",
              "        var display = window.getComputedStyle(gd).display;\n",
              "        if (!display || display === 'none') {{\n",
              "            console.log([gd, 'removed!']);\n",
              "            Plotly.purge(gd);\n",
              "            observer.disconnect();\n",
              "        }}\n",
              "}});\n",
              "\n",
              "// Listen for the removal of the full notebook cells\n",
              "var notebookContainer = gd.closest('#notebook-container');\n",
              "if (notebookContainer) {{\n",
              "    x.observe(notebookContainer, {childList: true});\n",
              "}}\n",
              "\n",
              "// Listen for the clearing of the current output cell\n",
              "var outputEl = gd.closest('.output');\n",
              "if (outputEl) {{\n",
              "    x.observe(outputEl, {childList: true});\n",
              "}}\n",
              "\n",
              "                        })                };                            </script>        </div>\n",
              "</body>\n",
              "</html>"
            ]
          },
          "metadata": {}
        }
      ]
    },
    {
      "cell_type": "code",
      "source": [
        "df = schedule[1]\n",
        "fig = ff.create_gantt(df, index_col='Resource', show_colorbar=True, group_tasks=True, showgrid_x=True, title='Job shop Schedule')\n",
        "fig.show()"
      ],
      "metadata": {
        "colab": {
          "base_uri": "https://localhost:8080/",
          "height": 617
        },
        "id": "hiT-4IN9vbyh",
        "outputId": "547f554e-90d7-467c-ebed-384e1fc7f559"
      },
      "execution_count": 35,
      "outputs": [
        {
          "output_type": "display_data",
          "data": {
            "text/html": [
              "<html>\n",
              "<head><meta charset=\"utf-8\" /></head>\n",
              "<body>\n",
              "    <div>            <script src=\"https://cdnjs.cloudflare.com/ajax/libs/mathjax/2.7.5/MathJax.js?config=TeX-AMS-MML_SVG\"></script><script type=\"text/javascript\">if (window.MathJax) {MathJax.Hub.Config({SVG: {font: \"STIX-Web\"}});}</script>                <script type=\"text/javascript\">window.PlotlyConfig = {MathJaxConfig: 'local'};</script>\n",
              "        <script src=\"https://cdn.plot.ly/plotly-2.8.3.min.js\"></script>                <div id=\"380ec4a2-8d35-4e46-bf76-21d189f23dfe\" class=\"plotly-graph-div\" style=\"height:600px; width:100%;\"></div>            <script type=\"text/javascript\">                                    window.PLOTLYENV=window.PLOTLYENV || {};                                    if (document.getElementById(\"380ec4a2-8d35-4e46-bf76-21d189f23dfe\")) {                    Plotly.newPlot(                        \"380ec4a2-8d35-4e46-bf76-21d189f23dfe\",                        [{\"fill\":\"toself\",\"fillcolor\":\"rgb(127, 127, 127)\",\"hoverinfo\":\"name\",\"legendgroup\":\"rgb(127, 127, 127)\",\"mode\":\"none\",\"name\":\"Job 7\",\"showlegend\":true,\"x\":[\"2020-02-01 0:06:45\",\"2020-02-01 0:07:22\",\"2020-02-01 0:07:22\",\"2020-02-01 0:06:45\",\"2020-02-01 0:06:45\",\"2020-02-01 0:05:59\",\"2020-02-01 0:06:45\",\"2020-02-01 0:06:45\",\"2020-02-01 0:05:59\",\"2020-02-01 0:05:59\",\"2020-02-01 0:09:31\",\"2020-02-01 0:09:44\",\"2020-02-01 0:09:44\",\"2020-02-01 0:09:31\",\"2020-02-01 0:09:31\",\"2020-02-01 0:07:22\",\"2020-02-01 0:08:23\",\"2020-02-01 0:08:23\",\"2020-02-01 0:07:22\",\"2020-02-01 0:07:22\",\"2020-02-01 0:16:56\",\"2020-02-01 0:17:51\",\"2020-02-01 0:17:51\",\"2020-02-01 0:16:56\",\"2020-02-01 0:16:56\",\"2020-02-01 0:13:14\",\"2020-02-01 0:13:35\",\"2020-02-01 0:13:35\",\"2020-02-01 0:13:14\",\"2020-02-01 0:13:14\",\"2020-02-01 0:12:24\",\"2020-02-01 0:12:56\",\"2020-02-01 0:12:56\",\"2020-02-01 0:12:24\",\"2020-02-01 0:12:24\",\"2020-02-01 0:16:26\",\"2020-02-01 0:16:56\",\"2020-02-01 0:16:56\",\"2020-02-01 0:16:26\",\"2020-02-01 0:16:26\",\"2020-02-01 0:14:57\",\"2020-02-01 0:16:26\",\"2020-02-01 0:16:26\",\"2020-02-01 0:14:57\",\"2020-02-01 0:14:57\",\"2020-02-01 0:13:35\",\"2020-02-01 0:14:07\",\"2020-02-01 0:14:07\",\"2020-02-01 0:13:35\"],\"y\":[8.8,8.8,9.2,9.2,null,7.8,7.8,8.2,8.2,null,6.8,6.8,7.2,7.2,null,5.8,5.8,6.2,6.2,null,4.8,4.8,5.2,5.2,null,3.8,3.8,4.2,4.2,null,2.8,2.8,3.2,3.2,null,1.8,1.8,2.2,2.2,null,0.8,0.8,1.2,1.2,null,-0.2,-0.2,0.2,0.2],\"type\":\"scatter\"},{\"fill\":\"toself\",\"fillcolor\":\"rgb(140, 86, 75)\",\"hoverinfo\":\"name\",\"legendgroup\":\"rgb(140, 86, 75)\",\"mode\":\"none\",\"name\":\"Job 5\",\"showlegend\":true,\"x\":[\"2020-02-01 0:07:22\",\"2020-02-01 0:07:28\",\"2020-02-01 0:07:28\",\"2020-02-01 0:07:22\",\"2020-02-01 0:07:22\",\"2020-02-01 0:08:16\",\"2020-02-01 0:08:38\",\"2020-02-01 0:08:38\",\"2020-02-01 0:08:16\",\"2020-02-01 0:08:16\",\"2020-02-01 0:00:31\",\"2020-02-01 0:00:45\",\"2020-02-01 0:00:45\",\"2020-02-01 0:00:31\",\"2020-02-01 0:00:31\",\"2020-02-01 0:12:06\",\"2020-02-01 0:12:32\",\"2020-02-01 0:12:32\",\"2020-02-01 0:12:06\",\"2020-02-01 0:12:06\",\"2020-02-01 0:12:32\",\"2020-02-01 0:13:41\",\"2020-02-01 0:13:41\",\"2020-02-01 0:12:32\",\"2020-02-01 0:12:32\",\"2020-02-01 0:08:38\",\"2020-02-01 0:09:39\",\"2020-02-01 0:09:39\",\"2020-02-01 0:08:38\",\"2020-02-01 0:08:38\",\"2020-02-01 0:17:45\",\"2020-02-01 0:18:38\",\"2020-02-01 0:18:38\",\"2020-02-01 0:17:45\",\"2020-02-01 0:17:45\",\"2020-02-01 0:14:55\",\"2020-02-01 0:15:44\",\"2020-02-01 0:15:44\",\"2020-02-01 0:14:55\",\"2020-02-01 0:14:55\",\"2020-02-01 0:13:52\",\"2020-02-01 0:14:13\",\"2020-02-01 0:14:13\",\"2020-02-01 0:13:52\",\"2020-02-01 0:13:52\",\"2020-02-01 0:16:33\",\"2020-02-01 0:17:45\",\"2020-02-01 0:17:45\",\"2020-02-01 0:16:33\"],\"y\":[8.8,8.8,9.2,9.2,null,7.8,7.8,8.2,8.2,null,6.8,6.8,7.2,7.2,null,5.8,5.8,6.2,6.2,null,4.8,4.8,5.2,5.2,null,3.8,3.8,4.2,4.2,null,2.8,2.8,3.2,3.2,null,1.8,1.8,2.2,2.2,null,0.8,0.8,1.2,1.2,null,-0.2,-0.2,0.2,0.2],\"type\":\"scatter\"},{\"fill\":\"toself\",\"fillcolor\":\"rgb(148, 103, 189)\",\"hoverinfo\":\"name\",\"legendgroup\":\"rgb(148, 103, 189)\",\"mode\":\"none\",\"name\":\"Job 4\",\"showlegend\":true,\"x\":[\"2020-02-01 0:03:54\",\"2020-02-01 0:05:05\",\"2020-02-01 0:05:05\",\"2020-02-01 0:03:54\",\"2020-02-01 0:03:54\",\"2020-02-01 0:00:00\",\"2020-02-01 0:01:21\",\"2020-02-01 0:01:21\",\"2020-02-01 0:00:00\",\"2020-02-01 0:00:00\",\"2020-02-01 0:01:21\",\"2020-02-01 0:02:56\",\"2020-02-01 0:02:56\",\"2020-02-01 0:01:21\",\"2020-02-01 0:01:21\",\"2020-02-01 0:14:33\",\"2020-02-01 0:16:11\",\"2020-02-01 0:16:11\",\"2020-02-01 0:14:33\",\"2020-02-01 0:14:33\",\"2020-02-01 0:06:33\",\"2020-02-01 0:08:12\",\"2020-02-01 0:08:12\",\"2020-02-01 0:06:33\",\"2020-02-01 0:06:33\",\"2020-02-01 0:16:33\",\"2020-02-01 0:17:16\",\"2020-02-01 0:17:16\",\"2020-02-01 0:16:33\",\"2020-02-01 0:16:33\",\"2020-02-01 0:08:12\",\"2020-02-01 0:08:21\",\"2020-02-01 0:08:21\",\"2020-02-01 0:08:12\",\"2020-02-01 0:08:12\",\"2020-02-01 0:09:13\",\"2020-02-01 0:10:38\",\"2020-02-01 0:10:38\",\"2020-02-01 0:09:13\",\"2020-02-01 0:09:13\",\"2020-02-01 0:08:21\",\"2020-02-01 0:09:13\",\"2020-02-01 0:09:13\",\"2020-02-01 0:08:21\",\"2020-02-01 0:08:21\",\"2020-02-01 0:16:11\",\"2020-02-01 0:16:33\",\"2020-02-01 0:16:33\",\"2020-02-01 0:16:11\"],\"y\":[8.8,8.8,9.2,9.2,null,7.8,7.8,8.2,8.2,null,6.8,6.8,7.2,7.2,null,5.8,5.8,6.2,6.2,null,4.8,4.8,5.2,5.2,null,3.8,3.8,4.2,4.2,null,2.8,2.8,3.2,3.2,null,1.8,1.8,2.2,2.2,null,0.8,0.8,1.2,1.2,null,-0.2,-0.2,0.2,0.2],\"type\":\"scatter\"},{\"fill\":\"toself\",\"fillcolor\":\"rgb(188, 189, 34)\",\"hoverinfo\":\"name\",\"legendgroup\":\"rgb(188, 189, 34)\",\"mode\":\"none\",\"name\":\"Job 8\",\"showlegend\":true,\"x\":[\"2020-02-01 0:01:12\",\"2020-02-01 0:02:38\",\"2020-02-01 0:02:38\",\"2020-02-01 0:01:12\",\"2020-02-01 0:01:12\",\"2020-02-01 0:02:46\",\"2020-02-01 0:03:32\",\"2020-02-01 0:03:32\",\"2020-02-01 0:02:46\",\"2020-02-01 0:02:46\",\"2020-02-01 0:00:00\",\"2020-02-01 0:00:31\",\"2020-02-01 0:00:31\",\"2020-02-01 0:00:00\",\"2020-02-01 0:00:00\",\"2020-02-01 0:16:11\",\"2020-02-01 0:17:30\",\"2020-02-01 0:17:30\",\"2020-02-01 0:16:11\",\"2020-02-01 0:16:11\",\"2020-02-01 0:04:46\",\"2020-02-01 0:05:18\",\"2020-02-01 0:05:18\",\"2020-02-01 0:04:46\",\"2020-02-01 0:04:46\",\"2020-02-01 0:03:32\",\"2020-02-01 0:04:46\",\"2020-02-01 0:04:46\",\"2020-02-01 0:03:32\",\"2020-02-01 0:03:32\",\"2020-02-01 0:05:18\",\"2020-02-01 0:06:46\",\"2020-02-01 0:06:46\",\"2020-02-01 0:05:18\",\"2020-02-01 0:05:18\",\"2020-02-01 0:12:40\",\"2020-02-01 0:13:16\",\"2020-02-01 0:13:16\",\"2020-02-01 0:12:40\",\"2020-02-01 0:12:40\",\"2020-02-01 0:06:46\",\"2020-02-01 0:07:05\",\"2020-02-01 0:07:05\",\"2020-02-01 0:06:46\",\"2020-02-01 0:06:46\",\"2020-02-01 0:09:47\",\"2020-02-01 0:10:35\",\"2020-02-01 0:10:35\",\"2020-02-01 0:09:47\"],\"y\":[8.8,8.8,9.2,9.2,null,7.8,7.8,8.2,8.2,null,6.8,6.8,7.2,7.2,null,5.8,5.8,6.2,6.2,null,4.8,4.8,5.2,5.2,null,3.8,3.8,4.2,4.2,null,2.8,2.8,3.2,3.2,null,1.8,1.8,2.2,2.2,null,0.8,0.8,1.2,1.2,null,-0.2,-0.2,0.2,0.2],\"type\":\"scatter\"},{\"fill\":\"toself\",\"fillcolor\":\"rgb(214, 39, 40)\",\"hoverinfo\":\"name\",\"legendgroup\":\"rgb(214, 39, 40)\",\"mode\":\"none\",\"name\":\"Job 3\",\"showlegend\":true,\"x\":[\"2020-02-01 0:08:16\",\"2020-02-01 0:09:41\",\"2020-02-01 0:09:41\",\"2020-02-01 0:08:16\",\"2020-02-01 0:08:16\",\"2020-02-01 0:06:45\",\"2020-02-01 0:08:16\",\"2020-02-01 0:08:16\",\"2020-02-01 0:06:45\",\"2020-02-01 0:06:45\",\"2020-02-01 0:10:20\",\"2020-02-01 0:11:34\",\"2020-02-01 0:11:34\",\"2020-02-01 0:10:20\",\"2020-02-01 0:10:20\",\"2020-02-01 0:09:41\",\"2020-02-01 0:10:20\",\"2020-02-01 0:10:20\",\"2020-02-01 0:09:41\",\"2020-02-01 0:09:41\",\"2020-02-01 0:18:30\",\"2020-02-01 0:19:03\",\"2020-02-01 0:19:03\",\"2020-02-01 0:18:30\",\"2020-02-01 0:18:30\",\"2020-02-01 0:13:04\",\"2020-02-01 0:13:14\",\"2020-02-01 0:13:14\",\"2020-02-01 0:13:04\",\"2020-02-01 0:13:04\",\"2020-02-01 0:14:55\",\"2020-02-01 0:16:24\",\"2020-02-01 0:16:24\",\"2020-02-01 0:14:55\",\"2020-02-01 0:14:55\",\"2020-02-01 0:13:16\",\"2020-02-01 0:13:26\",\"2020-02-01 0:13:26\",\"2020-02-01 0:13:16\",\"2020-02-01 0:13:16\",\"2020-02-01 0:11:34\",\"2020-02-01 0:13:04\",\"2020-02-01 0:13:04\",\"2020-02-01 0:11:34\",\"2020-02-01 0:11:34\",\"2020-02-01 0:17:45\",\"2020-02-01 0:18:30\",\"2020-02-01 0:18:30\",\"2020-02-01 0:17:45\"],\"y\":[8.8,8.8,9.2,9.2,null,7.8,7.8,8.2,8.2,null,6.8,6.8,7.2,7.2,null,5.8,5.8,6.2,6.2,null,4.8,4.8,5.2,5.2,null,3.8,3.8,4.2,4.2,null,2.8,2.8,3.2,3.2,null,1.8,1.8,2.2,2.2,null,0.8,0.8,1.2,1.2,null,-0.2,-0.2,0.2,0.2],\"type\":\"scatter\"},{\"fill\":\"toself\",\"fillcolor\":\"rgb(227, 119, 194)\",\"hoverinfo\":\"name\",\"legendgroup\":\"rgb(227, 119, 194)\",\"mode\":\"none\",\"name\":\"Job 6\",\"showlegend\":true,\"x\":[\"2020-02-01 0:15:19\",\"2020-02-01 0:16:06\",\"2020-02-01 0:16:06\",\"2020-02-01 0:15:19\",\"2020-02-01 0:15:19\",\"2020-02-01 0:08:38\",\"2020-02-01 0:08:40\",\"2020-02-01 0:08:40\",\"2020-02-01 0:08:38\",\"2020-02-01 0:08:38\",\"2020-02-01 0:06:28\",\"2020-02-01 0:07:52\",\"2020-02-01 0:07:52\",\"2020-02-01 0:06:28\",\"2020-02-01 0:06:28\",\"2020-02-01 0:10:31\",\"2020-02-01 0:12:06\",\"2020-02-01 0:12:06\",\"2020-02-01 0:10:31\",\"2020-02-01 0:10:31\",\"2020-02-01 0:17:51\",\"2020-02-01 0:17:57\",\"2020-02-01 0:17:57\",\"2020-02-01 0:17:51\",\"2020-02-01 0:17:51\",\"2020-02-01 0:09:39\",\"2020-02-01 0:10:31\",\"2020-02-01 0:10:31\",\"2020-02-01 0:09:39\",\"2020-02-01 0:09:39\",\"2020-02-01 0:16:24\",\"2020-02-01 0:17:29\",\"2020-02-01 0:17:29\",\"2020-02-01 0:16:24\",\"2020-02-01 0:16:24\",\"2020-02-01 0:18:53\",\"2020-02-01 0:19:18\",\"2020-02-01 0:19:18\",\"2020-02-01 0:18:53\",\"2020-02-01 0:18:53\",\"2020-02-01 0:13:04\",\"2020-02-01 0:13:52\",\"2020-02-01 0:13:52\",\"2020-02-01 0:13:04\",\"2020-02-01 0:13:04\",\"2020-02-01 0:14:07\",\"2020-02-01 0:15:19\",\"2020-02-01 0:15:19\",\"2020-02-01 0:14:07\"],\"y\":[8.8,8.8,9.2,9.2,null,7.8,7.8,8.2,8.2,null,6.8,6.8,7.2,7.2,null,5.8,5.8,6.2,6.2,null,4.8,4.8,5.2,5.2,null,3.8,3.8,4.2,4.2,null,2.8,2.8,3.2,3.2,null,1.8,1.8,2.2,2.2,null,0.8,0.8,1.2,1.2,null,-0.2,-0.2,0.2,0.2],\"type\":\"scatter\"},{\"fill\":\"toself\",\"fillcolor\":\"rgb(23, 190, 207)\",\"hoverinfo\":\"name\",\"legendgroup\":\"rgb(23, 190, 207)\",\"mode\":\"none\",\"name\":\"Job 9\",\"showlegend\":true,\"x\":[\"2020-02-01 0:02:38\",\"2020-02-01 0:03:54\",\"2020-02-01 0:03:54\",\"2020-02-01 0:02:38\",\"2020-02-01 0:02:38\",\"2020-02-01 0:04:50\",\"2020-02-01 0:05:59\",\"2020-02-01 0:05:59\",\"2020-02-01 0:04:50\",\"2020-02-01 0:04:50\",\"2020-02-01 0:08:06\",\"2020-02-01 0:09:31\",\"2020-02-01 0:09:31\",\"2020-02-01 0:08:06\",\"2020-02-01 0:08:06\",\"2020-02-01 0:05:59\",\"2020-02-01 0:07:15\",\"2020-02-01 0:07:15\",\"2020-02-01 0:05:59\",\"2020-02-01 0:05:59\",\"2020-02-01 0:14:55\",\"2020-02-01 0:15:21\",\"2020-02-01 0:15:21\",\"2020-02-01 0:14:55\",\"2020-02-01 0:14:55\",\"2020-02-01 0:07:15\",\"2020-02-01 0:08:06\",\"2020-02-01 0:08:06\",\"2020-02-01 0:07:15\",\"2020-02-01 0:07:15\",\"2020-02-01 0:11:44\",\"2020-02-01 0:12:24\",\"2020-02-01 0:12:24\",\"2020-02-01 0:11:44\",\"2020-02-01 0:11:44\",\"2020-02-01 0:13:26\",\"2020-02-01 0:14:55\",\"2020-02-01 0:14:55\",\"2020-02-01 0:13:26\",\"2020-02-01 0:13:26\",\"2020-02-01 0:16:26\",\"2020-02-01 0:17:40\",\"2020-02-01 0:17:40\",\"2020-02-01 0:16:26\",\"2020-02-01 0:16:26\",\"2020-02-01 0:09:36\",\"2020-02-01 0:09:47\",\"2020-02-01 0:09:47\",\"2020-02-01 0:09:36\"],\"y\":[8.8,8.8,9.2,9.2,null,7.8,7.8,8.2,8.2,null,6.8,6.8,7.2,7.2,null,5.8,5.8,6.2,6.2,null,4.8,4.8,5.2,5.2,null,3.8,3.8,4.2,4.2,null,2.8,2.8,3.2,3.2,null,1.8,1.8,2.2,2.2,null,0.8,0.8,1.2,1.2,null,-0.2,-0.2,0.2,0.2],\"type\":\"scatter\"},{\"fill\":\"toself\",\"fillcolor\":\"rgb(255, 127, 14)\",\"hoverinfo\":\"name\",\"legendgroup\":\"rgb(255, 127, 14)\",\"mode\":\"none\",\"name\":\"Job 10\",\"showlegend\":true,\"x\":[\"2020-02-01 0:05:05\",\"2020-02-01 0:05:18\",\"2020-02-01 0:05:18\",\"2020-02-01 0:05:05\",\"2020-02-01 0:05:05\",\"2020-02-01 0:01:21\",\"2020-02-01 0:02:46\",\"2020-02-01 0:02:46\",\"2020-02-01 0:01:21\",\"2020-02-01 0:01:21\",\"2020-02-01 0:05:18\",\"2020-02-01 0:06:19\",\"2020-02-01 0:06:19\",\"2020-02-01 0:05:18\",\"2020-02-01 0:05:18\",\"2020-02-01 0:13:41\",\"2020-02-01 0:14:33\",\"2020-02-01 0:14:33\",\"2020-02-01 0:13:41\",\"2020-02-01 0:13:41\",\"2020-02-01 0:15:21\",\"2020-02-01 0:16:51\",\"2020-02-01 0:16:51\",\"2020-02-01 0:15:21\",\"2020-02-01 0:15:21\",\"2020-02-01 0:10:42\",\"2020-02-01 0:11:29\",\"2020-02-01 0:11:29\",\"2020-02-01 0:10:42\",\"2020-02-01 0:10:42\",\"2020-02-01 0:06:46\",\"2020-02-01 0:06:53\",\"2020-02-01 0:06:53\",\"2020-02-01 0:06:46\",\"2020-02-01 0:06:46\",\"2020-02-01 0:16:56\",\"2020-02-01 0:17:41\",\"2020-02-01 0:17:41\",\"2020-02-01 0:16:56\",\"2020-02-01 0:16:56\",\"2020-02-01 0:07:05\",\"2020-02-01 0:08:09\",\"2020-02-01 0:08:09\",\"2020-02-01 0:07:05\",\"2020-02-01 0:07:05\",\"2020-02-01 0:08:09\",\"2020-02-01 0:09:25\",\"2020-02-01 0:09:25\",\"2020-02-01 0:08:09\"],\"y\":[8.8,8.8,9.2,9.2,null,7.8,7.8,8.2,8.2,null,6.8,6.8,7.2,7.2,null,5.8,5.8,6.2,6.2,null,4.8,4.8,5.2,5.2,null,3.8,3.8,4.2,4.2,null,2.8,2.8,3.2,3.2,null,1.8,1.8,2.2,2.2,null,0.8,0.8,1.2,1.2,null,-0.2,-0.2,0.2,0.2],\"type\":\"scatter\"},{\"fill\":\"toself\",\"fillcolor\":\"rgb(31, 119, 180)\",\"hoverinfo\":\"name\",\"legendgroup\":\"rgb(31, 119, 180)\",\"mode\":\"none\",\"name\":\"Job 1\",\"showlegend\":true,\"x\":[\"2020-02-01 0:00:43\",\"2020-02-01 0:01:12\",\"2020-02-01 0:01:12\",\"2020-02-01 0:00:43\",\"2020-02-01 0:00:43\",\"2020-02-01 0:03:32\",\"2020-02-01 0:04:50\",\"2020-02-01 0:04:50\",\"2020-02-01 0:03:32\",\"2020-02-01 0:03:32\",\"2020-02-01 0:06:19\",\"2020-02-01 0:06:28\",\"2020-02-01 0:06:28\",\"2020-02-01 0:06:19\",\"2020-02-01 0:06:19\",\"2020-02-01 0:08:23\",\"2020-02-01 0:08:59\",\"2020-02-01 0:08:59\",\"2020-02-01 0:08:23\",\"2020-02-01 0:08:23\",\"2020-02-01 0:08:59\",\"2020-02-01 0:09:48\",\"2020-02-01 0:09:48\",\"2020-02-01 0:08:59\",\"2020-02-01 0:08:59\",\"2020-02-01 0:10:31\",\"2020-02-01 0:10:42\",\"2020-02-01 0:10:42\",\"2020-02-01 0:10:31\",\"2020-02-01 0:10:31\",\"2020-02-01 0:10:42\",\"2020-02-01 0:11:44\",\"2020-02-01 0:11:44\",\"2020-02-01 0:10:42\",\"2020-02-01 0:10:42\",\"2020-02-01 0:11:44\",\"2020-02-01 0:12:40\",\"2020-02-01 0:12:40\",\"2020-02-01 0:11:44\",\"2020-02-01 0:11:44\",\"2020-02-01 0:14:13\",\"2020-02-01 0:14:57\",\"2020-02-01 0:14:57\",\"2020-02-01 0:14:13\",\"2020-02-01 0:14:13\",\"2020-02-01 0:15:19\",\"2020-02-01 0:15:40\",\"2020-02-01 0:15:40\",\"2020-02-01 0:15:19\"],\"y\":[8.8,8.8,9.2,9.2,null,7.8,7.8,8.2,8.2,null,6.8,6.8,7.2,7.2,null,5.8,5.8,6.2,6.2,null,4.8,4.8,5.2,5.2,null,3.8,3.8,4.2,4.2,null,2.8,2.8,3.2,3.2,null,1.8,1.8,2.2,2.2,null,0.8,0.8,1.2,1.2,null,-0.2,-0.2,0.2,0.2],\"type\":\"scatter\"},{\"fill\":\"toself\",\"fillcolor\":\"rgb(44, 160, 44)\",\"hoverinfo\":\"name\",\"legendgroup\":\"rgb(44, 160, 44)\",\"mode\":\"none\",\"name\":\"Job 2\",\"showlegend\":true,\"x\":[\"2020-02-01 0:00:00\",\"2020-02-01 0:00:43\",\"2020-02-01 0:00:43\",\"2020-02-01 0:00:00\",\"2020-02-01 0:00:00\",\"2020-02-01 0:13:41\",\"2020-02-01 0:14:09\",\"2020-02-01 0:14:09\",\"2020-02-01 0:13:41\",\"2020-02-01 0:13:41\",\"2020-02-01 0:02:56\",\"2020-02-01 0:04:26\",\"2020-02-01 0:04:26\",\"2020-02-01 0:02:56\",\"2020-02-01 0:02:56\",\"2020-02-01 0:12:32\",\"2020-02-01 0:13:41\",\"2020-02-01 0:13:41\",\"2020-02-01 0:12:32\",\"2020-02-01 0:12:32\",\"2020-02-01 0:05:18\",\"2020-02-01 0:06:33\",\"2020-02-01 0:06:33\",\"2020-02-01 0:05:18\",\"2020-02-01 0:05:18\",\"2020-02-01 0:14:55\",\"2020-02-01 0:15:41\",\"2020-02-01 0:15:41\",\"2020-02-01 0:14:55\",\"2020-02-01 0:14:55\",\"2020-02-01 0:14:09\",\"2020-02-01 0:14:55\",\"2020-02-01 0:14:55\",\"2020-02-01 0:14:09\",\"2020-02-01 0:14:09\",\"2020-02-01 0:17:41\",\"2020-02-01 0:18:53\",\"2020-02-01 0:18:53\",\"2020-02-01 0:17:41\",\"2020-02-01 0:17:41\",\"2020-02-01 0:18:53\",\"2020-02-01 0:19:23\",\"2020-02-01 0:19:23\",\"2020-02-01 0:18:53\",\"2020-02-01 0:18:53\",\"2020-02-01 0:09:25\",\"2020-02-01 0:09:36\",\"2020-02-01 0:09:36\",\"2020-02-01 0:09:25\"],\"y\":[8.8,8.8,9.2,9.2,null,7.8,7.8,8.2,8.2,null,6.8,6.8,7.2,7.2,null,5.8,5.8,6.2,6.2,null,4.8,4.8,5.2,5.2,null,3.8,3.8,4.2,4.2,null,2.8,2.8,3.2,3.2,null,1.8,1.8,2.2,2.2,null,0.8,0.8,1.2,1.2,null,-0.2,-0.2,0.2,0.2],\"type\":\"scatter\"},{\"legendgroup\":\"rgb(127, 127, 127)\",\"marker\":{\"color\":\"rgb(127, 127, 127)\",\"opacity\":0,\"size\":1},\"mode\":\"markers\",\"name\":\"\",\"showlegend\":false,\"text\":[null,null,null,null,null,null,null,null,null,null,null,null,null,null,null,null,null,null,null,null],\"x\":[\"2020-02-01 0:06:45\",\"2020-02-01 0:07:22\",\"2020-02-01 0:05:59\",\"2020-02-01 0:06:45\",\"2020-02-01 0:09:31\",\"2020-02-01 0:09:44\",\"2020-02-01 0:07:22\",\"2020-02-01 0:08:23\",\"2020-02-01 0:16:56\",\"2020-02-01 0:17:51\",\"2020-02-01 0:13:14\",\"2020-02-01 0:13:35\",\"2020-02-01 0:12:24\",\"2020-02-01 0:12:56\",\"2020-02-01 0:16:26\",\"2020-02-01 0:16:56\",\"2020-02-01 0:14:57\",\"2020-02-01 0:16:26\",\"2020-02-01 0:13:35\",\"2020-02-01 0:14:07\"],\"y\":[9,9,8,8,7,7,6,6,5,5,4,4,3,3,2,2,1,1,0,0],\"type\":\"scatter\"},{\"legendgroup\":\"rgb(140, 86, 75)\",\"marker\":{\"color\":\"rgb(140, 86, 75)\",\"opacity\":0,\"size\":1},\"mode\":\"markers\",\"name\":\"\",\"showlegend\":false,\"text\":[null,null,null,null,null,null,null,null,null,null,null,null,null,null,null,null,null,null,null,null],\"x\":[\"2020-02-01 0:07:22\",\"2020-02-01 0:07:28\",\"2020-02-01 0:08:16\",\"2020-02-01 0:08:38\",\"2020-02-01 0:00:31\",\"2020-02-01 0:00:45\",\"2020-02-01 0:12:06\",\"2020-02-01 0:12:32\",\"2020-02-01 0:12:32\",\"2020-02-01 0:13:41\",\"2020-02-01 0:08:38\",\"2020-02-01 0:09:39\",\"2020-02-01 0:17:45\",\"2020-02-01 0:18:38\",\"2020-02-01 0:14:55\",\"2020-02-01 0:15:44\",\"2020-02-01 0:13:52\",\"2020-02-01 0:14:13\",\"2020-02-01 0:16:33\",\"2020-02-01 0:17:45\"],\"y\":[9,9,8,8,7,7,6,6,5,5,4,4,3,3,2,2,1,1,0,0],\"type\":\"scatter\"},{\"legendgroup\":\"rgb(148, 103, 189)\",\"marker\":{\"color\":\"rgb(148, 103, 189)\",\"opacity\":0,\"size\":1},\"mode\":\"markers\",\"name\":\"\",\"showlegend\":false,\"text\":[null,null,null,null,null,null,null,null,null,null,null,null,null,null,null,null,null,null,null,null],\"x\":[\"2020-02-01 0:03:54\",\"2020-02-01 0:05:05\",\"2020-02-01 0:00:00\",\"2020-02-01 0:01:21\",\"2020-02-01 0:01:21\",\"2020-02-01 0:02:56\",\"2020-02-01 0:14:33\",\"2020-02-01 0:16:11\",\"2020-02-01 0:06:33\",\"2020-02-01 0:08:12\",\"2020-02-01 0:16:33\",\"2020-02-01 0:17:16\",\"2020-02-01 0:08:12\",\"2020-02-01 0:08:21\",\"2020-02-01 0:09:13\",\"2020-02-01 0:10:38\",\"2020-02-01 0:08:21\",\"2020-02-01 0:09:13\",\"2020-02-01 0:16:11\",\"2020-02-01 0:16:33\"],\"y\":[9,9,8,8,7,7,6,6,5,5,4,4,3,3,2,2,1,1,0,0],\"type\":\"scatter\"},{\"legendgroup\":\"rgb(188, 189, 34)\",\"marker\":{\"color\":\"rgb(188, 189, 34)\",\"opacity\":0,\"size\":1},\"mode\":\"markers\",\"name\":\"\",\"showlegend\":false,\"text\":[null,null,null,null,null,null,null,null,null,null,null,null,null,null,null,null,null,null,null,null],\"x\":[\"2020-02-01 0:01:12\",\"2020-02-01 0:02:38\",\"2020-02-01 0:02:46\",\"2020-02-01 0:03:32\",\"2020-02-01 0:00:00\",\"2020-02-01 0:00:31\",\"2020-02-01 0:16:11\",\"2020-02-01 0:17:30\",\"2020-02-01 0:04:46\",\"2020-02-01 0:05:18\",\"2020-02-01 0:03:32\",\"2020-02-01 0:04:46\",\"2020-02-01 0:05:18\",\"2020-02-01 0:06:46\",\"2020-02-01 0:12:40\",\"2020-02-01 0:13:16\",\"2020-02-01 0:06:46\",\"2020-02-01 0:07:05\",\"2020-02-01 0:09:47\",\"2020-02-01 0:10:35\"],\"y\":[9,9,8,8,7,7,6,6,5,5,4,4,3,3,2,2,1,1,0,0],\"type\":\"scatter\"},{\"legendgroup\":\"rgb(214, 39, 40)\",\"marker\":{\"color\":\"rgb(214, 39, 40)\",\"opacity\":0,\"size\":1},\"mode\":\"markers\",\"name\":\"\",\"showlegend\":false,\"text\":[null,null,null,null,null,null,null,null,null,null,null,null,null,null,null,null,null,null,null,null],\"x\":[\"2020-02-01 0:08:16\",\"2020-02-01 0:09:41\",\"2020-02-01 0:06:45\",\"2020-02-01 0:08:16\",\"2020-02-01 0:10:20\",\"2020-02-01 0:11:34\",\"2020-02-01 0:09:41\",\"2020-02-01 0:10:20\",\"2020-02-01 0:18:30\",\"2020-02-01 0:19:03\",\"2020-02-01 0:13:04\",\"2020-02-01 0:13:14\",\"2020-02-01 0:14:55\",\"2020-02-01 0:16:24\",\"2020-02-01 0:13:16\",\"2020-02-01 0:13:26\",\"2020-02-01 0:11:34\",\"2020-02-01 0:13:04\",\"2020-02-01 0:17:45\",\"2020-02-01 0:18:30\"],\"y\":[9,9,8,8,7,7,6,6,5,5,4,4,3,3,2,2,1,1,0,0],\"type\":\"scatter\"},{\"legendgroup\":\"rgb(227, 119, 194)\",\"marker\":{\"color\":\"rgb(227, 119, 194)\",\"opacity\":0,\"size\":1},\"mode\":\"markers\",\"name\":\"\",\"showlegend\":false,\"text\":[null,null,null,null,null,null,null,null,null,null,null,null,null,null,null,null,null,null,null,null],\"x\":[\"2020-02-01 0:15:19\",\"2020-02-01 0:16:06\",\"2020-02-01 0:08:38\",\"2020-02-01 0:08:40\",\"2020-02-01 0:06:28\",\"2020-02-01 0:07:52\",\"2020-02-01 0:10:31\",\"2020-02-01 0:12:06\",\"2020-02-01 0:17:51\",\"2020-02-01 0:17:57\",\"2020-02-01 0:09:39\",\"2020-02-01 0:10:31\",\"2020-02-01 0:16:24\",\"2020-02-01 0:17:29\",\"2020-02-01 0:18:53\",\"2020-02-01 0:19:18\",\"2020-02-01 0:13:04\",\"2020-02-01 0:13:52\",\"2020-02-01 0:14:07\",\"2020-02-01 0:15:19\"],\"y\":[9,9,8,8,7,7,6,6,5,5,4,4,3,3,2,2,1,1,0,0],\"type\":\"scatter\"},{\"legendgroup\":\"rgb(23, 190, 207)\",\"marker\":{\"color\":\"rgb(23, 190, 207)\",\"opacity\":0,\"size\":1},\"mode\":\"markers\",\"name\":\"\",\"showlegend\":false,\"text\":[null,null,null,null,null,null,null,null,null,null,null,null,null,null,null,null,null,null,null,null],\"x\":[\"2020-02-01 0:02:38\",\"2020-02-01 0:03:54\",\"2020-02-01 0:04:50\",\"2020-02-01 0:05:59\",\"2020-02-01 0:08:06\",\"2020-02-01 0:09:31\",\"2020-02-01 0:05:59\",\"2020-02-01 0:07:15\",\"2020-02-01 0:14:55\",\"2020-02-01 0:15:21\",\"2020-02-01 0:07:15\",\"2020-02-01 0:08:06\",\"2020-02-01 0:11:44\",\"2020-02-01 0:12:24\",\"2020-02-01 0:13:26\",\"2020-02-01 0:14:55\",\"2020-02-01 0:16:26\",\"2020-02-01 0:17:40\",\"2020-02-01 0:09:36\",\"2020-02-01 0:09:47\"],\"y\":[9,9,8,8,7,7,6,6,5,5,4,4,3,3,2,2,1,1,0,0],\"type\":\"scatter\"},{\"legendgroup\":\"rgb(255, 127, 14)\",\"marker\":{\"color\":\"rgb(255, 127, 14)\",\"opacity\":0,\"size\":1},\"mode\":\"markers\",\"name\":\"\",\"showlegend\":false,\"text\":[null,null,null,null,null,null,null,null,null,null,null,null,null,null,null,null,null,null,null,null],\"x\":[\"2020-02-01 0:05:05\",\"2020-02-01 0:05:18\",\"2020-02-01 0:01:21\",\"2020-02-01 0:02:46\",\"2020-02-01 0:05:18\",\"2020-02-01 0:06:19\",\"2020-02-01 0:13:41\",\"2020-02-01 0:14:33\",\"2020-02-01 0:15:21\",\"2020-02-01 0:16:51\",\"2020-02-01 0:10:42\",\"2020-02-01 0:11:29\",\"2020-02-01 0:06:46\",\"2020-02-01 0:06:53\",\"2020-02-01 0:16:56\",\"2020-02-01 0:17:41\",\"2020-02-01 0:07:05\",\"2020-02-01 0:08:09\",\"2020-02-01 0:08:09\",\"2020-02-01 0:09:25\"],\"y\":[9,9,8,8,7,7,6,6,5,5,4,4,3,3,2,2,1,1,0,0],\"type\":\"scatter\"},{\"legendgroup\":\"rgb(31, 119, 180)\",\"marker\":{\"color\":\"rgb(31, 119, 180)\",\"opacity\":0,\"size\":1},\"mode\":\"markers\",\"name\":\"\",\"showlegend\":false,\"text\":[null,null,null,null,null,null,null,null,null,null,null,null,null,null,null,null,null,null,null,null],\"x\":[\"2020-02-01 0:00:43\",\"2020-02-01 0:01:12\",\"2020-02-01 0:03:32\",\"2020-02-01 0:04:50\",\"2020-02-01 0:06:19\",\"2020-02-01 0:06:28\",\"2020-02-01 0:08:23\",\"2020-02-01 0:08:59\",\"2020-02-01 0:08:59\",\"2020-02-01 0:09:48\",\"2020-02-01 0:10:31\",\"2020-02-01 0:10:42\",\"2020-02-01 0:10:42\",\"2020-02-01 0:11:44\",\"2020-02-01 0:11:44\",\"2020-02-01 0:12:40\",\"2020-02-01 0:14:13\",\"2020-02-01 0:14:57\",\"2020-02-01 0:15:19\",\"2020-02-01 0:15:40\"],\"y\":[9,9,8,8,7,7,6,6,5,5,4,4,3,3,2,2,1,1,0,0],\"type\":\"scatter\"},{\"legendgroup\":\"rgb(44, 160, 44)\",\"marker\":{\"color\":\"rgb(44, 160, 44)\",\"opacity\":0,\"size\":1},\"mode\":\"markers\",\"name\":\"\",\"showlegend\":false,\"text\":[null,null,null,null,null,null,null,null,null,null,null,null,null,null,null,null,null,null,null,null],\"x\":[\"2020-02-01 0:00:00\",\"2020-02-01 0:00:43\",\"2020-02-01 0:13:41\",\"2020-02-01 0:14:09\",\"2020-02-01 0:02:56\",\"2020-02-01 0:04:26\",\"2020-02-01 0:12:32\",\"2020-02-01 0:13:41\",\"2020-02-01 0:05:18\",\"2020-02-01 0:06:33\",\"2020-02-01 0:14:55\",\"2020-02-01 0:15:41\",\"2020-02-01 0:14:09\",\"2020-02-01 0:14:55\",\"2020-02-01 0:17:41\",\"2020-02-01 0:18:53\",\"2020-02-01 0:18:53\",\"2020-02-01 0:19:23\",\"2020-02-01 0:09:25\",\"2020-02-01 0:09:36\"],\"y\":[9,9,8,8,7,7,6,6,5,5,4,4,3,3,2,2,1,1,0,0],\"type\":\"scatter\"}],                        {\"height\":600,\"hovermode\":\"closest\",\"showlegend\":true,\"title\":{\"text\":\"Job shop Schedule\"},\"xaxis\":{\"rangeselector\":{\"buttons\":[{\"count\":7,\"label\":\"1w\",\"step\":\"day\",\"stepmode\":\"backward\"},{\"count\":1,\"label\":\"1m\",\"step\":\"month\",\"stepmode\":\"backward\"},{\"count\":6,\"label\":\"6m\",\"step\":\"month\",\"stepmode\":\"backward\"},{\"count\":1,\"label\":\"YTD\",\"step\":\"year\",\"stepmode\":\"todate\"},{\"count\":1,\"label\":\"1y\",\"step\":\"year\",\"stepmode\":\"backward\"},{\"step\":\"all\"}]},\"showgrid\":true,\"type\":\"date\",\"zeroline\":false},\"yaxis\":{\"autorange\":false,\"range\":[-1,11],\"showgrid\":false,\"ticktext\":[\"Machine 10\",\"Machine 9\",\"Machine 8\",\"Machine 7\",\"Machine 6\",\"Machine 5\",\"Machine 4\",\"Machine 3\",\"Machine 2\",\"Machine 1\"],\"tickvals\":[0,1,2,3,4,5,6,7,8,9],\"zeroline\":false},\"template\":{\"data\":{\"bar\":[{\"error_x\":{\"color\":\"#2a3f5f\"},\"error_y\":{\"color\":\"#2a3f5f\"},\"marker\":{\"line\":{\"color\":\"#E5ECF6\",\"width\":0.5},\"pattern\":{\"fillmode\":\"overlay\",\"size\":10,\"solidity\":0.2}},\"type\":\"bar\"}],\"barpolar\":[{\"marker\":{\"line\":{\"color\":\"#E5ECF6\",\"width\":0.5},\"pattern\":{\"fillmode\":\"overlay\",\"size\":10,\"solidity\":0.2}},\"type\":\"barpolar\"}],\"carpet\":[{\"aaxis\":{\"endlinecolor\":\"#2a3f5f\",\"gridcolor\":\"white\",\"linecolor\":\"white\",\"minorgridcolor\":\"white\",\"startlinecolor\":\"#2a3f5f\"},\"baxis\":{\"endlinecolor\":\"#2a3f5f\",\"gridcolor\":\"white\",\"linecolor\":\"white\",\"minorgridcolor\":\"white\",\"startlinecolor\":\"#2a3f5f\"},\"type\":\"carpet\"}],\"choropleth\":[{\"colorbar\":{\"outlinewidth\":0,\"ticks\":\"\"},\"type\":\"choropleth\"}],\"contour\":[{\"colorbar\":{\"outlinewidth\":0,\"ticks\":\"\"},\"colorscale\":[[0.0,\"#0d0887\"],[0.1111111111111111,\"#46039f\"],[0.2222222222222222,\"#7201a8\"],[0.3333333333333333,\"#9c179e\"],[0.4444444444444444,\"#bd3786\"],[0.5555555555555556,\"#d8576b\"],[0.6666666666666666,\"#ed7953\"],[0.7777777777777778,\"#fb9f3a\"],[0.8888888888888888,\"#fdca26\"],[1.0,\"#f0f921\"]],\"type\":\"contour\"}],\"contourcarpet\":[{\"colorbar\":{\"outlinewidth\":0,\"ticks\":\"\"},\"type\":\"contourcarpet\"}],\"heatmap\":[{\"colorbar\":{\"outlinewidth\":0,\"ticks\":\"\"},\"colorscale\":[[0.0,\"#0d0887\"],[0.1111111111111111,\"#46039f\"],[0.2222222222222222,\"#7201a8\"],[0.3333333333333333,\"#9c179e\"],[0.4444444444444444,\"#bd3786\"],[0.5555555555555556,\"#d8576b\"],[0.6666666666666666,\"#ed7953\"],[0.7777777777777778,\"#fb9f3a\"],[0.8888888888888888,\"#fdca26\"],[1.0,\"#f0f921\"]],\"type\":\"heatmap\"}],\"heatmapgl\":[{\"colorbar\":{\"outlinewidth\":0,\"ticks\":\"\"},\"colorscale\":[[0.0,\"#0d0887\"],[0.1111111111111111,\"#46039f\"],[0.2222222222222222,\"#7201a8\"],[0.3333333333333333,\"#9c179e\"],[0.4444444444444444,\"#bd3786\"],[0.5555555555555556,\"#d8576b\"],[0.6666666666666666,\"#ed7953\"],[0.7777777777777778,\"#fb9f3a\"],[0.8888888888888888,\"#fdca26\"],[1.0,\"#f0f921\"]],\"type\":\"heatmapgl\"}],\"histogram\":[{\"marker\":{\"pattern\":{\"fillmode\":\"overlay\",\"size\":10,\"solidity\":0.2}},\"type\":\"histogram\"}],\"histogram2d\":[{\"colorbar\":{\"outlinewidth\":0,\"ticks\":\"\"},\"colorscale\":[[0.0,\"#0d0887\"],[0.1111111111111111,\"#46039f\"],[0.2222222222222222,\"#7201a8\"],[0.3333333333333333,\"#9c179e\"],[0.4444444444444444,\"#bd3786\"],[0.5555555555555556,\"#d8576b\"],[0.6666666666666666,\"#ed7953\"],[0.7777777777777778,\"#fb9f3a\"],[0.8888888888888888,\"#fdca26\"],[1.0,\"#f0f921\"]],\"type\":\"histogram2d\"}],\"histogram2dcontour\":[{\"colorbar\":{\"outlinewidth\":0,\"ticks\":\"\"},\"colorscale\":[[0.0,\"#0d0887\"],[0.1111111111111111,\"#46039f\"],[0.2222222222222222,\"#7201a8\"],[0.3333333333333333,\"#9c179e\"],[0.4444444444444444,\"#bd3786\"],[0.5555555555555556,\"#d8576b\"],[0.6666666666666666,\"#ed7953\"],[0.7777777777777778,\"#fb9f3a\"],[0.8888888888888888,\"#fdca26\"],[1.0,\"#f0f921\"]],\"type\":\"histogram2dcontour\"}],\"mesh3d\":[{\"colorbar\":{\"outlinewidth\":0,\"ticks\":\"\"},\"type\":\"mesh3d\"}],\"parcoords\":[{\"line\":{\"colorbar\":{\"outlinewidth\":0,\"ticks\":\"\"}},\"type\":\"parcoords\"}],\"pie\":[{\"automargin\":true,\"type\":\"pie\"}],\"scatter\":[{\"marker\":{\"colorbar\":{\"outlinewidth\":0,\"ticks\":\"\"}},\"type\":\"scatter\"}],\"scatter3d\":[{\"line\":{\"colorbar\":{\"outlinewidth\":0,\"ticks\":\"\"}},\"marker\":{\"colorbar\":{\"outlinewidth\":0,\"ticks\":\"\"}},\"type\":\"scatter3d\"}],\"scattercarpet\":[{\"marker\":{\"colorbar\":{\"outlinewidth\":0,\"ticks\":\"\"}},\"type\":\"scattercarpet\"}],\"scattergeo\":[{\"marker\":{\"colorbar\":{\"outlinewidth\":0,\"ticks\":\"\"}},\"type\":\"scattergeo\"}],\"scattergl\":[{\"marker\":{\"colorbar\":{\"outlinewidth\":0,\"ticks\":\"\"}},\"type\":\"scattergl\"}],\"scattermapbox\":[{\"marker\":{\"colorbar\":{\"outlinewidth\":0,\"ticks\":\"\"}},\"type\":\"scattermapbox\"}],\"scatterpolar\":[{\"marker\":{\"colorbar\":{\"outlinewidth\":0,\"ticks\":\"\"}},\"type\":\"scatterpolar\"}],\"scatterpolargl\":[{\"marker\":{\"colorbar\":{\"outlinewidth\":0,\"ticks\":\"\"}},\"type\":\"scatterpolargl\"}],\"scatterternary\":[{\"marker\":{\"colorbar\":{\"outlinewidth\":0,\"ticks\":\"\"}},\"type\":\"scatterternary\"}],\"surface\":[{\"colorbar\":{\"outlinewidth\":0,\"ticks\":\"\"},\"colorscale\":[[0.0,\"#0d0887\"],[0.1111111111111111,\"#46039f\"],[0.2222222222222222,\"#7201a8\"],[0.3333333333333333,\"#9c179e\"],[0.4444444444444444,\"#bd3786\"],[0.5555555555555556,\"#d8576b\"],[0.6666666666666666,\"#ed7953\"],[0.7777777777777778,\"#fb9f3a\"],[0.8888888888888888,\"#fdca26\"],[1.0,\"#f0f921\"]],\"type\":\"surface\"}],\"table\":[{\"cells\":{\"fill\":{\"color\":\"#EBF0F8\"},\"line\":{\"color\":\"white\"}},\"header\":{\"fill\":{\"color\":\"#C8D4E3\"},\"line\":{\"color\":\"white\"}},\"type\":\"table\"}]},\"layout\":{\"annotationdefaults\":{\"arrowcolor\":\"#2a3f5f\",\"arrowhead\":0,\"arrowwidth\":1},\"autotypenumbers\":\"strict\",\"coloraxis\":{\"colorbar\":{\"outlinewidth\":0,\"ticks\":\"\"}},\"colorscale\":{\"diverging\":[[0,\"#8e0152\"],[0.1,\"#c51b7d\"],[0.2,\"#de77ae\"],[0.3,\"#f1b6da\"],[0.4,\"#fde0ef\"],[0.5,\"#f7f7f7\"],[0.6,\"#e6f5d0\"],[0.7,\"#b8e186\"],[0.8,\"#7fbc41\"],[0.9,\"#4d9221\"],[1,\"#276419\"]],\"sequential\":[[0.0,\"#0d0887\"],[0.1111111111111111,\"#46039f\"],[0.2222222222222222,\"#7201a8\"],[0.3333333333333333,\"#9c179e\"],[0.4444444444444444,\"#bd3786\"],[0.5555555555555556,\"#d8576b\"],[0.6666666666666666,\"#ed7953\"],[0.7777777777777778,\"#fb9f3a\"],[0.8888888888888888,\"#fdca26\"],[1.0,\"#f0f921\"]],\"sequentialminus\":[[0.0,\"#0d0887\"],[0.1111111111111111,\"#46039f\"],[0.2222222222222222,\"#7201a8\"],[0.3333333333333333,\"#9c179e\"],[0.4444444444444444,\"#bd3786\"],[0.5555555555555556,\"#d8576b\"],[0.6666666666666666,\"#ed7953\"],[0.7777777777777778,\"#fb9f3a\"],[0.8888888888888888,\"#fdca26\"],[1.0,\"#f0f921\"]]},\"colorway\":[\"#636efa\",\"#EF553B\",\"#00cc96\",\"#ab63fa\",\"#FFA15A\",\"#19d3f3\",\"#FF6692\",\"#B6E880\",\"#FF97FF\",\"#FECB52\"],\"font\":{\"color\":\"#2a3f5f\"},\"geo\":{\"bgcolor\":\"white\",\"lakecolor\":\"white\",\"landcolor\":\"#E5ECF6\",\"showlakes\":true,\"showland\":true,\"subunitcolor\":\"white\"},\"hoverlabel\":{\"align\":\"left\"},\"hovermode\":\"closest\",\"mapbox\":{\"style\":\"light\"},\"paper_bgcolor\":\"white\",\"plot_bgcolor\":\"#E5ECF6\",\"polar\":{\"angularaxis\":{\"gridcolor\":\"white\",\"linecolor\":\"white\",\"ticks\":\"\"},\"bgcolor\":\"#E5ECF6\",\"radialaxis\":{\"gridcolor\":\"white\",\"linecolor\":\"white\",\"ticks\":\"\"}},\"scene\":{\"xaxis\":{\"backgroundcolor\":\"#E5ECF6\",\"gridcolor\":\"white\",\"gridwidth\":2,\"linecolor\":\"white\",\"showbackground\":true,\"ticks\":\"\",\"zerolinecolor\":\"white\"},\"yaxis\":{\"backgroundcolor\":\"#E5ECF6\",\"gridcolor\":\"white\",\"gridwidth\":2,\"linecolor\":\"white\",\"showbackground\":true,\"ticks\":\"\",\"zerolinecolor\":\"white\"},\"zaxis\":{\"backgroundcolor\":\"#E5ECF6\",\"gridcolor\":\"white\",\"gridwidth\":2,\"linecolor\":\"white\",\"showbackground\":true,\"ticks\":\"\",\"zerolinecolor\":\"white\"}},\"shapedefaults\":{\"line\":{\"color\":\"#2a3f5f\"}},\"ternary\":{\"aaxis\":{\"gridcolor\":\"white\",\"linecolor\":\"white\",\"ticks\":\"\"},\"baxis\":{\"gridcolor\":\"white\",\"linecolor\":\"white\",\"ticks\":\"\"},\"bgcolor\":\"#E5ECF6\",\"caxis\":{\"gridcolor\":\"white\",\"linecolor\":\"white\",\"ticks\":\"\"}},\"title\":{\"x\":0.05},\"xaxis\":{\"automargin\":true,\"gridcolor\":\"white\",\"linecolor\":\"white\",\"ticks\":\"\",\"title\":{\"standoff\":15},\"zerolinecolor\":\"white\",\"zerolinewidth\":2},\"yaxis\":{\"automargin\":true,\"gridcolor\":\"white\",\"linecolor\":\"white\",\"ticks\":\"\",\"title\":{\"standoff\":15},\"zerolinecolor\":\"white\",\"zerolinewidth\":2}}}},                        {\"responsive\": true}                    ).then(function(){\n",
              "                            \n",
              "var gd = document.getElementById('380ec4a2-8d35-4e46-bf76-21d189f23dfe');\n",
              "var x = new MutationObserver(function (mutations, observer) {{\n",
              "        var display = window.getComputedStyle(gd).display;\n",
              "        if (!display || display === 'none') {{\n",
              "            console.log([gd, 'removed!']);\n",
              "            Plotly.purge(gd);\n",
              "            observer.disconnect();\n",
              "        }}\n",
              "}});\n",
              "\n",
              "// Listen for the removal of the full notebook cells\n",
              "var notebookContainer = gd.closest('#notebook-container');\n",
              "if (notebookContainer) {{\n",
              "    x.observe(notebookContainer, {childList: true});\n",
              "}}\n",
              "\n",
              "// Listen for the clearing of the current output cell\n",
              "var outputEl = gd.closest('.output');\n",
              "if (outputEl) {{\n",
              "    x.observe(outputEl, {childList: true});\n",
              "}}\n",
              "\n",
              "                        })                };                            </script>        </div>\n",
              "</body>\n",
              "</html>"
            ]
          },
          "metadata": {}
        }
      ]
    }
  ]
}